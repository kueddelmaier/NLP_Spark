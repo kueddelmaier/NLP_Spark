{
 "cells": [
  {
   "cell_type": "markdown",
   "metadata": {},
   "source": [
    "# Notebook to calculate Statistics"
   ]
  },
  {
   "cell_type": "markdown",
   "metadata": {},
   "source": [
    "### Import the libraries###"
   ]
  },
  {
   "cell_type": "code",
   "execution_count": 83,
   "metadata": {},
   "outputs": [],
   "source": [
    "import json\n",
    "import sys\n",
    "import pandas as pd\n",
    "import collections \n",
    "import os\n",
    "import numpy as np\n",
    "from itertools import chain\n",
    "from itertools import combinations\n",
    "#sys.path.append('/home/jkuettel/NLP_spark/src')\n",
    "#sys.path.append('/home/jkuettel/NLP_spark')\n",
    "sys.path.append('/Users/l.kaack/Documents/Policy_coding/NLP_Spark/')\n",
    "from src.experiment_utils.helper_classes import token, span, repository\n",
    "from src.d02_corpus_statistics.corpus import Corpus\n",
    "from definitions import ROOT_DIR\n",
    "from pyannote.core import Segment"
   ]
  },
  {
   "cell_type": "markdown",
   "metadata": {},
   "source": [
    "## Small Tutorial\n",
    "\n"
   ]
  },
  {
   "cell_type": "markdown",
   "metadata": {},
   "source": [
    "### Classes and Dataframe"
   ]
  },
  {
   "cell_type": "markdown",
   "metadata": {},
   "source": [
    "All the information is now stored in a dataframe called \"stat_df\" containing the string of the directory path, the raw text, and all the annotations (in form of list of spans) starting with the Curation:"
   ]
  },
  {
   "cell_type": "code",
   "execution_count": 128,
   "metadata": {},
   "outputs": [
    {
     "data": {
      "text/html": [
       "<div>\n",
       "<style scoped>\n",
       "    .dataframe tbody tr th:only-of-type {\n",
       "        vertical-align: middle;\n",
       "    }\n",
       "\n",
       "    .dataframe tbody tr th {\n",
       "        vertical-align: top;\n",
       "    }\n",
       "\n",
       "    .dataframe thead th {\n",
       "        text-align: right;\n",
       "    }\n",
       "</style>\n",
       "<table border=\"1\" class=\"dataframe\">\n",
       "  <thead>\n",
       "    <tr style=\"text-align: right;\">\n",
       "      <th></th>\n",
       "      <th>Policy</th>\n",
       "      <th>Text</th>\n",
       "      <th>Tokens</th>\n",
       "      <th>Article_State</th>\n",
       "      <th>Finished_Annotators</th>\n",
       "      <th>Curation</th>\n",
       "      <th>Alisha</th>\n",
       "      <th>Fride</th>\n",
       "      <th>Onerva</th>\n",
       "      <th>Fabian</th>\n",
       "      <th>Sebastian</th>\n",
       "      <th>Lynn</th>\n",
       "      <th>Joel</th>\n",
       "    </tr>\n",
       "  </thead>\n",
       "  <tbody>\n",
       "    <tr>\n",
       "      <th>EU_32018R1999_Title_0_Chapter_3_Section_0_Article_15</th>\n",
       "      <td></td>\n",
       "      <td>article 15\\r\\nlong-term strategies\\r\\n1.   by ...</td>\n",
       "      <td>[start:0 stop:7 text:article tag_count:0, star...</td>\n",
       "      <td>CURATION_FINISHED</td>\n",
       "      <td>[Alisha, Fride]</td>\n",
       "      <td>[annotator:Curation layer:Instrumenttypes type...</td>\n",
       "      <td>[annotator:Alisha layer:Instrumenttypes type:I...</td>\n",
       "      <td>[annotator:Fride layer:Instrumenttypes type:In...</td>\n",
       "      <td></td>\n",
       "      <td></td>\n",
       "      <td></td>\n",
       "      <td></td>\n",
       "      <td></td>\n",
       "    </tr>\n",
       "    <tr>\n",
       "      <th>EU_32009L0028_Title_0_Chapter_0_Section_0_Article_19</th>\n",
       "      <td></td>\n",
       "      <td>article 19\\r\\ncalculation of the greenhouse ga...</td>\n",
       "      <td>[start:0 stop:7 text:article tag_count:0, star...</td>\n",
       "      <td>CURATION_FINISHED</td>\n",
       "      <td>[Alisha, Fabian]</td>\n",
       "      <td>[annotator:Curation layer:Instrumenttypes type...</td>\n",
       "      <td>[annotator:Alisha layer:Instrumenttypes type:I...</td>\n",
       "      <td></td>\n",
       "      <td>[]</td>\n",
       "      <td>[annotator:Fabian layer:Instrumenttypes type:I...</td>\n",
       "      <td></td>\n",
       "      <td></td>\n",
       "      <td></td>\n",
       "    </tr>\n",
       "    <tr>\n",
       "      <th>EU_32009L0028_Title_0_Chapter_0_Section_0_Article_25</th>\n",
       "      <td></td>\n",
       "      <td>article 25\\r\\ncommittees\\r\\n1.   except in the...</td>\n",
       "      <td>[start:0 stop:7 text:article tag_count:0, star...</td>\n",
       "      <td>CURATION_FINISHED</td>\n",
       "      <td>[Alisha, Fabian]</td>\n",
       "      <td>[annotator:Curation layer:Policydesigncharacte...</td>\n",
       "      <td>[annotator:Alisha layer:Policydesigncharacteri...</td>\n",
       "      <td></td>\n",
       "      <td>[]</td>\n",
       "      <td>[annotator:Fabian layer:Policydesigncharacteri...</td>\n",
       "      <td></td>\n",
       "      <td></td>\n",
       "      <td></td>\n",
       "    </tr>\n",
       "    <tr>\n",
       "      <th>EU_32019L0944_Title_0_Chapter_2_Section_0_Article_09</th>\n",
       "      <td></td>\n",
       "      <td>article 9\\r\\npublic service obligations\\r\\n1. ...</td>\n",
       "      <td>[start:0 stop:7 text:article tag_count:0, star...</td>\n",
       "      <td>CURATION_FINISHED</td>\n",
       "      <td>[Alisha, Fabian]</td>\n",
       "      <td>[annotator:Curation layer:Instrumenttypes type...</td>\n",
       "      <td>[annotator:Alisha layer:Instrumenttypes type:I...</td>\n",
       "      <td></td>\n",
       "      <td>[]</td>\n",
       "      <td>[annotator:Fabian layer:Instrumenttypes type:I...</td>\n",
       "      <td></td>\n",
       "      <td></td>\n",
       "      <td></td>\n",
       "    </tr>\n",
       "    <tr>\n",
       "      <th>EU_32019L0944_Title_0_Chapter_2_Section_0_Article_08</th>\n",
       "      <td></td>\n",
       "      <td>article 8\\r\\nauthorisation procedure for new c...</td>\n",
       "      <td>[start:0 stop:7 text:article tag_count:0, star...</td>\n",
       "      <td>CURATION_FINISHED</td>\n",
       "      <td>[Alisha, Fabian]</td>\n",
       "      <td>[annotator:Curation layer:Instrumenttypes type...</td>\n",
       "      <td>[annotator:Alisha layer:Instrumenttypes type:I...</td>\n",
       "      <td></td>\n",
       "      <td>[]</td>\n",
       "      <td>[annotator:Fabian layer:Instrumenttypes type:I...</td>\n",
       "      <td></td>\n",
       "      <td></td>\n",
       "      <td></td>\n",
       "    </tr>\n",
       "  </tbody>\n",
       "</table>\n",
       "</div>"
      ],
      "text/plain": [
       "                                                   Policy  \\\n",
       "EU_32018R1999_Title_0_Chapter_3_Section_0_Artic...          \n",
       "EU_32009L0028_Title_0_Chapter_0_Section_0_Artic...          \n",
       "EU_32009L0028_Title_0_Chapter_0_Section_0_Artic...          \n",
       "EU_32019L0944_Title_0_Chapter_2_Section_0_Artic...          \n",
       "EU_32019L0944_Title_0_Chapter_2_Section_0_Artic...          \n",
       "\n",
       "                                                                                                 Text  \\\n",
       "EU_32018R1999_Title_0_Chapter_3_Section_0_Artic...  article 15\\r\\nlong-term strategies\\r\\n1.   by ...   \n",
       "EU_32009L0028_Title_0_Chapter_0_Section_0_Artic...  article 19\\r\\ncalculation of the greenhouse ga...   \n",
       "EU_32009L0028_Title_0_Chapter_0_Section_0_Artic...  article 25\\r\\ncommittees\\r\\n1.   except in the...   \n",
       "EU_32019L0944_Title_0_Chapter_2_Section_0_Artic...  article 9\\r\\npublic service obligations\\r\\n1. ...   \n",
       "EU_32019L0944_Title_0_Chapter_2_Section_0_Artic...  article 8\\r\\nauthorisation procedure for new c...   \n",
       "\n",
       "                                                                                               Tokens  \\\n",
       "EU_32018R1999_Title_0_Chapter_3_Section_0_Artic...  [start:0 stop:7 text:article tag_count:0, star...   \n",
       "EU_32009L0028_Title_0_Chapter_0_Section_0_Artic...  [start:0 stop:7 text:article tag_count:0, star...   \n",
       "EU_32009L0028_Title_0_Chapter_0_Section_0_Artic...  [start:0 stop:7 text:article tag_count:0, star...   \n",
       "EU_32019L0944_Title_0_Chapter_2_Section_0_Artic...  [start:0 stop:7 text:article tag_count:0, star...   \n",
       "EU_32019L0944_Title_0_Chapter_2_Section_0_Artic...  [start:0 stop:7 text:article tag_count:0, star...   \n",
       "\n",
       "                                                        Article_State  \\\n",
       "EU_32018R1999_Title_0_Chapter_3_Section_0_Artic...  CURATION_FINISHED   \n",
       "EU_32009L0028_Title_0_Chapter_0_Section_0_Artic...  CURATION_FINISHED   \n",
       "EU_32009L0028_Title_0_Chapter_0_Section_0_Artic...  CURATION_FINISHED   \n",
       "EU_32019L0944_Title_0_Chapter_2_Section_0_Artic...  CURATION_FINISHED   \n",
       "EU_32019L0944_Title_0_Chapter_2_Section_0_Artic...  CURATION_FINISHED   \n",
       "\n",
       "                                                   Finished_Annotators  \\\n",
       "EU_32018R1999_Title_0_Chapter_3_Section_0_Artic...     [Alisha, Fride]   \n",
       "EU_32009L0028_Title_0_Chapter_0_Section_0_Artic...    [Alisha, Fabian]   \n",
       "EU_32009L0028_Title_0_Chapter_0_Section_0_Artic...    [Alisha, Fabian]   \n",
       "EU_32019L0944_Title_0_Chapter_2_Section_0_Artic...    [Alisha, Fabian]   \n",
       "EU_32019L0944_Title_0_Chapter_2_Section_0_Artic...    [Alisha, Fabian]   \n",
       "\n",
       "                                                                                             Curation  \\\n",
       "EU_32018R1999_Title_0_Chapter_3_Section_0_Artic...  [annotator:Curation layer:Instrumenttypes type...   \n",
       "EU_32009L0028_Title_0_Chapter_0_Section_0_Artic...  [annotator:Curation layer:Instrumenttypes type...   \n",
       "EU_32009L0028_Title_0_Chapter_0_Section_0_Artic...  [annotator:Curation layer:Policydesigncharacte...   \n",
       "EU_32019L0944_Title_0_Chapter_2_Section_0_Artic...  [annotator:Curation layer:Instrumenttypes type...   \n",
       "EU_32019L0944_Title_0_Chapter_2_Section_0_Artic...  [annotator:Curation layer:Instrumenttypes type...   \n",
       "\n",
       "                                                                                               Alisha  \\\n",
       "EU_32018R1999_Title_0_Chapter_3_Section_0_Artic...  [annotator:Alisha layer:Instrumenttypes type:I...   \n",
       "EU_32009L0028_Title_0_Chapter_0_Section_0_Artic...  [annotator:Alisha layer:Instrumenttypes type:I...   \n",
       "EU_32009L0028_Title_0_Chapter_0_Section_0_Artic...  [annotator:Alisha layer:Policydesigncharacteri...   \n",
       "EU_32019L0944_Title_0_Chapter_2_Section_0_Artic...  [annotator:Alisha layer:Instrumenttypes type:I...   \n",
       "EU_32019L0944_Title_0_Chapter_2_Section_0_Artic...  [annotator:Alisha layer:Instrumenttypes type:I...   \n",
       "\n",
       "                                                                                                Fride  \\\n",
       "EU_32018R1999_Title_0_Chapter_3_Section_0_Artic...  [annotator:Fride layer:Instrumenttypes type:In...   \n",
       "EU_32009L0028_Title_0_Chapter_0_Section_0_Artic...                                                      \n",
       "EU_32009L0028_Title_0_Chapter_0_Section_0_Artic...                                                      \n",
       "EU_32019L0944_Title_0_Chapter_2_Section_0_Artic...                                                      \n",
       "EU_32019L0944_Title_0_Chapter_2_Section_0_Artic...                                                      \n",
       "\n",
       "                                                   Onerva  \\\n",
       "EU_32018R1999_Title_0_Chapter_3_Section_0_Artic...          \n",
       "EU_32009L0028_Title_0_Chapter_0_Section_0_Artic...     []   \n",
       "EU_32009L0028_Title_0_Chapter_0_Section_0_Artic...     []   \n",
       "EU_32019L0944_Title_0_Chapter_2_Section_0_Artic...     []   \n",
       "EU_32019L0944_Title_0_Chapter_2_Section_0_Artic...     []   \n",
       "\n",
       "                                                                                               Fabian  \\\n",
       "EU_32018R1999_Title_0_Chapter_3_Section_0_Artic...                                                      \n",
       "EU_32009L0028_Title_0_Chapter_0_Section_0_Artic...  [annotator:Fabian layer:Instrumenttypes type:I...   \n",
       "EU_32009L0028_Title_0_Chapter_0_Section_0_Artic...  [annotator:Fabian layer:Policydesigncharacteri...   \n",
       "EU_32019L0944_Title_0_Chapter_2_Section_0_Artic...  [annotator:Fabian layer:Instrumenttypes type:I...   \n",
       "EU_32019L0944_Title_0_Chapter_2_Section_0_Artic...  [annotator:Fabian layer:Instrumenttypes type:I...   \n",
       "\n",
       "                                                   Sebastian Lynn Joel  \n",
       "EU_32018R1999_Title_0_Chapter_3_Section_0_Artic...                      \n",
       "EU_32009L0028_Title_0_Chapter_0_Section_0_Artic...                      \n",
       "EU_32009L0028_Title_0_Chapter_0_Section_0_Artic...                      \n",
       "EU_32019L0944_Title_0_Chapter_2_Section_0_Artic...                      \n",
       "EU_32019L0944_Title_0_Chapter_2_Section_0_Artic...                      "
      ]
     },
     "execution_count": 128,
     "metadata": {},
     "output_type": "execute_result"
    }
   ],
   "source": [
    "    \n",
    "dataframe_dir = os.path.join(ROOT_DIR,'data/02_processed_to_dataframe', 'preprocessed_dataframe.pkl')\n",
    "stat_df = pd.read_pickle(dataframe_dir)\n",
    "stat_df.head()"
   ]
  },
  {
   "cell_type": "markdown",
   "metadata": {},
   "source": [
    "The spans of each paragraph are stored in list:"
   ]
  },
  {
   "cell_type": "code",
   "execution_count": 85,
   "metadata": {},
   "outputs": [
    {
     "data": {
      "text/plain": [
       "[annotator:Curation layer:Policydesigncharacteristics type:Actor tag:Addressee_default start:12 stop:22 text:committees,\n",
       " annotator:Curation layer:Policydesigncharacteristics type:Actor tag:Authority_default start:81 stop:91 text:commission,\n",
       " annotator:Curation layer:Policydesigncharacteristics type:Actor tag:Addressee_default start:117 stop:154 text:committee on renewable energy sources,\n",
       " annotator:Curation layer:Policydesigncharacteristics type:Actor tag:Authority_default start:237 stop:247 text:commission,\n",
       " annotator:Curation layer:Policydesigncharacteristics type:Actor tag:Addressee_default start:273 stop:331 text:committee on the sustainability of biofuels and bioliquids,\n",
       " annotator:Curation layer:Policydesigncharacteristics type:Reference tag:Ref_OtherPolicy start:402 stop:422 text:decision 1999/468/ec,\n",
       " annotator:Curation layer:Policydesigncharacteristics type:Reference tag:Ref_OtherPolicy start:577 stop:597 text:decision 1999/468/ec,\n",
       " annotator:Curation layer:Technologyandapplicationspecificity type:EnergySpecificity tag:Energy_LowCarbon start:130 stop:154 text:renewable energy sources,\n",
       " annotator:Curation layer:Technologyandapplicationspecificity type:EnergySpecificity tag:Energy_LowCarbon start:208 stop:216 text:biofuels,\n",
       " annotator:Curation layer:Technologyandapplicationspecificity type:EnergySpecificity tag:Energy_LowCarbon start:221 stop:231 text:bioliquids,\n",
       " annotator:Curation layer:Technologyandapplicationspecificity type:EnergySpecificity tag:Energy_LowCarbon start:308 stop:316 text:biofuels,\n",
       " annotator:Curation layer:Technologyandapplicationspecificity type:EnergySpecificity tag:Energy_LowCarbon start:321 stop:331 text:bioliquids]"
      ]
     },
     "execution_count": 85,
     "metadata": {},
     "output_type": "execute_result"
    }
   ],
   "source": [
    "stat_df['Curation'][2]"
   ]
  },
  {
   "cell_type": "markdown",
   "metadata": {},
   "source": [
    "Each span has a layer, type, tag, start, stop, and the annotatet text (raw)"
   ]
  },
  {
   "cell_type": "code",
   "execution_count": 86,
   "metadata": {},
   "outputs": [
    {
     "data": {
      "text/plain": [
       "annotator:Curation layer:Policydesigncharacteristics type:Actor tag:Addressee_default start:117 stop:154 text:committee on renewable energy sources"
      ]
     },
     "execution_count": 86,
     "metadata": {},
     "output_type": "execute_result"
    }
   ],
   "source": [
    "stat_df['Curation'][2][2]"
   ]
  },
  {
   "cell_type": "markdown",
   "metadata": {},
   "source": [
    "Each tag further has a repository, list of all the tokens and an annotator"
   ]
  },
  {
   "cell_type": "code",
   "execution_count": 87,
   "metadata": {},
   "outputs": [
    {
     "data": {
      "text/plain": [
       "policy:EU_32009L0028 title:Title_0 chapter:Chapter_0 section:Section_0 article:Article_25 sentence:None"
      ]
     },
     "execution_count": 87,
     "metadata": {},
     "output_type": "execute_result"
    }
   ],
   "source": [
    "stat_df['Curation'][2][2].rep"
   ]
  },
  {
   "cell_type": "code",
   "execution_count": 88,
   "metadata": {},
   "outputs": [
    {
     "data": {
      "text/plain": [
       "[start:117 stop:126 text:committee tag_count:3,\n",
       " start:127 stop:129 text:on tag_count:3,\n",
       " start:130 stop:139 text:renewable tag_count:5,\n",
       " start:140 stop:146 text:energy tag_count:5,\n",
       " start:147 stop:154 text:sources tag_count:5]"
      ]
     },
     "execution_count": 88,
     "metadata": {},
     "output_type": "execute_result"
    }
   ],
   "source": [
    "stat_df['Curation'][2][2].tokens"
   ]
  },
  {
   "cell_type": "code",
   "execution_count": 89,
   "metadata": {},
   "outputs": [
    {
     "data": {
      "text/plain": [
       "'Curation'"
      ]
     },
     "execution_count": 89,
     "metadata": {},
     "output_type": "execute_result"
    }
   ],
   "source": [
    "stat_df['Curation'][2][2].annotator"
   ]
  },
  {
   "cell_type": "markdown",
   "metadata": {},
   "source": [
    "It is important to note that the token objects reside in the separate column tokens, the list of tokens for each tag is just a pointer to those objects residing in the token column.\n",
    "\n",
    "Each Token has a start, stop, text and a tag_count. The tag_count counts how many times this specific tokens has been labeled."
   ]
  },
  {
   "cell_type": "code",
   "execution_count": 90,
   "metadata": {},
   "outputs": [
    {
     "data": {
      "text/plain": [
       "start:257 stop:265 text:assisted tag_count:0"
      ]
     },
     "execution_count": 90,
     "metadata": {},
     "output_type": "execute_result"
    }
   ],
   "source": [
    "stat_df['Tokens'][2][49]"
   ]
  },
  {
   "cell_type": "markdown",
   "metadata": {},
   "source": [
    "Repository's can be created trought the normal constructor **init**(self, policy, title, chapter, section, article) , or trough the classmethod **from_repository_name**(cls, rep_str), taking only a big string of the repository name. "
   ]
  },
  {
   "cell_type": "markdown",
   "metadata": {},
   "source": [
    "### Conditional Repository"
   ]
  },
  {
   "cell_type": "markdown",
   "metadata": {},
   "source": [
    "The repository class can be used to create conditional repositorys, which are usefull to search in all the paragraphs matching a certain condition. Let's go on and create a test repository:"
   ]
  },
  {
   "cell_type": "code",
   "execution_count": 91,
   "metadata": {},
   "outputs": [
    {
     "data": {
      "text/plain": [
       "policy:EU_32008R1099 title:Title_0 chapter:Chapter_0 section:Section_0 article:Article_03 sentence:None"
      ]
     },
     "execution_count": 91,
     "metadata": {},
     "output_type": "execute_result"
    }
   ],
   "source": [
    "test_dir = repository.from_repository_name(\"EU_32008R1099_Title_0_Chapter_0_Section_0_Article_03\")\n",
    "test_dir"
   ]
  },
  {
   "cell_type": "markdown",
   "metadata": {},
   "source": [
    "Let's now create a conditional repository. On each hirarchy, I can either match a certain name or I can match all the names by inserting 'None'. Simply speaking, we match all repositorys with the attributes given other than 'None. Let's assume I want to match all the tags in 'EU_32008R1099' I would create a repository like this:"
   ]
  },
  {
   "cell_type": "code",
   "execution_count": 92,
   "metadata": {},
   "outputs": [
    {
     "data": {
      "text/plain": [
       "policy:EU_32008R1099 title:None chapter:None section:None article:None sentence:None"
      ]
     },
     "execution_count": 92,
     "metadata": {},
     "output_type": "execute_result"
    }
   ],
   "source": [
    "test_dir = repository(policy = 'EU_32008R1099', title = None, chapter = None, section = None, article = None)\n",
    "test_dir"
   ]
  },
  {
   "cell_type": "markdown",
   "metadata": {},
   "source": [
    "or simply"
   ]
  },
  {
   "cell_type": "code",
   "execution_count": 93,
   "metadata": {},
   "outputs": [
    {
     "data": {
      "text/plain": [
       "policy:EU_32008R1099 title:None chapter:None section:None article:None sentence:None"
      ]
     },
     "execution_count": 93,
     "metadata": {},
     "output_type": "execute_result"
    }
   ],
   "source": [
    "test_dir = repository(policy = 'EU_32008R1099')\n",
    "test_dir"
   ]
  },
  {
   "cell_type": "markdown",
   "metadata": {},
   "source": [
    "If I want to match all the tags that are stored in the first article in all the policy's, titles, chapters and sections"
   ]
  },
  {
   "cell_type": "code",
   "execution_count": 94,
   "metadata": {},
   "outputs": [
    {
     "data": {
      "text/plain": [
       "policy:None title:None chapter:None section:None article:Article_01 sentence:None"
      ]
     },
     "execution_count": 94,
     "metadata": {},
     "output_type": "execute_result"
    }
   ],
   "source": [
    "test_dir = repository( article = 'Article_01')\n",
    "test_dir"
   ]
  },
  {
   "cell_type": "markdown",
   "metadata": {},
   "source": [
    "### Class Evaluator and evaluation functions"
   ]
  },
  {
   "cell_type": "markdown",
   "metadata": {},
   "source": [
    "All the funtions calculating statistics are contained the class \"Corpus\", it's only class member is the dataframe:"
   ]
  },
  {
   "cell_type": "code",
   "execution_count": 95,
   "metadata": {},
   "outputs": [],
   "source": [
    "test_corpus = Corpus(stat_df)"
   ]
  },
  {
   "cell_type": "markdown",
   "metadata": {},
   "source": [
    "The most important funtion is the member function get_span_list(self, conditional_rep, columns, item, value). This functions takes a conditional repository (explained before), a item which can be either 'class, 'type' or 'tag' and a value. E.g item = 'layer' and value = 'Policydesigncharacteristics' or item = 'type and value ='Compliance' and item = 'tag' and value = 'Form_monitoring'. \n",
    "\n",
    "The function returns a list of all the tags in all the paragraphs matching the conditional repository and matching the item and value given. E.g I want to match all the tags of type 'Policydesigncharacteristics' in the policy 'EU_32008R1099':"
   ]
  },
  {
   "cell_type": "code",
   "execution_count": 96,
   "metadata": {},
   "outputs": [
    {
     "data": {
      "text/plain": [
       "[annotator:Alisha layer:Instrumenttypes type:InstrumentType tag:FrameworkPolicy start:845 stop:869 text:mechanism for monitoring,\n",
       " annotator:Alisha layer:Instrumenttypes type:InstrumentType tag:FrameworkPolicy start:1916 stop:1925 text:framework,\n",
       " annotator:Alisha layer:Instrumenttypes type:InstrumentType tag:FrameworkPolicy start:4237 stop:4246 text:framework,\n",
       " annotator:Alisha layer:Policydesigncharacteristics type:Actor tag:Addressee_default start:19 stop:28 text:community,\n",
       " annotator:Alisha layer:Policydesigncharacteristics type:Compliance tag:Form_monitoring start:182 stop:192 text:monitoring,\n",
       " annotator:Alisha layer:Policydesigncharacteristics type:Compliance tag:Form_monitoring start:257 stop:274 text:energy statistics,\n",
       " annotator:Alisha layer:Policydesigncharacteristics type:Compliance tag:Form_monitoring start:420 stop:430 text:monitoring,\n",
       " annotator:Alisha layer:Policydesigncharacteristics type:Compliance tag:Form_monitoring start:583 stop:592 text:assessing,\n",
       " annotator:Alisha layer:Policydesigncharacteristics type:Reference tag:Ref_OtherPolicy start:742 stop:765 text:decision no 280/2004/ec,\n",
       " annotator:Alisha layer:Policydesigncharacteristics type:end tag: start:859 stop:869 text:monitoring,\n",
       " annotator:Alisha layer:Policydesigncharacteristics type:end tag: start:870 stop:879 text:community,\n",
       " annotator:Alisha layer:Policydesigncharacteristics type:Reference tag:Ref_Strategy_Agreement start:930 stop:944 text:kyoto protocol,\n",
       " annotator:Alisha layer:Policydesigncharacteristics type:Reference tag:Ref_OtherPolicy start:956 stop:976 text:directive 2001/77/ec,\n",
       " annotator:Alisha layer:Policydesigncharacteristics type:Actor tag:Addressee_sector start:1122 stop:1149 text:internal electricity market,\n",
       " annotator:Alisha layer:Policydesigncharacteristics type:Reference tag:Ref_OtherPolicy start:1158 stop:1177 text:directive 2004/8/ec,\n",
       " annotator:Alisha layer:Policydesigncharacteristics type:Actor tag:Addressee_sector start:1314 stop:1336 text:internal energy market,\n",
       " annotator:Alisha layer:Policydesigncharacteristics type:Actor tag:Addressee_monitored start:1349 stop:1362 text:member states,\n",
       " annotator:Alisha layer:Policydesigncharacteristics type:Compliance tag:Form_monitoring start:1366 stop:1372 text:report,\n",
       " annotator:Alisha layer:Policydesigncharacteristics type:Compliance tag:Form_monitoring start:1411 stop:1418 text:monitor,\n",
       " annotator:Alisha layer:Policydesigncharacteristics type:Reference tag:Ref_OtherPolicy start:1548 stop:1568 text:directive 2002/91/ec,\n",
       " annotator:Alisha layer:Policydesigncharacteristics type:Reference tag:Ref_OtherPolicy start:1679 stop:1699 text:directive 2006/32/ec,\n",
       " annotator:Alisha layer:Policydesigncharacteristics type:Reference tag:Ref_OtherPolicy start:1819 stop:1839 text:directive 2005/32/ec,\n",
       " annotator:Alisha layer:Policydesigncharacteristics type:Actor tag:Addressee_default start:2006 stop:2019 text:member states,\n",
       " annotator:Alisha layer:Policydesigncharacteristics type:Compliance tag:Form_monitoring start:2023 stop:2029 text:report,\n",
       " annotator:Alisha layer:Policydesigncharacteristics type:Compliance tag:Form_monitoring start:2071 stop:2078 text:monitor,\n",
       " annotator:Alisha layer:Policydesigncharacteristics type:Reference tag:Ref_Strategy_Agreement start:2370 stop:2437 text:green papers of the commission of 22 june 2005 on energy efficiency,\n",
       " annotator:Alisha layer:Policydesigncharacteristics type:Reference tag:Ref_Strategy_Agreement start:2463 stop:2527 text:european strategy for sustainable, competitive and secure energy,\n",
       " annotator:Alisha layer:Policydesigncharacteristics type:Actor tag:Authority_established start:2664 stop:2698 text:european energy market observatory,\n",
       " annotator:Alisha layer:Policydesigncharacteristics type:Actor tag:Authority_default start:2787 stop:2806 text:european parliament,\n",
       " annotator:Alisha layer:Policydesigncharacteristics type:Reference tag:Ref_Strategy_Agreement start:2850 stop:2914 text:european strategy for sustainable, competitive and secure energy,\n",
       " annotator:Alisha layer:Policydesigncharacteristics type:Objective tag:Objective_QualIntention_noCCM start:3488 stop:3614 text:assist political decision-making by the european union and its member states and promote public debate which includes citizens,\n",
       " annotator:Alisha layer:Policydesigncharacteristics type:end tag: start:3528 stop:3542 text:european union,\n",
       " annotator:Alisha layer:Policydesigncharacteristics type:end tag: start:3551 stop:3564 text:member states,\n",
       " annotator:Alisha layer:Policydesigncharacteristics type:Reference tag:Ref_OtherPolicy start:4078 stop:4111 text:council regulation (ec) no 322/97,\n",
       " annotator:Alisha layer:Policydesigncharacteristics type:Objective tag:Objective_QualIntention_noCCM start:4215 stop:4358 text:establishing a common framework for the production, transmission, evaluation and dissemination of comparable energy statistics in the community,\n",
       " annotator:Alisha layer:Policydesigncharacteristics type:Actor tag:Addressee_default start:4398 stop:4411 text:member states,\n",
       " annotator:Alisha layer:Policydesigncharacteristics type:end tag: start:4946 stop:4982 text:european statistics code of practice,\n",
       " annotator:Alisha layer:Policydesigncharacteristics type:end tag: start:5029 stop:5060 text:statistical programme committee,\n",
       " annotator:Alisha layer:Policydesigncharacteristics type:end tag: start:5077 stop:5104 text:council decision 89/382/eec,\n",
       " annotator:Alisha layer:Policydesigncharacteristics type:end tag: start:5386 stop:5414 text:council decision 1999/468/ec,\n",
       " annotator:Alisha layer:Policydesigncharacteristics type:end tag: start:5515 stop:5525 text:commission,\n",
       " annotator:Alisha layer:Policydesigncharacteristics type:end tag: start:5587 stop:5597 text:commission,\n",
       " annotator:Alisha layer:Policydesigncharacteristics type:end tag: start:5638 stop:5657 text:national statistics,\n",
       " annotator:Alisha layer:Policydesigncharacteristics type:end tag: start:6244 stop:6264 text:decision 1999/468/ec,\n",
       " annotator:Alisha layer:Policydesigncharacteristics type:end tag: start:6309 stop:6319 text:commission,\n",
       " annotator:Alisha layer:Policydesigncharacteristics type:end tag: start:6359 stop:6372 text:member states,\n",
       " annotator:Alisha layer:Policydesigncharacteristics type:end tag: start:6833 stop:6864 text:statistical programme committee,\n",
       " annotator:Alisha layer:Technologyandapplicationspecificity type:ApplicationSpecificity tag:App_Other start:70 stop:161 text:energy quantities, their forms, sources, generation, supply, transformation and consumption,\n",
       " annotator:Alisha layer:Technologyandapplicationspecificity type:EnergySpecificity tag:Energy_Other start:70 stop:76 text:energy,\n",
       " annotator:Alisha layer:Technologyandapplicationspecificity type:EnergySpecificity tag:Energy_Other start:243 stop:249 text:energy,\n",
       " annotator:Alisha layer:Technologyandapplicationspecificity type:EnergySpecificity tag:Energy_Other start:257 stop:263 text:energy,\n",
       " annotator:Alisha layer:Technologyandapplicationspecificity type:EnergySpecificity tag:Energy_Other start:310 stop:323 text:energy supply,\n",
       " annotator:Alisha layer:Technologyandapplicationspecificity type:EnergySpecificity tag:Energy_Other start:310 stop:316 text:energy,\n",
       " annotator:Alisha layer:Technologyandapplicationspecificity type:EnergySpecificity tag:Energy_Other start:331 stop:346 text:fossil energies,\n",
       " annotator:Alisha layer:Technologyandapplicationspecificity type:ApplicationSpecificity tag:App_Other start:440 stop:458 text:energy consumption,\n",
       " annotator:Alisha layer:Technologyandapplicationspecificity type:EnergySpecificity tag:Energy_Other start:440 stop:446 text:energy,\n",
       " annotator:Alisha layer:Technologyandapplicationspecificity type:EnergySpecificity tag:Energy_LowCarbon start:460 stop:476 text:renewable energy,\n",
       " annotator:Alisha layer:Technologyandapplicationspecificity type:EnergySpecificity tag:Energy_LowCarbon start:481 stop:495 text:nuclear energy,\n",
       " annotator:Alisha layer:Technologyandapplicationspecificity type:end tag: start:559 stop:565 text:energy,\n",
       " annotator:Alisha layer:Technologyandapplicationspecificity type:end tag: start:607 stop:625 text:energy consumption,\n",
       " annotator:Alisha layer:Technologyandapplicationspecificity type:end tag: start:607 stop:613 text:energy,\n",
       " annotator:Alisha layer:Technologyandapplicationspecificity type:end tag: start:1064 stop:1114 text:electricity produced from renewable energy sources,\n",
       " annotator:Alisha layer:Technologyandapplicationspecificity type:end tag: start:1131 stop:1142 text:electricity,\n",
       " annotator:Alisha layer:Technologyandapplicationspecificity type:end tag: start:1295 stop:1306 text:heat demand,\n",
       " annotator:Alisha layer:Technologyandapplicationspecificity type:end tag: start:1323 stop:1329 text:energy,\n",
       " annotator:Alisha layer:Technologyandapplicationspecificity type:end tag: start:1516 stop:1522 text:energy,\n",
       " annotator:Alisha layer:Technologyandapplicationspecificity type:end tag: start:1642 stop:1673 text:energy performance of buildings,\n",
       " annotator:Alisha layer:Technologyandapplicationspecificity type:end tag: start:1642 stop:1648 text:energy,\n",
       " annotator:Alisha layer:Technologyandapplicationspecificity type:end tag: start:1765 stop:1790 text:energy end-use efficiency,\n",
       " annotator:Alisha layer:Technologyandapplicationspecificity type:end tag: start:1765 stop:1771 text:energy,\n",
       " annotator:Alisha layer:Technologyandapplicationspecificity type:end tag: start:1795 stop:1810 text:energy services,\n",
       " annotator:Alisha layer:Technologyandapplicationspecificity type:end tag: start:1795 stop:1801 text:energy,\n",
       " annotator:Alisha layer:Technologyandapplicationspecificity type:EnergySpecificity tag:Energy_Other start:1972 stop:1993 text:energy-using products,\n",
       " annotator:Alisha layer:Technologyandapplicationspecificity type:end tag: start:1972 stop:1984 text:energy-using,\n",
       " annotator:Alisha layer:Technologyandapplicationspecificity type:end tag: start:2043 stop:2061 text:energy consumption,\n",
       " annotator:Alisha layer:Technologyandapplicationspecificity type:end tag: start:2043 stop:2049 text:energy,\n",
       " annotator:Alisha layer:Technologyandapplicationspecificity type:end tag: start:2176 stop:2182 text:energy,\n",
       " annotator:Alisha layer:Technologyandapplicationspecificity type:end tag: start:2233 stop:2239 text:energy,\n",
       " annotator:Alisha layer:Technologyandapplicationspecificity type:end tag: start:2588 stop:2594 text:energy,\n",
       " annotator:Alisha layer:Technologyandapplicationspecificity type:end tag: start:2949 stop:2955 text:energy,\n",
       " annotator:Alisha layer:Technologyandapplicationspecificity type:end tag: start:3041 stop:3075 text:supply of the most important fuels,\n",
       " annotator:Alisha layer:Technologyandapplicationspecificity type:end tag: start:3070 stop:3075 text:fuels,\n",
       " annotator:Alisha layer:Technologyandapplicationspecificity type:end tag: start:3238 stop:3244 text:energy,\n",
       " annotator:Alisha layer:Technologyandapplicationspecificity type:end tag: start:3337 stop:3343 text:energy,\n",
       " annotator:Alisha layer:Technologyandapplicationspecificity type:end tag: start:3460 stop:3466 text:energy,\n",
       " annotator:Alisha layer:Technologyandapplicationspecificity type:end tag: start:3749 stop:3763 text:nuclear energy,\n",
       " annotator:Alisha layer:Technologyandapplicationspecificity type:end tag: start:3816 stop:3832 text:renewable energy,\n",
       " annotator:Alisha layer:Technologyandapplicationspecificity type:end tag: start:3885 stop:3891 text:energy,\n",
       " annotator:Alisha layer:Technologyandapplicationspecificity type:end tag: start:3947 stop:3968 text:habitat and transport,\n",
       " annotator:Alisha layer:Technologyandapplicationspecificity type:end tag: start:4324 stop:4330 text:energy,\n",
       " annotator:Alisha layer:Policydesigncharacteristics type:Actor tag:Authority_legislative start:47 stop:66 text:european parliament,\n",
       " annotator:Alisha layer:Policydesigncharacteristics type:Actor tag:Authority_legislative start:78 stop:85 text:council,\n",
       " annotator:Alisha layer:Policydesigncharacteristics type:Compliance tag:Form_monitoring start:112 stop:129 text:energy statistics,\n",
       " annotator:Alisha layer:Policydesigncharacteristics type:Actor tag:Authority_legislative start:162 stop:181 text:european parliament,\n",
       " annotator:Alisha layer:Policydesigncharacteristics type:Actor tag:Authority_legislative start:190 stop:219 text:council of the european union,\n",
       " annotator:Alisha layer:Policydesigncharacteristics type:Actor tag:Authority_legislative start:243 stop:285 text:treaty establishing the european community,\n",
       " annotator:Alisha layer:Policydesigncharacteristics type:Actor tag:Authority_legislative start:369 stop:379 text:commission,\n",
       " annotator:Alisha layer:Technologyandapplicationspecificity type:EnergySpecificity tag:Energy_Other start:112 stop:118 text:energy,\n",
       " annotator:Fride layer:Policydesigncharacteristics type:Actor tag:Authority_legislative start:47 stop:66 text:european parliament,\n",
       " annotator:Fride layer:Policydesigncharacteristics type:Actor tag:Authority_legislative start:78 stop:85 text:council,\n",
       " annotator:Fride layer:Policydesigncharacteristics type:Reference tag:Ref_Strategy_Agreement start:142 stop:145 text:eea,\n",
       " annotator:Fride layer:Policydesigncharacteristics type:Actor tag:Authority_legislative start:162 stop:181 text:european parliament,\n",
       " annotator:Fride layer:Policydesigncharacteristics type:Actor tag:Authority_legislative start:190 stop:197 text:council,\n",
       " annotator:Fride layer:Policydesigncharacteristics type:Reference tag:Ref_Strategy_Agreement start:243 stop:249 text:treaty,\n",
       " annotator:Fride layer:Policydesigncharacteristics type:Actor tag:Authority_default start:369 stop:379 text:commission,\n",
       " annotator:Fride layer:Policydesigncharacteristics type:Reference tag:Ref_Strategy_Agreement start:454 stop:460 text:treaty,\n",
       " annotator:Onerva layer:Policydesigncharacteristics type:Actor tag:Authority_legislative start:47 stop:66 text:european parliament,\n",
       " annotator:Onerva layer:Policydesigncharacteristics type:Actor tag:Authority_legislative start:78 stop:85 text:council,\n",
       " annotator:Onerva layer:Policydesigncharacteristics type:Actor tag:Authority_legislative start:162 stop:181 text:european parliament,\n",
       " annotator:Onerva layer:Policydesigncharacteristics type:Actor tag:Authority_legislative start:190 stop:219 text:council of the european union,\n",
       " annotator:Alisha layer:Instrumenttypes type:InstrumentType tag:RegulatoryInstr start:1343 stop:1363 text:regulatory procedure,\n",
       " annotator:Alisha layer:Instrumenttypes type:InstrumentType tag:RegulatoryInstr start:1525 stop:1545 text:regulatory procedure,\n",
       " annotator:Alisha layer:Policydesigncharacteristics type:Compliance tag:Form_monitoring start:21 stop:38 text:energy statistics,\n",
       " annotator:Alisha layer:Policydesigncharacteristics type:Compliance tag:Form_monitoring start:56 stop:78 text:consumption statistics,\n",
       " annotator:Alisha layer:Policydesigncharacteristics type:Objective tag:Objective_QualIntention_noCCM start:100 stop:181 text:improving the quality of renewable energy and final energy consumption statistics,\n",
       " annotator:Alisha layer:Policydesigncharacteristics type:Compliance tag:Form_monitoring start:125 stop:181 text:renewable energy and final energy consumption statistics,\n",
       " annotator:Alisha layer:Policydesigncharacteristics type:Actor tag:Authority_monitoring start:187 stop:197 text:commission,\n",
       " annotator:Alisha layer:Policydesigncharacteristics type:Actor tag:Authority_monitoring start:199 stop:207 text:eurostat,\n",
       " annotator:Alisha layer:Policydesigncharacteristics type:Actor tag:Addressee_monitored start:236 stop:249 text:member states,\n",
       " annotator:Alisha layer:Policydesigncharacteristics type:Compliance tag:Form_monitoring start:293 stop:303 text:comparable,\n",
       " annotator:Alisha layer:Policydesigncharacteristics type:Compliance tag:Form_monitoring start:305 stop:316 text:transparent,\n",
       " annotator:Alisha layer:Policydesigncharacteristics type:Compliance tag:Form_monitoring start:318 stop:326 text:detailed,\n",
       " annotator:Alisha layer:Policydesigncharacteristics type:Compliance tag:Form_monitoring start:331 stop:339 text:flexible,\n",
       " annotator:Alisha layer:Policydesigncharacteristics type:Compliance tag:Form_monitoring start:403 stop:420 text:energy statistics,\n",
       " annotator:Alisha layer:Policydesigncharacteristics type:Objective tag:Objective_QualIntention start:433 stop:563 text:make available additional, pertinent, detailed statistics on each renewable energy source, annually and in a cost-effective manner,\n",
       " annotator:Alisha layer:Policydesigncharacteristics type:Actor tag:Authority_monitoring start:569 stop:579 text:commission,\n",
       " annotator:Alisha layer:Policydesigncharacteristics type:Actor tag:Authority_monitoring start:581 stop:589 text:eurostat,\n",
       " annotator:Alisha layer:Policydesigncharacteristics type:Compliance tag:Form_monitoring start:792 stop:814 text:consumption statistics,\n",
       " annotator:Alisha layer:Policydesigncharacteristics type:Compliance tag:Form_monitoring start:990 stop:1000 text:evaluating,\n",
       " annotator:Alisha layer:Policydesigncharacteristics type:Compliance tag:Form_monitoring start:1286 stop:1303 text:energy statistics,\n",
       " annotator:Alisha layer:Policydesigncharacteristics type:Compliance tag:Form_monitoring start:1438 stop:1460 text:consumption statistics,\n",
       " annotator:Alisha layer:Technologyandapplicationspecificity type:EnergySpecificity tag:Energy_Other start:21 stop:27 text:energy,\n",
       " annotator:Alisha layer:Technologyandapplicationspecificity type:ApplicationSpecificity tag:App_Other start:49 stop:67 text:energy consumption,\n",
       " annotator:Alisha layer:Technologyandapplicationspecificity type:EnergySpecificity tag:Energy_Other start:49 stop:55 text:energy,\n",
       " annotator:Alisha layer:Technologyandapplicationspecificity type:ApplicationSpecificity tag:App_Other start:152 stop:170 text:energy consumption,\n",
       " annotator:Alisha layer:Technologyandapplicationspecificity type:EnergySpecificity tag:Energy_Other start:152 stop:158 text:energy,\n",
       " annotator:Alisha layer:Technologyandapplicationspecificity type:EnergySpecificity tag:Energy_Other start:393 stop:409 text:renewable energy,\n",
       " annotator:Alisha layer:Technologyandapplicationspecificity type:EnergySpecificity tag:Energy_Other start:499 stop:515 text:renewable energy,\n",
       " annotator:Alisha layer:Technologyandapplicationspecificity type:ApplicationSpecificity tag:App_Other start:785 stop:803 text:energy consumption,\n",
       " annotator:Alisha layer:Technologyandapplicationspecificity type:EnergySpecificity tag:Energy_Other start:785 stop:791 text:energy,\n",
       " annotator:Alisha layer:Technologyandapplicationspecificity type:EnergySpecificity tag:Energy_Other start:1114 stop:1122 text:energies,\n",
       " annotator:Alisha layer:Technologyandapplicationspecificity type:EnergySpecificity tag:Energy_Other start:1142 stop:1148 text:energy,\n",
       " annotator:Alisha layer:Technologyandapplicationspecificity type:EnergySpecificity tag:Energy_LowCarbon start:1276 stop:1292 text:renewable energy,\n",
       " annotator:Alisha layer:Technologyandapplicationspecificity type:ApplicationSpecificity tag:App_Other start:1431 stop:1449 text:energy consumption,\n",
       " annotator:Alisha layer:Technologyandapplicationspecificity type:EnergySpecificity tag:Energy_Other start:1431 stop:1437 text:energy,\n",
       " annotator:Fride layer:Policydesigncharacteristics type:Resource tag:Resource_Other start:11 stop:38 text:renewable energy statistics,\n",
       " annotator:Fride layer:Policydesigncharacteristics type:Resource tag:Resource_Other start:43 stop:78 text:final energy consumption statistics,\n",
       " annotator:Fride layer:Policydesigncharacteristics type:Objective tag:Objective_QualIntention_noCCM start:100 stop:181 text:improving the quality of renewable energy and final energy consumption statistics,\n",
       " annotator:Fride layer:Policydesigncharacteristics type:Resource tag:Resource_Other start:125 stop:181 text:renewable energy and final energy consumption statistics,\n",
       " annotator:Fride layer:Policydesigncharacteristics type:Actor tag:Authority_default start:187 stop:208 text:commission (eurostat),\n",
       " annotator:Fride layer:Policydesigncharacteristics type:Objective tag:Objective_QualIntention_noCCM start:278 stop:339 text:statistics are comparable, transparent, detailed and flexible,\n",
       " annotator:Fride layer:Policydesigncharacteristics type:Resource tag:Resource_Other start:278 stop:288 text:statistics,\n",
       " annotator:Fride layer:Policydesigncharacteristics type:Resource tag:Resource_Other start:393 stop:420 text:renewable energy statistics,\n",
       " annotator:Fride layer:Policydesigncharacteristics type:Resource tag:Resource_Other start:480 stop:490 text:statistics,\n",
       " annotator:Fride layer:Policydesigncharacteristics type:Time tag:Time_Resources start:524 stop:532 text:annually,\n",
       " annotator:Fride layer:Policydesigncharacteristics type:Actor tag:Authority_monitoring start:569 stop:590 text:commission (eurostat),\n",
       " annotator:Fride layer:Policydesigncharacteristics type:Resource tag:Resource_Other start:625 stop:635 text:statistics,\n",
       " annotator:Fride layer:Policydesigncharacteristics type:Compliance tag:Form_monitoring start:688 stop:697 text:reviewing,\n",
       " annotator:Fride layer:Policydesigncharacteristics type:Resource tag:Resource_Other start:779 stop:814 text:final energy consumption statistics,\n",
       " annotator:Fride layer:Policydesigncharacteristics type:Compliance tag:Form_monitoring start:884 stop:900 text:existing studies,\n",
       " annotator:Fride layer:Policydesigncharacteristics type:Compliance tag:Form_monitoring start:905 stop:930 text:feasibility pilot studies,\n",
       " annotator:Fride layer:Policydesigncharacteristics type:Compliance tag:Form_monitoring start:943 stop:964 text:cost-benefit analyses,\n",
       " annotator:Fride layer:Policydesigncharacteristics type:Compliance tag:Form_monitoring start:1021 stop:1034 text:pilot studies,\n",
       " annotator:Fride layer:Policydesigncharacteristics type:Compliance tag:Form_monitoring start:1039 stop:1060 text:cost-benefit analyses,\n",
       " annotator:Fride layer:Policydesigncharacteristics type:Resource tag:Resource_Other start:1212 stop:1222 text:statistics,\n",
       " annotator:Fride layer:Policydesigncharacteristics type:Resource tag:Resource_Other start:1276 stop:1303 text:renewable energy statistics,\n",
       " annotator:Fride layer:Policydesigncharacteristics type:Resource tag:Resource_Other start:1425 stop:1460 text:final energy consumption statistics,\n",
       " annotator:Fride layer:Technologyandapplicationspecificity type:EnergySpecificity tag:Energy_LowCarbon start:499 stop:522 text:renewable energy source,\n",
       " annotator:Fride layer:Technologyandapplicationspecificity type:EnergySpecificity tag:Energy_Other start:1108 stop:1122 text:final energies,\n",
       " annotator:Fride layer:Technologyandapplicationspecificity type:EnergySpecificity tag:Energy_Other start:1142 stop:1148 text:energy,\n",
       " annotator:Fride layer:Technologyandapplicationspecificity type:ApplicationSpecificity tag:App_Other start:1149 stop:1153 text:uses,\n",
       " annotator:Onerva layer:Policydesigncharacteristics type:Objective tag:Objective_QualIntention start:100 stop:181 text:improving the quality of renewable energy and final energy consumption statistics,\n",
       " annotator:Onerva layer:Policydesigncharacteristics type:Actor tag:Authority_default start:187 stop:208 text:commission (eurostat),\n",
       " annotator:Onerva layer:Policydesigncharacteristics type:Actor tag:Authority_default start:236 stop:249 text:member states,\n",
       " annotator:Onerva layer:Policydesigncharacteristics type:Compliance tag:Form_monitoring start:350 stop:359 text:reviewing,\n",
       " annotator:Onerva layer:Policydesigncharacteristics type:Actor tag:Authority_default start:569 stop:590 text:commission (eurostat),\n",
       " annotator:Onerva layer:Policydesigncharacteristics type:Compliance tag:Form_monitoring start:688 stop:697 text:reviewing,\n",
       " annotator:Onerva layer:Policydesigncharacteristics type:Resource tag:Resource_Other start:1276 stop:1303 text:renewable energy statistics,\n",
       " annotator:Onerva layer:Policydesigncharacteristics type:Resource tag:Resource_Other start:1431 stop:1460 text:energy consumption statistics,\n",
       " annotator:Onerva layer:Technologyandapplicationspecificity type:TechnologySpecificity tag:Tech_LowCarbon start:125 stop:141 text:renewable energy,\n",
       " annotator:Onerva layer:Technologyandapplicationspecificity type:TechnologySpecificity tag:Tech_LowCarbon start:393 stop:409 text:renewable energy,\n",
       " annotator:Onerva layer:Technologyandapplicationspecificity type:TechnologySpecificity tag:Tech_LowCarbon start:499 stop:515 text:renewable energy,\n",
       " annotator:Onerva layer:Technologyandapplicationspecificity type:TechnologySpecificity tag:Tech_LowCarbon start:1276 stop:1292 text:renewable energy,\n",
       " annotator:Alisha layer:Instrumenttypes type:InstrumentType tag:RegulatoryInstr start:574 stop:594 text:regulatory procedure,\n",
       " annotator:Alisha layer:Policydesigncharacteristics type:Time tag:Time_Monitoring start:11 stop:17 text:annual,\n",
       " annotator:Alisha layer:Policydesigncharacteristics type:Compliance tag:Form_monitoring start:18 stop:36 text:nuclear statistics,\n",
       " annotator:Alisha layer:Policydesigncharacteristics type:Actor tag:Authority_monitoring start:42 stop:52 text:commission,\n",
       " annotator:Alisha layer:Policydesigncharacteristics type:Actor tag:Authority_monitoring start:54 stop:62 text:eurostat,\n",
       " annotator:Alisha layer:Policydesigncharacteristics type:Actor tag:Addressee_sector start:95 stop:116 text:nuclear energy sector,\n",
       " annotator:Alisha layer:Policydesigncharacteristics type:Time tag:Time_Monitoring start:144 stop:150 text:annual,\n",
       " annotator:Alisha layer:Policydesigncharacteristics type:Compliance tag:Form_monitoring start:151 stop:169 text:nuclear statistics,\n",
       " annotator:Alisha layer:Policydesigncharacteristics type:Compliance tag:Form_monitoring start:185 stop:193 text:reported,\n",
       " annotator:Alisha layer:Policydesigncharacteristics type:Time tag:Time_Monitoring start:216 stop:220 text:2009,\n",
       " annotator:Alisha layer:Policydesigncharacteristics type:Time tag:Time_Monitoring start:484 stop:490 text:annual,\n",
       " annotator:Alisha layer:Policydesigncharacteristics type:Compliance tag:Form_monitoring start:491 stop:509 text:nuclear statistics,\n",
       " annotator:Alisha layer:Technologyandapplicationspecificity type:EnergySpecificity tag:Energy_LowCarbon start:18 stop:25 text:nuclear,\n",
       " annotator:Alisha layer:Technologyandapplicationspecificity type:EnergySpecificity tag:Energy_LowCarbon start:95 stop:109 text:nuclear energy,\n",
       " annotator:Alisha layer:Technologyandapplicationspecificity type:EnergySpecificity tag:Energy_LowCarbon start:151 stop:158 text:nuclear,\n",
       " annotator:Alisha layer:Technologyandapplicationspecificity type:EnergySpecificity tag:Energy_LowCarbon start:491 stop:498 text:nuclear,\n",
       " annotator:Fride layer:Policydesigncharacteristics type:Resource tag:Resource_Other start:11 stop:36 text:annual nuclear statistics,\n",
       " annotator:Fride layer:Policydesigncharacteristics type:Actor tag:Authority_default start:38 stop:63 text:the commission (eurostat),\n",
       " annotator:Fride layer:Policydesigncharacteristics type:Resource tag:Resource_Other start:144 stop:169 text:annual nuclear statistics,\n",
       " annotator:Fride layer:Policydesigncharacteristics type:Time tag:Time_Resources start:211 stop:228 text:from 2009 onwards,\n",
       " annotator:Fride layer:Policydesigncharacteristics type:Resource tag:Resource_Other start:484 stop:509 text:annual nuclear statistics,\n",
       " annotator:Onerva layer:Policydesigncharacteristics type:Resource tag:Resource_Other start:11 stop:36 text:annual nuclear statistics,\n",
       " annotator:Onerva layer:Policydesigncharacteristics type:Actor tag:Authority_default start:38 stop:63 text:the commission (eurostat),\n",
       " annotator:Onerva layer:Policydesigncharacteristics type:Actor tag:Addressee_sector start:95 stop:126 text:nuclear energy sector in the eu,\n",
       " annotator:Onerva layer:Policydesigncharacteristics type:Resource tag:Resource_Other start:144 stop:169 text:annual nuclear statistics,\n",
       " annotator:Onerva layer:Policydesigncharacteristics type:Compliance tag:Form_monitoring start:185 stop:193 text:reported,\n",
       " annotator:Onerva layer:Policydesigncharacteristics type:Compliance tag:Form_monitoring start:256 stop:264 text:reported,\n",
       " annotator:Onerva layer:Policydesigncharacteristics type:Resource tag:Resource_MonSpending start:414 stop:430 text:production costs,\n",
       " annotator:Onerva layer:Policydesigncharacteristics type:Compliance tag:Form_monitoring start:443 stop:452 text:reporting,\n",
       " annotator:Onerva layer:Policydesigncharacteristics type:Resource tag:Resource_Other start:484 stop:509 text:annual nuclear statistics,\n",
       " annotator:Onerva layer:Technologyandapplicationspecificity type:TechnologySpecificity tag:Tech_LowCarbon start:18 stop:25 text:nuclear,\n",
       " annotator:Onerva layer:Technologyandapplicationspecificity type:TechnologySpecificity tag:Tech_LowCarbon start:95 stop:109 text:nuclear energy,\n",
       " annotator:Onerva layer:Technologyandapplicationspecificity type:TechnologySpecificity tag:Tech_LowCarbon start:151 stop:158 text:nuclear,\n",
       " annotator:Alisha layer:Instrumenttypes type:InstrumentType tag:RegulatoryInstr start:425 stop:445 text:regulatory procedure,\n",
       " annotator:Alisha layer:Instrumenttypes type:InstrumentType tag:RegulatoryInstr start:635 stop:655 text:regulatory procedure,\n",
       " annotator:Alisha layer:Policydesigncharacteristics type:Actor tag:Addressee_monitored start:48 stop:61 text:member states,\n",
       " annotator:Alisha layer:Policydesigncharacteristics type:Actor tag:Authority_monitoring start:84 stop:94 text:commission,\n",
       " annotator:Alisha layer:Policydesigncharacteristics type:Actor tag:Authority_monitoring start:96 stop:104 text:eurostat,\n",
       " annotator:Alisha layer:Policydesigncharacteristics type:Compliance tag:Form_monitoring start:110 stop:129 text:national statistics,\n",
       " annotator:Alisha layer:Policydesigncharacteristics type:Compliance tag:Form_monitoring start:366 stop:385 text:national statistics,\n",
       " annotator:Alisha layer:Policydesigncharacteristics type:Actor tag:Addressee_monitored start:528 stop:540 text:member state,\n",
       " annotator:Alisha layer:Policydesigncharacteristics type:Reversibility tag:Reversibility_policy start:553 stop:578 text:exemptions or derogations,\n",
       " annotator:Alisha layer:Policydesigncharacteristics type:Actor tag:Authority_monitoring start:601 stop:611 text:commission,\n",
       " annotator:Alisha layer:Policydesigncharacteristics type:Compliance tag:Form_monitoring start:709 stop:728 text:national statistics,\n",
       " annotator:Alisha layer:Policydesigncharacteristics type:Reversibility tag:Reversibility_policy start:771 stop:802 text:excessive burden on respondents,\n",
       " annotator:Alisha layer:Policydesigncharacteristics type:Actor tag:Authority_monitoring start:814 stop:824 text:commission,\n",
       " annotator:Alisha layer:Policydesigncharacteristics type:Actor tag:Authority_monitoring start:826 stop:834 text:eurostat,\n",
       " annotator:Alisha layer:Policydesigncharacteristics type:Time tag:Time_Monitoring start:854 stop:860 text:yearly,\n",
       " annotator:Alisha layer:Policydesigncharacteristics type:Compliance tag:Form_monitoring start:861 stop:878 text:energy statistics,\n",
       " annotator:Alisha layer:Policydesigncharacteristics type:Time tag:Time_Monitoring start:882 stop:892 text:31 january,\n",
       " annotator:Alisha layer:Technologyandapplicationspecificity type:EnergySpecificity tag:Energy_Other start:861 stop:867 text:energy,\n",
       " annotator:Fride layer:Instrumenttypes type:InstrumentType tag:RegulatoryInstr start:241 stop:252 text:derogations,\n",
       " annotator:Fride layer:Instrumenttypes type:InstrumentType tag:RegulatoryInstr start:257 stop:267 text:exemptions,\n",
       " annotator:Fride layer:Instrumenttypes type:InstrumentType tag:RegulatoryInstr start:553 stop:563 text:exemptions,\n",
       " annotator:Fride layer:Instrumenttypes type:InstrumentType tag:RegulatoryInstr start:567 stop:578 text:derogations,\n",
       " annotator:Fride layer:Policydesigncharacteristics type:Actor tag:Addressee_default start:48 stop:61 text:member states,\n",
       " annotator:Fride layer:Policydesigncharacteristics type:Actor tag:Addressee_resource start:84 stop:105 text:commission (eurostat),\n",
       " annotator:Fride layer:Policydesigncharacteristics type:Resource tag:Resource_Other start:110 stop:129 text:national statistics,\n",
       " annotator:Fride layer:Policydesigncharacteristics type:Time tag:Time_Resources start:228 stop:239 text:time limits,\n",
       " annotator:Fride layer:Policydesigncharacteristics type:Resource tag:Resource_Other start:366 stop:385 text:national statistics,\n",
       " annotator:Fride layer:Policydesigncharacteristics type:Actor tag:Addressee_default start:528 stop:540 text:member state,\n",
       " annotator:Fride layer:Policydesigncharacteristics type:Actor tag:Authority_default start:601 stop:611 text:commission,\n",
       " annotator:Fride layer:Policydesigncharacteristics type:Resource tag:Resource_Other start:709 stop:728 text:national statistics,\n",
       " annotator:Fride layer:Policydesigncharacteristics type:Actor tag:Addressee_default start:814 stop:835 text:commission (eurostat),\n",
       " annotator:Fride layer:Policydesigncharacteristics type:Resource tag:Resource_Other start:861 stop:878 text:energy statistics,\n",
       " annotator:Fride layer:Policydesigncharacteristics type:Time tag:Time_Compliance start:882 stop:941 text:31 january of the second year following the reported period,\n",
       " annotator:Onerva layer:Policydesigncharacteristics type:Actor tag:Authority_default start:48 stop:61 text:member states,\n",
       " annotator:Onerva layer:Policydesigncharacteristics type:Actor tag:Addressee_default start:84 stop:105 text:commission (eurostat),\n",
       " annotator:Onerva layer:Policydesigncharacteristics type:Resource tag:Resource_Other start:110 stop:129 text:national statistics,\n",
       " annotator:Onerva layer:Policydesigncharacteristics type:Resource tag:Resource_Other start:366 stop:385 text:national statistics,\n",
       " annotator:Onerva layer:Policydesigncharacteristics type:Actor tag:Authority_default start:528 stop:540 text:member state,\n",
       " annotator:Onerva layer:Policydesigncharacteristics type:Actor tag:Authority_default start:601 stop:611 text:commission,\n",
       " annotator:Onerva layer:Policydesigncharacteristics type:Resource tag:Resource_Other start:709 stop:728 text:national statistics,\n",
       " annotator:Onerva layer:Policydesigncharacteristics type:Actor tag:Authority_default start:814 stop:835 text:commission (eurostat),\n",
       " annotator:Onerva layer:Policydesigncharacteristics type:Resource tag:Resource_Other start:861 stop:878 text:energy statistics,\n",
       " annotator:Onerva layer:Policydesigncharacteristics type:Time tag:Time_Resources start:882 stop:941 text:31 january of the second year following the reported period,\n",
       " annotator:Onerva layer:Policydesigncharacteristics type:Compliance tag:Form_monitoring start:926 stop:934 text:reported,\n",
       " annotator:Alisha layer:Policydesigncharacteristics type:Actor tag:Authority_default start:32 stop:42 text:commission,\n",
       " annotator:Alisha layer:Policydesigncharacteristics type:Actor tag:Authority_monitoring start:68 stop:99 text:statistical programme committee,\n",
       " annotator:Alisha layer:Policydesigncharacteristics type:Reference tag:Ref_OtherPolicy start:188 stop:208 text:decision 1999/468/ec,\n",
       " annotator:Alisha layer:Policydesigncharacteristics type:Reference tag:Ref_OtherPolicy start:344 stop:364 text:decision 1999/468/ec,\n",
       " annotator:Alisha layer:Policydesigncharacteristics type:Reference tag:Ref_OtherPolicy start:476 stop:496 text:decision 1999/468/ec,\n",
       " annotator:Alisha layer:Policydesigncharacteristics type:Time tag:Time_Compliance start:506 stop:518 text:three months,\n",
       " annotator:Fride layer:Instrumenttypes type:InstrumentType tag:Unspecified start:243 stop:253 text:provisions,\n",
       " annotator:Fride layer:Instrumenttypes type:InstrumentType tag:Unspecified start:399 stop:409 text:provisions,\n",
       " annotator:Fride layer:Policydesigncharacteristics type:Actor tag:Authority_default start:12 stop:21 text:committee,\n",
       " annotator:Fride layer:Policydesigncharacteristics type:Actor tag:Authority_default start:32 stop:42 text:commission,\n",
       " annotator:Fride layer:Policydesigncharacteristics type:Reference tag:Ref_OtherPolicy start:188 stop:208 text:decision 1999/468/ec,\n",
       " annotator:Fride layer:Policydesigncharacteristics type:Reference tag:Ref_OtherPolicy start:344 stop:364 text:decision 1999/468/ec,\n",
       " annotator:Fride layer:Policydesigncharacteristics type:Reference tag:Ref_OtherPolicy start:476 stop:496 text:decision 1999/468/ec,\n",
       " annotator:Onerva layer:Policydesigncharacteristics type:Actor tag:Authority_default start:32 stop:42 text:commission,\n",
       " annotator:Onerva layer:Policydesigncharacteristics type:Actor tag:Addressee_default start:68 stop:99 text:statistical programme committee,\n",
       " annotator:Onerva layer:Policydesigncharacteristics type:Reference tag:Ref_OtherPolicy start:188 stop:208 text:decision 1999/468/ec,\n",
       " annotator:Onerva layer:Policydesigncharacteristics type:Reference tag:Ref_OtherPolicy start:344 stop:364 text:decision 1999/468/ec,\n",
       " annotator:Onerva layer:Policydesigncharacteristics type:Reference tag:Ref_OtherPolicy start:476 stop:496 text:decision 1999/468/ec,\n",
       " annotator:Alisha layer:Instrumenttypes type:InstrumentType tag:RegulatoryInstr start:246 stop:266 text:regulatory procedure,\n",
       " annotator:Alisha layer:Instrumenttypes type:InstrumentType tag:RegulatoryInstr start:918 stop:938 text:regulatory procedure,\n",
       " annotator:Alisha layer:Policydesigncharacteristics type:Compliance tag:Form_monitoring start:402 stop:421 text:national statistics,\n",
       " annotator:Alisha layer:Policydesigncharacteristics type:Time tag:Time_Monitoring start:607 stop:613 text:annual,\n",
       " annotator:Alisha layer:Policydesigncharacteristics type:Compliance tag:Form_monitoring start:614 stop:632 text:nuclear statistics,\n",
       " annotator:Alisha layer:Policydesigncharacteristics type:Compliance tag:Form_monitoring start:686 stop:703 text:energy statistics,\n",
       " annotator:Alisha layer:Policydesigncharacteristics type:Compliance tag:Form_monitoring start:781 stop:803 text:consumption statistics,\n",
       " annotator:Alisha layer:Policydesigncharacteristics type:Compliance tag:Form_monitoring start:1051 stop:1060 text:reporting,\n",
       " annotator:Alisha layer:Technologyandapplicationspecificity type:EnergySpecificity tag:Energy_LowCarbon start:614 stop:621 text:nuclear,\n",
       " annotator:Alisha layer:Technologyandapplicationspecificity type:EnergySpecificity tag:Energy_LowCarbon start:676 stop:692 text:renewable energy,\n",
       " annotator:Alisha layer:Technologyandapplicationspecificity type:ApplicationSpecificity tag:App_Other start:774 stop:792 text:energy consumption,\n",
       " annotator:Alisha layer:Technologyandapplicationspecificity type:EnergySpecificity tag:Energy_Other start:774 stop:780 text:energy,\n",
       " annotator:Fride layer:Instrumenttypes type:InstrumentType tag:Unspecified start:12 stop:33 text:implementing measures,\n",
       " annotator:Fride layer:Instrumenttypes type:InstrumentType tag:Unspecified start:54 stop:62 text:measures,\n",
       " annotator:Fride layer:Instrumenttypes type:InstrumentType tag:RegulatoryInstr start:837 stop:847 text:exemptions,\n",
       " annotator:Fride layer:Instrumenttypes type:InstrumentType tag:RegulatoryInstr start:851 stop:862 text:derogations,\n",
       " annotator:Fride layer:Policydesigncharacteristics type:Resource tag:Resource_Other start:402 stop:421 text:national statistics,\n",
       " annotator:Fride layer:Policydesigncharacteristics type:Time tag:Time_Resources start:607 stop:613 text:annual,\n",
       " annotator:Fride layer:Policydesigncharacteristics type:Resource tag:Resource_Other start:614 stop:632 text:nuclear statistics,\n",
       " annotator:Fride layer:Policydesigncharacteristics type:Resource tag:Resource_Other start:676 stop:703 text:renewable energy statistics,\n",
       " annotator:Fride layer:Policydesigncharacteristics type:Resource tag:Resource_Other start:768 stop:803 text:final energy consumption statistics,\n",
       " annotator:Onerva layer:Policydesigncharacteristics type:Resource tag:Resource_Other start:1026 stop:1042 text:additional costs,\n",
       " annotator:Onerva layer:Policydesigncharacteristics type:Compliance tag:Form_monitoring start:1051 stop:1060 text:reporting,\n",
       " annotator:Onerva layer:Technologyandapplicationspecificity type:TechnologySpecificity tag:Tech_LowCarbon start:614 stop:621 text:nuclear,\n",
       " annotator:Alisha layer:Instrumenttypes type:InstrumentType tag:RegulatoryInstr start:687 stop:707 text:regulatory procedure,\n",
       " annotator:Alisha layer:Policydesigncharacteristics type:Compliance tag:Form_monitoring start:73 stop:92 text:national statistics,\n",
       " annotator:Alisha layer:Policydesigncharacteristics type:Compliance tag:Form_monitoring start:103 stop:122 text:national statistics,\n",
       " annotator:Alisha layer:Policydesigncharacteristics type:Compliance tag:Form_monitoring start:129 stop:137 text:reported,\n",
       " annotator:Alisha layer:Policydesigncharacteristics type:Time tag:Time_Monitoring start:238 stop:244 text:annual,\n",
       " annotator:Alisha layer:Policydesigncharacteristics type:Compliance tag:Form_monitoring start:254 stop:271 text:energy statistics,\n",
       " annotator:Alisha layer:Policydesigncharacteristics type:Time tag:Time_Monitoring start:290 stop:297 text:monthly,\n",
       " annotator:Alisha layer:Policydesigncharacteristics type:Compliance tag:Form_monitoring start:307 stop:324 text:energy statistics,\n",
       " annotator:Alisha layer:Policydesigncharacteristics type:Time tag:Time_Monitoring start:343 stop:361 text:short-term monthly,\n",
       " annotator:Alisha layer:Policydesigncharacteristics type:Compliance tag:Form_monitoring start:371 stop:388 text:energy statistics,\n",
       " annotator:Alisha layer:Technologyandapplicationspecificity type:EnergySpecificity tag:Energy_Other start:23 stop:38 text:energy products,\n",
       " annotator:Alisha layer:Technologyandapplicationspecificity type:EnergySpecificity tag:Energy_Other start:254 stop:260 text:energy,\n",
       " annotator:Alisha layer:Technologyandapplicationspecificity type:EnergySpecificity tag:Energy_Other start:307 stop:313 text:energy,\n",
       " annotator:Alisha layer:Technologyandapplicationspecificity type:EnergySpecificity tag:Energy_Other start:371 stop:377 text:energy,\n",
       " annotator:Fride layer:Policydesigncharacteristics type:Resource tag:Resource_Other start:73 stop:92 text:national statistics,\n",
       " annotator:Fride layer:Policydesigncharacteristics type:Resource tag:Resource_Other start:103 stop:122 text:national statistics,\n",
       " annotator:Fride layer:Policydesigncharacteristics type:Time tag:Time_Resources start:238 stop:244 text:annual,\n",
       " annotator:Fride layer:Policydesigncharacteristics type:Resource tag:Resource_Other start:254 stop:271 text:energy statistics,\n",
       " annotator:Fride layer:Policydesigncharacteristics type:Time tag:Time_Resources start:290 stop:297 text:monthly,\n",
       " annotator:Fride layer:Policydesigncharacteristics type:Resource tag:Resource_Other start:307 stop:324 text:energy statistics,\n",
       " annotator:Fride layer:Policydesigncharacteristics type:Time tag:Time_Resources start:343 stop:361 text:short-term monthly,\n",
       " annotator:Fride layer:Policydesigncharacteristics type:Resource tag:Resource_Other start:371 stop:388 text:energy statistics,\n",
       " annotator:Fride layer:Policydesigncharacteristics type:Resource tag:Resource_Other start:578 stop:582 text:data,\n",
       " annotator:Fride layer:Technologyandapplicationspecificity type:EnergySpecificity tag:Energy_Other start:23 stop:38 text:energy products,\n",
       " annotator:Onerva layer:Policydesigncharacteristics type:Compliance tag:Form_monitoring start:129 stop:137 text:reported,\n",
       " annotator:Alisha layer:Policydesigncharacteristics type:Time tag:Time_InEffect start:76 stop:110 text:20th day following its publication,\n",
       " annotator:Alisha layer:Policydesigncharacteristics type:Actor tag:Addressee_default start:239 stop:252 text:member states,\n",
       " annotator:Fride layer:Policydesigncharacteristics type:Time tag:Time_InEffect start:76 stop:134 text:20th day following its publication in the official journal,\n",
       " annotator:Fride layer:Policydesigncharacteristics type:Actor tag:Addressee_default start:239 stop:252 text:member states,\n",
       " annotator:Onerva layer:Policydesigncharacteristics type:Time tag:Time_InEffect start:52 stop:156 text:enter into force on the 20th day following its publication in the official journal of the european union,\n",
       " annotator:Onerva layer:Policydesigncharacteristics type:Actor tag:Addressee_default start:239 stop:252 text:member states,\n",
       " annotator:Alisha layer:Policydesigncharacteristics type:Compliance tag:Form_monitoring start:11 stop:29 text:quality assessment,\n",
       " annotator:Alisha layer:Policydesigncharacteristics type:Compliance tag:Form_monitoring start:34 stop:41 text:reports,\n",
       " annotator:Alisha layer:Policydesigncharacteristics type:Actor tag:Addressee_monitored start:48 stop:61 text:member states,\n",
       " annotator:Alisha layer:Policydesigncharacteristics type:Reference tag:Ref_OtherPolicy start:286 stop:306 text:decision 2005/166/ec,\n",
       " annotator:Alisha layer:Policydesigncharacteristics type:Reference tag:Ref_OtherPolicy start:366 stop:389 text:decision no 280/2004/ec,\n",
       " annotator:Alisha layer:Policydesigncharacteristics type:Reference tag:Ref_Strategy_Agreement start:534 stop:548 text:kyoto protocol,\n",
       " annotator:Alisha layer:Policydesigncharacteristics type:Compliance tag:Form_monitoring start:692 stop:701 text:relevance,\n",
       " annotator:Alisha layer:Policydesigncharacteristics type:Compliance tag:Form_monitoring start:803 stop:811 text:accuracy,\n",
       " annotator:Alisha layer:Policydesigncharacteristics type:Compliance tag:Form_monitoring start:890 stop:900 text:timeliness,\n",
       " annotator:Alisha layer:Policydesigncharacteristics type:Compliance tag:Form_monitoring start:1020 stop:1031 text:punctuality,\n",
       " annotator:Alisha layer:Policydesigncharacteristics type:Compliance tag:Form_monitoring start:1165 stop:1178 text:accessibility,\n",
       " annotator:Alisha layer:Policydesigncharacteristics type:Compliance tag:Form_monitoring start:1185 stop:1192 text:clarity,\n",
       " annotator:Alisha layer:Policydesigncharacteristics type:Compliance tag:Form_monitoring start:1297 stop:1310 text:comparability,\n",
       " annotator:Alisha layer:Policydesigncharacteristics type:Compliance tag:Form_monitoring start:1537 stop:1546 text:coherence,\n",
       " annotator:Alisha layer:Policydesigncharacteristics type:Time tag:Time_Monitoring start:1658 stop:1674 text:every five years,\n",
       " annotator:Alisha layer:Policydesigncharacteristics type:Actor tag:Addressee_monitored start:1676 stop:1689 text:member states,\n",
       " annotator:Alisha layer:Policydesigncharacteristics type:Actor tag:Authority_monitoring start:1708 stop:1718 text:commission,\n",
       " annotator:Alisha layer:Policydesigncharacteristics type:Actor tag:Authority_monitoring start:1720 stop:1728 text:eurostat,\n",
       " annotator:Alisha layer:Policydesigncharacteristics type:Compliance tag:Form_monitoring start:1737 stop:1743 text:report,\n",
       " annotator:Alisha layer:Policydesigncharacteristics type:Time tag:Time_Compliance start:1851 stop:1868 text:within six months,\n",
       " annotator:Alisha layer:Policydesigncharacteristics type:Actor tag:Authority_monitoring start:1902 stop:1912 text:commission,\n",
       " annotator:Alisha layer:Policydesigncharacteristics type:Actor tag:Authority_monitoring start:1914 stop:1922 text:eurostat,\n",
       " annotator:Alisha layer:Policydesigncharacteristics type:Actor tag:Addressee_monitored start:1997 stop:2010 text:member states,\n",
       " annotator:Alisha layer:Policydesigncharacteristics type:Actor tag:Authority_monitoring start:2029 stop:2039 text:commission,\n",
       " annotator:Alisha layer:Policydesigncharacteristics type:Actor tag:Authority_monitoring start:2041 stop:2049 text:eurostat,\n",
       " annotator:Alisha layer:Policydesigncharacteristics type:Compliance tag:Form_monitoring start:2053 stop:2059 text:report,\n",
       " annotator:Alisha layer:Technologyandapplicationspecificity type:EnergySpecificity tag:Energy_Other start:190 stop:196 text:energy,\n",
       " annotator:Fride layer:Instrumenttypes type:InstrumentType tag:RegulatoryInstr start:343 stop:348 text:rules,\n",
       " annotator:Fride layer:Policydesigncharacteristics type:Compliance tag:Form_monitoring start:11 stop:29 text:quality assessment,\n",
       " annotator:Fride layer:Policydesigncharacteristics type:Compliance tag:Form_monitoring start:34 stop:41 text:reports,\n",
       " annotator:Fride layer:Policydesigncharacteristics type:Actor tag:Addressee_default start:48 stop:61 text:member states,\n",
       " annotator:Fride layer:Policydesigncharacteristics type:Resource tag:Resource_Other start:94 stop:98 text:data,\n",
       " annotator:Fride layer:Policydesigncharacteristics type:Resource tag:Resource_Other start:190 stop:201 text:energy data,\n",
       " annotator:Fride layer:Policydesigncharacteristics type:Reference tag:Ref_OtherPolicy start:275 stop:306 text:commission decision 2005/166/ec,\n",
       " annotator:Fride layer:Policydesigncharacteristics type:Reference tag:Ref_OtherPolicy start:366 stop:389 text:decision no 280/2004/ec,\n",
       " annotator:Fride layer:Policydesigncharacteristics type:Actor tag:Authority_legislative start:397 stop:416 text:european parliament,\n",
       " annotator:Fride layer:Policydesigncharacteristics type:Actor tag:Authority_legislative start:428 stop:435 text:council,\n",
       " annotator:Fride layer:Policydesigncharacteristics type:Compliance tag:Form_monitoring start:463 stop:473 text:monitoring,\n",
       " annotator:Fride layer:Policydesigncharacteristics type:Reference tag:Ref_Strategy_Agreement start:534 stop:548 text:kyoto protocol,\n",
       " annotator:Fride layer:Policydesigncharacteristics type:Resource tag:Resource_Other start:661 stop:665 text:data,\n",
       " annotator:Fride layer:Policydesigncharacteristics type:Compliance tag:Form_monitoring start:672 stop:683 text:transmitted,\n",
       " annotator:Fride layer:Policydesigncharacteristics type:Resource tag:Resource_Other start:738 stop:748 text:statistics,\n",
       " annotator:Fride layer:Policydesigncharacteristics type:Actor tag:Addressee_resource start:789 stop:794 text:users,\n",
       " annotator:Fride layer:Policydesigncharacteristics type:Resource tag:Resource_Other start:959 stop:970 text:information,\n",
       " annotator:Fride layer:Policydesigncharacteristics type:Resource tag:Resource_Other start:1097 stop:1101 text:data,\n",
       " annotator:Fride layer:Policydesigncharacteristics type:Actor tag:Addressee_resource start:1248 stop:1253 text:users,\n",
       " annotator:Fride layer:Policydesigncharacteristics type:Resource tag:Resource_Other start:1284 stop:1288 text:data,\n",
       " annotator:Fride layer:Policydesigncharacteristics type:Resource tag:Resource_Other start:1447 stop:1457 text:statistics,\n",
       " annotator:Fride layer:Policydesigncharacteristics type:Resource tag:Resource_Other start:1583 stop:1587 text:data,\n",
       " annotator:Fride layer:Policydesigncharacteristics type:Time tag:Time_Monitoring start:1658 stop:1674 text:every five years,\n",
       " annotator:Fride layer:Policydesigncharacteristics type:Actor tag:Addressee_monitored start:1676 stop:1689 text:member states,\n",
       " annotator:Fride layer:Policydesigncharacteristics type:Actor tag:Authority_monitoring start:1708 stop:1729 text:commission (eurostat),\n",
       " annotator:Fride layer:Policydesigncharacteristics type:Compliance tag:Form_monitoring start:1737 stop:1743 text:report,\n",
       " annotator:Fride layer:Policydesigncharacteristics type:Resource tag:Resource_Other start:1766 stop:1770 text:data,\n",
       " annotator:Fride layer:Policydesigncharacteristics type:Time tag:Time_Monitoring start:1851 stop:1923 text:within six months of receipt of a request from the commission (eurostat),\n",
       " annotator:Fride layer:Policydesigncharacteristics type:Actor tag:Authority_monitoring start:1902 stop:1923 text:commission (eurostat),\n",
       " annotator:Fride layer:Policydesigncharacteristics type:Compliance tag:Form_monitoring start:1953 stop:1959 text:assess,\n",
       " annotator:Fride layer:Policydesigncharacteristics type:Resource tag:Resource_Other start:1979 stop:1983 text:data,\n",
       " annotator:Fride layer:Policydesigncharacteristics type:Actor tag:Addressee_monitored start:1997 stop:2010 text:member states,\n",
       " annotator:Fride layer:Policydesigncharacteristics type:Actor tag:Authority_monitoring start:2029 stop:2050 text:commission (eurostat),\n",
       " annotator:Fride layer:Policydesigncharacteristics type:Compliance tag:Form_monitoring start:2053 stop:2059 text:report,\n",
       " annotator:Onerva layer:Instrumenttypes type:InstrumentType tag:RegulatoryInstr start:343 stop:348 text:rules,\n",
       " annotator:Onerva layer:Policydesigncharacteristics type:Compliance tag:Form_monitoring start:11 stop:29 text:quality assessment,\n",
       " annotator:Onerva layer:Policydesigncharacteristics type:Compliance tag:Form_monitoring start:34 stop:41 text:reports,\n",
       " annotator:Onerva layer:Policydesigncharacteristics type:Actor tag:Authority_default start:48 stop:61 text:member states,\n",
       " annotator:Onerva layer:Policydesigncharacteristics type:Resource tag:Resource_Other start:94 stop:98 text:data,\n",
       " annotator:Onerva layer:Policydesigncharacteristics type:Reference tag:Ref_OtherPolicy start:275 stop:306 text:commission decision 2005/166/ec,\n",
       " annotator:Onerva layer:Policydesigncharacteristics type:Reference tag:Ref_OtherPolicy start:366 stop:389 text:decision no 280/2004/ec,\n",
       " annotator:Onerva layer:Policydesigncharacteristics type:Reference tag:Ref_OtherPolicy start:534 stop:548 text:kyoto protocol,\n",
       " annotator:Onerva layer:Policydesigncharacteristics type:Compliance tag:Form_monitoring start:612 stop:630 text:quality assessment,\n",
       " annotator:Onerva layer:Policydesigncharacteristics type:Actor tag:Addressee_default start:1248 stop:1253 text:users,\n",
       " annotator:Onerva layer:Policydesigncharacteristics type:Actor tag:Addressee_monitored start:1676 stop:1689 text:member states,\n",
       " annotator:Onerva layer:Policydesigncharacteristics type:Actor tag:Authority_monitoring start:1708 stop:1729 text:commission (eurostat),\n",
       " annotator:Onerva layer:Policydesigncharacteristics type:Compliance tag:Form_monitoring start:1737 stop:1743 text:report,\n",
       " annotator:Onerva layer:Policydesigncharacteristics type:Resource tag:Resource_Other start:1766 stop:1770 text:data,\n",
       " annotator:Onerva layer:Policydesigncharacteristics type:Time tag:Time_Monitoring start:1851 stop:1923 text:within six months of receipt of a request from the commission (eurostat),\n",
       " annotator:Onerva layer:Policydesigncharacteristics type:Actor tag:Authority_monitoring start:1902 stop:1923 text:commission (eurostat),\n",
       " annotator:Onerva layer:Policydesigncharacteristics type:Resource tag:Resource_Other start:1979 stop:1983 text:data,\n",
       " annotator:Onerva layer:Policydesigncharacteristics type:Actor tag:Addressee_monitored start:1997 stop:2010 text:member states,\n",
       " annotator:Onerva layer:Policydesigncharacteristics type:Actor tag:Authority_legislative start:2029 stop:2050 text:commission (eurostat),\n",
       " annotator:Onerva layer:Policydesigncharacteristics type:Compliance tag:Form_monitoring start:2053 stop:2059 text:report,\n",
       " annotator:Alisha layer:Policydesigncharacteristics type:Actor tag:Addressee_monitored start:41 stop:54 text:member states,\n",
       " annotator:Alisha layer:Policydesigncharacteristics type:Time tag:Time_InEffect start:116 stop:146 text:beginning of the calendar year,\n",
       " annotator:Fride layer:Policydesigncharacteristics type:Actor tag:Addressee_monitored start:41 stop:54 text:member states,\n",
       " annotator:Fride layer:Policydesigncharacteristics type:Resource tag:Resource_Other start:73 stop:77 text:data,\n",
       " annotator:Fride layer:Policydesigncharacteristics type:Time tag:Time_Resources start:112 stop:188 text:the beginning of the calendar year following the adoption of this regulation,\n",
       " annotator:Fride layer:Policydesigncharacteristics type:Time tag:Time_Resources start:241 stop:275 text:frequencies laid down in article 4,\n",
       " annotator:Onerva layer:Policydesigncharacteristics type:Actor tag:Authority_default start:41 stop:54 text:member states,\n",
       " annotator:Onerva layer:Policydesigncharacteristics type:Resource tag:Resource_Other start:73 stop:77 text:data,\n",
       " annotator:Onerva layer:Policydesigncharacteristics type:Time tag:Time_Resources start:107 stop:188 text:from the beginning of the calendar year following the adoption of this regulation,\n",
       " annotator:Alisha layer:Policydesigncharacteristics type:Actor tag:Addressee_default start:95 stop:106 text:respondents,\n",
       " annotator:Alisha layer:Policydesigncharacteristics type:Actor tag:Authority_monitoring start:145 stop:158 text:member states,\n",
       " annotator:Alisha layer:Policydesigncharacteristics type:Compliance tag:Form_monitoring start:165 stop:177 text:compile data,\n",
       " annotator:Alisha layer:Policydesigncharacteristics type:Actor tag:Addressee_sector start:233 stop:242 text:community,\n",
       " annotator:Alisha layer:Policydesigncharacteristics type:Compliance tag:Form_monitoring start:286 stop:305 text:statistical surveys,\n",
       " annotator:Alisha layer:Policydesigncharacteristics type:Actor tag:Addressee_sector start:347 stop:375 text:energy producers and traders,\n",
       " annotator:Alisha layer:Policydesigncharacteristics type:Actor tag:Addressee_sector start:377 stop:406 text:distributors and transporters,\n",
       " annotator:Alisha layer:Policydesigncharacteristics type:Actor tag:Addressee_sector start:408 stop:450 text:importers and exporters of energy products,\n",
       " annotator:Alisha layer:Policydesigncharacteristics type:Compliance tag:Form_monitoring start:464 stop:483 text:statistical surveys,\n",
       " annotator:Alisha layer:Policydesigncharacteristics type:Actor tag:Addressee_sector start:497 stop:515 text:final energy users,\n",
       " annotator:Alisha layer:Policydesigncharacteristics type:Actor tag:Addressee_sector start:534 stop:556 text:manufacturing industry,\n",
       " annotator:Alisha layer:Policydesigncharacteristics type:Actor tag:Addressee_sector start:558 stop:567 text:transport,\n",
       " annotator:Alisha layer:Policydesigncharacteristics type:Actor tag:Addressee_sector start:598 stop:608 text:households,\n",
       " annotator:Alisha layer:Policydesigncharacteristics type:Compliance tag:Form_monitoring start:622 stop:644 text:statistical estimation,\n",
       " annotator:Alisha layer:Policydesigncharacteristics type:Actor tag:Addressee_sector start:716 stop:761 text:regulators of the electricity and gas markets,\n",
       " annotator:Alisha layer:Policydesigncharacteristics type:Actor tag:Addressee_default start:769 stop:782 text:member states,\n",
       " annotator:Alisha layer:Policydesigncharacteristics type:Compliance tag:Form_monitoring start:832 stop:841 text:reporting,\n",
       " annotator:Alisha layer:Policydesigncharacteristics type:Compliance tag:Form_monitoring start:869 stop:888 text:national statistics,\n",
       " annotator:Alisha layer:Technologyandapplicationspecificity type:EnergySpecificity tag:Energy_Other start:189 stop:204 text:energy products,\n",
       " annotator:Alisha layer:Technologyandapplicationspecificity type:EnergySpecificity tag:Energy_Other start:347 stop:353 text:energy,\n",
       " annotator:Alisha layer:Technologyandapplicationspecificity type:ApplicationSpecificity tag:App_Other start:377 stop:450 text:distributors and transporters, importers and exporters of energy products,\n",
       " annotator:Alisha layer:Technologyandapplicationspecificity type:EnergySpecificity tag:Energy_Other start:435 stop:450 text:energy products,\n",
       " annotator:Alisha layer:Technologyandapplicationspecificity type:ApplicationSpecificity tag:App_Other start:497 stop:608 text:final energy users in the sectors of manufacturing industry, transport, and other sectors, including households,\n",
       " annotator:Alisha layer:Technologyandapplicationspecificity type:EnergySpecificity tag:Energy_Other start:503 stop:509 text:energy,\n",
       " annotator:Alisha layer:Technologyandapplicationspecificity type:EnergySpecificity tag:Energy_Other start:734 stop:745 text:electricity,\n",
       " annotator:Alisha layer:Technologyandapplicationspecificity type:EnergySpecificity tag:Energy_Other start:750 stop:753 text:gas,\n",
       " annotator:Fride layer:Instrumenttypes type:InstrumentType tag:RegulatoryInstr start:811 stop:816 text:rules,\n",
       " annotator:Fride layer:Policydesigncharacteristics type:Actor tag:Addressee_default start:145 stop:158 text:member states,\n",
       " annotator:Fride layer:Policydesigncharacteristics type:Resource tag:Resource_Other start:173 stop:177 text:data,\n",
       " annotator:Fride layer:Policydesigncharacteristics type:Actor tag:Addressee_default start:354 stop:363 text:producers,\n",
       " annotator:Fride layer:Policydesigncharacteristics type:Actor tag:Addressee_default start:368 stop:375 text:traders,\n",
       " annotator:Fride layer:Policydesigncharacteristics type:Actor tag:Addressee_default start:377 stop:389 text:distributors,\n",
       " annotator:Fride layer:Policydesigncharacteristics type:Actor tag:Addressee_default start:394 stop:406 text:transporters,\n",
       " annotator:Fride layer:Policydesigncharacteristics type:Actor tag:Addressee_default start:408 stop:417 text:importers,\n",
       " annotator:Fride layer:Policydesigncharacteristics type:Actor tag:Addressee_default start:422 stop:431 text:exporters,\n",
       " annotator:Fride layer:Policydesigncharacteristics type:Actor tag:Addressee_default start:497 stop:515 text:final energy users,\n",
       " annotator:Fride layer:Policydesigncharacteristics type:Actor tag:Addressee_sector start:534 stop:556 text:manufacturing industry,\n",
       " annotator:Fride layer:Policydesigncharacteristics type:Actor tag:Addressee_sector start:558 stop:567 text:transport,\n",
       " annotator:Fride layer:Policydesigncharacteristics type:Actor tag:Addressee_sector start:573 stop:586 text:other sectors,\n",
       " annotator:Fride layer:Policydesigncharacteristics type:Actor tag:Addressee_sector start:598 stop:608 text:households,\n",
       " annotator:Fride layer:Policydesigncharacteristics type:Actor tag:Addressee_default start:716 stop:726 text:regulators,\n",
       " annotator:Fride layer:Policydesigncharacteristics type:Actor tag:Authority_default start:769 stop:782 text:member states,\n",
       " annotator:Fride layer:Policydesigncharacteristics type:Compliance tag:Form_monitoring start:832 stop:841 text:reporting,\n",
       " annotator:Fride layer:Policydesigncharacteristics type:Resource tag:Resource_Other start:849 stop:853 text:data,\n",
       " annotator:Fride layer:Policydesigncharacteristics type:Resource tag:Resource_Other start:869 stop:888 text:national statistics,\n",
       " annotator:Fride layer:Policydesigncharacteristics type:Resource tag:Resource_Other start:968 stop:972 text:data,\n",
       " annotator:Fride layer:Technologyandapplicationspecificity type:EnergySpecificity tag:Energy_Other start:189 stop:204 text:energy products,\n",
       " annotator:Fride layer:Technologyandapplicationspecificity type:EnergySpecificity tag:Energy_Other start:323 stop:353 text:primary and transformed energy,\n",
       " annotator:Fride layer:Technologyandapplicationspecificity type:EnergySpecificity tag:Energy_Other start:435 stop:450 text:energy products,\n",
       " annotator:Fride layer:Technologyandapplicationspecificity type:EnergySpecificity tag:Energy_LowCarbon start:734 stop:745 text:electricity,\n",
       " annotator:Fride layer:Technologyandapplicationspecificity type:EnergySpecificity tag:Energy_Other start:750 stop:753 text:gas,\n",
       " annotator:Onerva layer:Instrumenttypes type:InstrumentType tag:RegulatoryInstr start:811 stop:816 text:rules,\n",
       " annotator:Onerva layer:Policydesigncharacteristics type:Actor tag:Authority_default start:145 stop:158 text:member states,\n",
       " annotator:Onerva layer:Policydesigncharacteristics type:Resource tag:Resource_Other start:173 stop:177 text:data,\n",
       " annotator:Onerva layer:Policydesigncharacteristics type:Resource tag:Resource_Other start:277 stop:305 text:specific statistical surveys,\n",
       " annotator:Onerva layer:Policydesigncharacteristics type:Actor tag:Addressee_sector start:323 stop:450 text:primary and transformed energy producers and traders, distributors and transporters, importers and exporters of energy products,\n",
       " annotator:Onerva layer:Policydesigncharacteristics type:Resource tag:Resource_Other start:458 stop:483 text:other statistical surveys,\n",
       " annotator:Onerva layer:Policydesigncharacteristics type:Actor tag:Addressee_sector start:497 stop:515 text:final energy users,\n",
       " annotator:Onerva layer:Policydesigncharacteristics type:Actor tag:Addressee_sector start:534 stop:608 text:manufacturing industry, transport, and other sectors, including households,\n",
       " annotator:Onerva layer:Policydesigncharacteristics type:Resource tag:Resource_Other start:622 stop:672 text:statistical estimation procedures or other sources,\n",
       " annotator:Onerva layer:Policydesigncharacteristics type:Actor tag:Addressee_default start:716 stop:761 text:regulators of the electricity and gas markets,\n",
       " annotator:Onerva layer:Policydesigncharacteristics type:Actor tag:Authority_default start:769 stop:782 text:member states,\n",
       " annotator:Onerva layer:Policydesigncharacteristics type:Compliance tag:Form_monitoring start:832 stop:841 text:reporting,\n",
       " annotator:Onerva layer:Technologyandapplicationspecificity type:TechnologySpecificity tag:Tech_LowCarbon start:189 stop:225 text:energy products and their aggregates,\n",
       " annotator:Alisha layer:Policydesigncharacteristics type:Reference tag:Ref_OtherPolicy start:201 stop:226 text:regulation (ec) no 322/97,\n",
       " annotator:Alisha layer:Policydesigncharacteristics type:Compliance tag:Form_monitoring start:235 stop:259 text:production of statistics,\n",
       " annotator:Alisha layer:Policydesigncharacteristics type:Compliance tag:Form_monitoring start:267 stop:291 text:production of statistics,\n",
       " annotator:Alisha layer:Policydesigncharacteristics type:Reference tag:Ref_OtherPolicy start:340 stop:365 text:regulation (ec) no 322/97,\n",
       " annotator:Alisha layer:Policydesigncharacteristics type:Actor tag:Authority_default start:374 stop:384 text:commission,\n",
       " annotator:Alisha layer:Policydesigncharacteristics type:Actor tag:Authority_default start:386 stop:394 text:eurostat,\n",
       " annotator:Alisha layer:Policydesigncharacteristics type:Actor tag:Authority_default start:407 stop:426 text:community authority,\n",
       " annotator:Alisha layer:Policydesigncharacteristics type:Reference tag:Ref_OtherPolicy start:475 stop:500 text:regulation (ec) no 322/97,\n",
       " annotator:Alisha layer:Policydesigncharacteristics type:Compliance tag:Form_monitoring start:640 stop:930 text:data aggregated at national level on the treatment or use of energy products, namely production, trade, stocks, transformation, consumption, and structural characteristics of the energy system such as installed capacities for electricity generation or production capacities for oil products,\n",
       " annotator:Alisha layer:Policydesigncharacteristics type:Compliance tag:Form_monitoring start:987 stop:1125 text:statistical quality: relevance, accuracy, timeliness and punctuality, accessibility and clarity, comparability, coherence and completeness,\n",
       " annotator:Alisha layer:Technologyandapplicationspecificity type:EnergySpecificity tag:Energy_Other start:509 stop:524 text:energy products,\n",
       " annotator:Alisha layer:Technologyandapplicationspecificity type:EnergySpecificity tag:Energy_Other start:531 stop:548 text:combustible fuels,\n",
       " annotator:Alisha layer:Technologyandapplicationspecificity type:EnergySpecificity tag:Energy_Other start:550 stop:554 text:heat,\n",
       " annotator:Alisha layer:Technologyandapplicationspecificity type:EnergySpecificity tag:Energy_LowCarbon start:556 stop:572 text:renewable energy,\n",
       " annotator:Alisha layer:Technologyandapplicationspecificity type:EnergySpecificity tag:Energy_Other start:574 stop:585 text:electricity,\n",
       " annotator:Alisha layer:Technologyandapplicationspecificity type:EnergySpecificity tag:Energy_Other start:590 stop:614 text:any other form of energy,\n",
       " annotator:Alisha layer:Technologyandapplicationspecificity type:ApplicationSpecificity tag:App_Other start:681 stop:779 text:treatment or use of energy products, namely production, trade, stocks, transformation, consumption,\n",
       " annotator:Alisha layer:Technologyandapplicationspecificity type:EnergySpecificity tag:Energy_Other start:701 stop:716 text:energy products,\n",
       " annotator:Alisha layer:Technologyandapplicationspecificity type:TechnologySpecificity tag:Tech_Other start:819 stop:832 text:energy system,\n",
       " annotator:Alisha layer:Technologyandapplicationspecificity type:EnergySpecificity tag:Energy_Other start:819 stop:825 text:energy,\n",
       " annotator:Alisha layer:Technologyandapplicationspecificity type:TechnologySpecificity tag:Tech_Other start:851 stop:888 text:capacities for electricity generation,\n",
       " annotator:Alisha layer:Technologyandapplicationspecificity type:EnergySpecificity tag:Energy_Other start:866 stop:877 text:electricity,\n",
       " annotator:Alisha layer:Technologyandapplicationspecificity type:ApplicationSpecificity tag:App_LowCarbon start:892 stop:930 text:production capacities for oil products,\n",
       " annotator:Alisha layer:Technologyandapplicationspecificity type:TechnologySpecificity tag:Tech_Other start:903 stop:930 text:capacities for oil products,\n",
       " annotator:Alisha layer:Technologyandapplicationspecificity type:EnergySpecificity tag:Energy_Other start:918 stop:930 text:oil products,\n",
       " annotator:Fride layer:Policydesigncharacteristics type:Resource tag:Resource_Other start:106 stop:126 text:community statistics,\n",
       " annotator:Fride layer:Policydesigncharacteristics type:Resource tag:Resource_Other start:133 stop:153 text:community statistics,\n",
       " annotator:Fride layer:Policydesigncharacteristics type:Reference tag:Ref_OtherPolicy start:201 stop:226 text:regulation (ec) no 322/97,\n",
       " annotator:Fride layer:Policydesigncharacteristics type:Resource tag:Resource_Other start:249 stop:259 text:statistics,\n",
       " annotator:Fride layer:Policydesigncharacteristics type:Resource tag:Resource_Other start:281 stop:291 text:statistics,\n",
       " annotator:Fride layer:Policydesigncharacteristics type:Reference tag:Ref_OtherPolicy start:340 stop:365 text:regulation (ec) no 322/97,\n",
       " annotator:Fride layer:Policydesigncharacteristics type:Actor tag:Authority_default start:374 stop:395 text:commission (eurostat),\n",
       " annotator:Fride layer:Policydesigncharacteristics type:Actor tag:Authority_default start:407 stop:426 text:community authority,\n",
       " annotator:Fride layer:Policydesigncharacteristics type:Reference tag:Ref_OtherPolicy start:475 stop:500 text:regulation (ec) no 322/97,\n",
       " annotator:Fride layer:Policydesigncharacteristics type:Resource tag:Resource_Other start:640 stop:644 text:data,\n",
       " annotator:Fride layer:Policydesigncharacteristics type:Resource tag:Resource_Other start:950 stop:954 text:data,\n",
       " annotator:Fride layer:Technologyandapplicationspecificity type:EnergySpecificity tag:Energy_Other start:509 stop:524 text:energy products,\n",
       " annotator:Fride layer:Technologyandapplicationspecificity type:EnergySpecificity tag:Energy_Other start:531 stop:548 text:combustible fuels,\n",
       " annotator:Fride layer:Technologyandapplicationspecificity type:EnergySpecificity tag:Energy_Other start:550 stop:554 text:heat,\n",
       " annotator:Fride layer:Technologyandapplicationspecificity type:EnergySpecificity tag:Energy_LowCarbon start:556 stop:572 text:renewable energy,\n",
       " annotator:Fride layer:Technologyandapplicationspecificity type:EnergySpecificity tag:Energy_LowCarbon start:574 stop:585 text:electricity,\n",
       " annotator:Fride layer:Technologyandapplicationspecificity type:EnergySpecificity tag:Energy_Other start:594 stop:614 text:other form of energy,\n",
       " annotator:Fride layer:Technologyandapplicationspecificity type:EnergySpecificity tag:Energy_Other start:701 stop:716 text:energy products,\n",
       " annotator:Fride layer:Technologyandapplicationspecificity type:TechnologySpecificity tag:Tech_Other start:725 stop:735 text:production,\n",
       " annotator:Fride layer:Technologyandapplicationspecificity type:ApplicationSpecificity tag:App_Other start:737 stop:742 text:trade,\n",
       " annotator:Fride layer:Technologyandapplicationspecificity type:ApplicationSpecificity tag:App_Other start:744 stop:750 text:stocks,\n",
       " annotator:Fride layer:Technologyandapplicationspecificity type:TechnologySpecificity tag:Tech_Other start:752 stop:766 text:transformation,\n",
       " annotator:Fride layer:Technologyandapplicationspecificity type:ApplicationSpecificity tag:App_Other start:768 stop:779 text:consumption,\n",
       " annotator:Fride layer:Technologyandapplicationspecificity type:TechnologySpecificity tag:Tech_Other start:819 stop:832 text:energy system,\n",
       " annotator:Fride layer:Technologyandapplicationspecificity type:TechnologySpecificity tag:Tech_Other start:841 stop:861 text:installed capacities,\n",
       " annotator:Fride layer:Technologyandapplicationspecificity type:TechnologySpecificity tag:Tech_LowCarbon start:866 stop:888 text:electricity generation,\n",
       " annotator:Fride layer:Technologyandapplicationspecificity type:EnergySpecificity tag:Energy_LowCarbon start:866 stop:877 text:electricity,\n",
       " annotator:Fride layer:Technologyandapplicationspecificity type:TechnologySpecificity tag:Tech_Other start:892 stop:930 text:production capacities for oil products,\n",
       " annotator:Fride layer:Technologyandapplicationspecificity type:EnergySpecificity tag:Energy_Other start:918 stop:930 text:oil products,\n",
       " annotator:Onerva layer:Policydesigncharacteristics type:Reference tag:Ref_OtherPolicy start:201 stop:226 text:regulation (ec) no 322/97,\n",
       " annotator:Onerva layer:Policydesigncharacteristics type:Reference tag:Ref_OtherPolicy start:340 stop:365 text:regulation (ec) no 322/97,\n",
       " annotator:Onerva layer:Policydesigncharacteristics type:Actor tag:Authority_default start:374 stop:395 text:commission (eurostat),\n",
       " annotator:Onerva layer:Policydesigncharacteristics type:Actor tag:Authority_default start:407 stop:426 text:community authority,\n",
       " annotator:Onerva layer:Policydesigncharacteristics type:Reference tag:Ref_OtherPolicy start:475 stop:500 text:regulation (ec) no 322/97,\n",
       " annotator:Onerva layer:Technologyandapplicationspecificity type:TechnologySpecificity tag:Tech_Other start:509 stop:524 text:energy products,\n",
       " annotator:Onerva layer:Technologyandapplicationspecificity type:EnergySpecificity tag:Energy_Other start:531 stop:548 text:combustible fuels,\n",
       " annotator:Onerva layer:Technologyandapplicationspecificity type:EnergySpecificity tag:Energy_Other start:550 stop:554 text:heat,\n",
       " annotator:Onerva layer:Technologyandapplicationspecificity type:EnergySpecificity tag:Energy_LowCarbon start:556 stop:572 text:renewable energy,\n",
       " annotator:Onerva layer:Technologyandapplicationspecificity type:EnergySpecificity tag:Energy_Other start:574 stop:585 text:electricity,\n",
       " annotator:Onerva layer:Technologyandapplicationspecificity type:EnergySpecificity tag:Energy_Other start:590 stop:614 text:any other form of energy,\n",
       " annotator:Onerva layer:Technologyandapplicationspecificity type:TechnologySpecificity tag:Tech_LowCarbon start:701 stop:716 text:energy products,\n",
       " annotator:Onerva layer:Technologyandapplicationspecificity type:EnergySpecificity tag:Energy_Other start:918 stop:921 text:oil,\n",
       " annotator:Alisha layer:Instrumenttypes type:InstrumentType tag:FrameworkPolicy start:79 stop:88 text:framework,\n",
       " annotator:Alisha layer:Policydesigncharacteristics type:Objective tag:Objective_QualIntention_noCCM start:97 stop:183 text:production, transmission, evaluation and dissemination of comparable energy statistics,\n",
       " annotator:Alisha layer:Policydesigncharacteristics type:Compliance tag:Form_monitoring start:97 stop:183 text:production, transmission, evaluation and dissemination of comparable energy statistics,\n",
       " annotator:Alisha layer:Policydesigncharacteristics type:Actor tag:Addressee_sector start:191 stop:200 text:community,\n",
       " annotator:Alisha layer:Policydesigncharacteristics type:Actor tag:Addressee_sector start:311 stop:320 text:community,\n",
       " annotator:Alisha layer:Technologyandapplicationspecificity type:EnergySpecificity tag:Energy_Other start:166 stop:172 text:energy,\n",
       " annotator:Alisha layer:Technologyandapplicationspecificity type:EnergySpecificity tag:Energy_Other start:267 stop:282 text:energy products,\n",
       " annotator:Alisha layer:Technologyandapplicationspecificity type:EnergySpecificity tag:Energy_Other start:267 stop:273 text:energy,\n",
       " annotator:Fride layer:Instrumenttypes type:InstrumentType tag:FrameworkPolicy start:72 stop:88 text:common framework,\n",
       " annotator:Fride layer:Policydesigncharacteristics type:Objective tag:Objective_QualIntention_noCCM start:155 stop:200 text:comparable energy statistics in the community,\n",
       " annotator:Fride layer:Policydesigncharacteristics type:Resource tag:Resource_Other start:166 stop:183 text:energy statistics,\n",
       " annotator:Fride layer:Policydesigncharacteristics type:Resource tag:Resource_Other start:239 stop:255 text:statistical data,\n",
       " annotator:Fride layer:Technologyandapplicationspecificity type:EnergySpecificity tag:Energy_Other start:267 stop:282 text:energy products,\n",
       " annotator:Onerva layer:Instrumenttypes type:InstrumentType tag:FrameworkPolicy start:79 stop:88 text:framework,\n",
       " annotator:Onerva layer:Policydesigncharacteristics type:Resource tag:Resource_Other start:166 stop:183 text:energy statistics,\n",
       " annotator:Onerva layer:Policydesigncharacteristics type:Actor tag:Addressee_default start:191 stop:200 text:community,\n",
       " annotator:Onerva layer:Policydesigncharacteristics type:Actor tag:Addressee_default start:311 stop:320 text:community,\n",
       " annotator:Onerva layer:Technologyandapplicationspecificity type:TechnologySpecificity tag:Tech_Other start:267 stop:282 text:energy products]"
      ]
     },
     "execution_count": 96,
     "metadata": {},
     "output_type": "execute_result"
    }
   ],
   "source": [
    "test_dir = repository('EU_32008R1099')\n",
    "test_corpus.get_span_list(conditional_rep = test_dir, columns = 'annotators')\n"
   ]
  },
  {
   "cell_type": "markdown",
   "metadata": {},
   "source": [
    "If I don't want to specify the item and the value, so match all the tags that match the conditional repository, I can put 'None':"
   ]
  },
  {
   "cell_type": "code",
   "execution_count": 97,
   "metadata": {},
   "outputs": [
    {
     "data": {
      "text/plain": [
       "[annotator:Alisha layer:Policydesigncharacteristics type:Actor tag:Addressee_default start:19 stop:28 text:community,\n",
       " annotator:Alisha layer:Policydesigncharacteristics type:Compliance tag:Form_monitoring start:182 stop:192 text:monitoring,\n",
       " annotator:Alisha layer:Policydesigncharacteristics type:Compliance tag:Form_monitoring start:257 stop:274 text:energy statistics,\n",
       " annotator:Alisha layer:Policydesigncharacteristics type:Compliance tag:Form_monitoring start:420 stop:430 text:monitoring,\n",
       " annotator:Alisha layer:Policydesigncharacteristics type:Compliance tag:Form_monitoring start:583 stop:592 text:assessing,\n",
       " annotator:Alisha layer:Policydesigncharacteristics type:Reference tag:Ref_OtherPolicy start:742 stop:765 text:decision no 280/2004/ec,\n",
       " annotator:Alisha layer:Policydesigncharacteristics type:end tag: start:859 stop:869 text:monitoring,\n",
       " annotator:Alisha layer:Policydesigncharacteristics type:end tag: start:870 stop:879 text:community,\n",
       " annotator:Alisha layer:Policydesigncharacteristics type:Reference tag:Ref_Strategy_Agreement start:930 stop:944 text:kyoto protocol,\n",
       " annotator:Alisha layer:Policydesigncharacteristics type:Reference tag:Ref_OtherPolicy start:956 stop:976 text:directive 2001/77/ec,\n",
       " annotator:Alisha layer:Policydesigncharacteristics type:Actor tag:Addressee_sector start:1122 stop:1149 text:internal electricity market,\n",
       " annotator:Alisha layer:Policydesigncharacteristics type:Reference tag:Ref_OtherPolicy start:1158 stop:1177 text:directive 2004/8/ec,\n",
       " annotator:Alisha layer:Policydesigncharacteristics type:Actor tag:Addressee_sector start:1314 stop:1336 text:internal energy market,\n",
       " annotator:Alisha layer:Policydesigncharacteristics type:Actor tag:Addressee_monitored start:1349 stop:1362 text:member states,\n",
       " annotator:Alisha layer:Policydesigncharacteristics type:Compliance tag:Form_monitoring start:1366 stop:1372 text:report,\n",
       " annotator:Alisha layer:Policydesigncharacteristics type:Compliance tag:Form_monitoring start:1411 stop:1418 text:monitor,\n",
       " annotator:Alisha layer:Policydesigncharacteristics type:Reference tag:Ref_OtherPolicy start:1548 stop:1568 text:directive 2002/91/ec,\n",
       " annotator:Alisha layer:Policydesigncharacteristics type:Reference tag:Ref_OtherPolicy start:1679 stop:1699 text:directive 2006/32/ec,\n",
       " annotator:Alisha layer:Policydesigncharacteristics type:Reference tag:Ref_OtherPolicy start:1819 stop:1839 text:directive 2005/32/ec,\n",
       " annotator:Alisha layer:Policydesigncharacteristics type:Actor tag:Addressee_default start:2006 stop:2019 text:member states,\n",
       " annotator:Alisha layer:Policydesigncharacteristics type:Compliance tag:Form_monitoring start:2023 stop:2029 text:report,\n",
       " annotator:Alisha layer:Policydesigncharacteristics type:Compliance tag:Form_monitoring start:2071 stop:2078 text:monitor,\n",
       " annotator:Alisha layer:Policydesigncharacteristics type:Reference tag:Ref_Strategy_Agreement start:2370 stop:2437 text:green papers of the commission of 22 june 2005 on energy efficiency,\n",
       " annotator:Alisha layer:Policydesigncharacteristics type:Reference tag:Ref_Strategy_Agreement start:2463 stop:2527 text:european strategy for sustainable, competitive and secure energy,\n",
       " annotator:Alisha layer:Policydesigncharacteristics type:Actor tag:Authority_established start:2664 stop:2698 text:european energy market observatory,\n",
       " annotator:Alisha layer:Policydesigncharacteristics type:Actor tag:Authority_default start:2787 stop:2806 text:european parliament,\n",
       " annotator:Alisha layer:Policydesigncharacteristics type:Reference tag:Ref_Strategy_Agreement start:2850 stop:2914 text:european strategy for sustainable, competitive and secure energy,\n",
       " annotator:Alisha layer:Policydesigncharacteristics type:Objective tag:Objective_QualIntention_noCCM start:3488 stop:3614 text:assist political decision-making by the european union and its member states and promote public debate which includes citizens,\n",
       " annotator:Alisha layer:Policydesigncharacteristics type:end tag: start:3528 stop:3542 text:european union,\n",
       " annotator:Alisha layer:Policydesigncharacteristics type:end tag: start:3551 stop:3564 text:member states,\n",
       " annotator:Alisha layer:Policydesigncharacteristics type:Reference tag:Ref_OtherPolicy start:4078 stop:4111 text:council regulation (ec) no 322/97,\n",
       " annotator:Alisha layer:Policydesigncharacteristics type:Objective tag:Objective_QualIntention_noCCM start:4215 stop:4358 text:establishing a common framework for the production, transmission, evaluation and dissemination of comparable energy statistics in the community,\n",
       " annotator:Alisha layer:Policydesigncharacteristics type:Actor tag:Addressee_default start:4398 stop:4411 text:member states,\n",
       " annotator:Alisha layer:Policydesigncharacteristics type:end tag: start:4946 stop:4982 text:european statistics code of practice,\n",
       " annotator:Alisha layer:Policydesigncharacteristics type:end tag: start:5029 stop:5060 text:statistical programme committee,\n",
       " annotator:Alisha layer:Policydesigncharacteristics type:end tag: start:5077 stop:5104 text:council decision 89/382/eec,\n",
       " annotator:Alisha layer:Policydesigncharacteristics type:end tag: start:5386 stop:5414 text:council decision 1999/468/ec,\n",
       " annotator:Alisha layer:Policydesigncharacteristics type:end tag: start:5515 stop:5525 text:commission,\n",
       " annotator:Alisha layer:Policydesigncharacteristics type:end tag: start:5587 stop:5597 text:commission,\n",
       " annotator:Alisha layer:Policydesigncharacteristics type:end tag: start:5638 stop:5657 text:national statistics,\n",
       " annotator:Alisha layer:Policydesigncharacteristics type:end tag: start:6244 stop:6264 text:decision 1999/468/ec,\n",
       " annotator:Alisha layer:Policydesigncharacteristics type:end tag: start:6309 stop:6319 text:commission,\n",
       " annotator:Alisha layer:Policydesigncharacteristics type:end tag: start:6359 stop:6372 text:member states,\n",
       " annotator:Alisha layer:Policydesigncharacteristics type:end tag: start:6833 stop:6864 text:statistical programme committee,\n",
       " annotator:Curation layer:Policydesigncharacteristics type:Actor tag:Authority_legislative start:47 stop:66 text:european parliament,\n",
       " annotator:Curation layer:Policydesigncharacteristics type:Actor tag:Authority_legislative start:78 stop:85 text:council,\n",
       " annotator:Curation layer:Policydesigncharacteristics type:Compliance tag:Form_monitoring start:112 stop:129 text:energy statistics,\n",
       " annotator:Curation layer:Policydesigncharacteristics type:Reference tag:Ref_Strategy_Agreement start:142 stop:145 text:eea,\n",
       " annotator:Curation layer:Policydesigncharacteristics type:Actor tag:Authority_legislative start:162 stop:181 text:european parliament,\n",
       " annotator:Curation layer:Policydesigncharacteristics type:Actor tag:Authority_legislative start:190 stop:219 text:council of the european union,\n",
       " annotator:Curation layer:Policydesigncharacteristics type:Actor tag:Authority_legislative start:190 stop:197 text:council,\n",
       " annotator:Curation layer:Policydesigncharacteristics type:Reference tag:Ref_Strategy_Agreement start:243 stop:285 text:treaty establishing the european community,\n",
       " annotator:Curation layer:Policydesigncharacteristics type:Reference tag:Ref_Strategy_Agreement start:243 stop:249 text:treaty,\n",
       " annotator:Curation layer:Policydesigncharacteristics type:Actor tag:Authority_legislative start:369 stop:379 text:commission,\n",
       " annotator:Curation layer:Policydesigncharacteristics type:Reference tag:Ref_Strategy_Agreement start:454 stop:460 text:treaty,\n",
       " annotator:Alisha layer:Policydesigncharacteristics type:Actor tag:Authority_legislative start:47 stop:66 text:european parliament,\n",
       " annotator:Alisha layer:Policydesigncharacteristics type:Actor tag:Authority_legislative start:78 stop:85 text:council,\n",
       " annotator:Alisha layer:Policydesigncharacteristics type:Compliance tag:Form_monitoring start:112 stop:129 text:energy statistics,\n",
       " annotator:Alisha layer:Policydesigncharacteristics type:Actor tag:Authority_legislative start:162 stop:181 text:european parliament,\n",
       " annotator:Alisha layer:Policydesigncharacteristics type:Actor tag:Authority_legislative start:190 stop:219 text:council of the european union,\n",
       " annotator:Alisha layer:Policydesigncharacteristics type:Actor tag:Authority_legislative start:243 stop:285 text:treaty establishing the european community,\n",
       " annotator:Alisha layer:Policydesigncharacteristics type:Actor tag:Authority_legislative start:369 stop:379 text:commission,\n",
       " annotator:Fride layer:Policydesigncharacteristics type:Actor tag:Authority_legislative start:47 stop:66 text:european parliament,\n",
       " annotator:Fride layer:Policydesigncharacteristics type:Actor tag:Authority_legislative start:78 stop:85 text:council,\n",
       " annotator:Fride layer:Policydesigncharacteristics type:Reference tag:Ref_Strategy_Agreement start:142 stop:145 text:eea,\n",
       " annotator:Fride layer:Policydesigncharacteristics type:Actor tag:Authority_legislative start:162 stop:181 text:european parliament,\n",
       " annotator:Fride layer:Policydesigncharacteristics type:Actor tag:Authority_legislative start:190 stop:197 text:council,\n",
       " annotator:Fride layer:Policydesigncharacteristics type:Reference tag:Ref_Strategy_Agreement start:243 stop:249 text:treaty,\n",
       " annotator:Fride layer:Policydesigncharacteristics type:Actor tag:Authority_default start:369 stop:379 text:commission,\n",
       " annotator:Fride layer:Policydesigncharacteristics type:Reference tag:Ref_Strategy_Agreement start:454 stop:460 text:treaty,\n",
       " annotator:Onerva layer:Policydesigncharacteristics type:Actor tag:Authority_legislative start:47 stop:66 text:european parliament,\n",
       " annotator:Onerva layer:Policydesigncharacteristics type:Actor tag:Authority_legislative start:78 stop:85 text:council,\n",
       " annotator:Onerva layer:Policydesigncharacteristics type:Actor tag:Authority_legislative start:162 stop:181 text:european parliament,\n",
       " annotator:Onerva layer:Policydesigncharacteristics type:Actor tag:Authority_legislative start:190 stop:219 text:council of the european union,\n",
       " annotator:Curation layer:Policydesigncharacteristics type:Compliance tag:Form_monitoring start:21 stop:38 text:energy statistics,\n",
       " annotator:Curation layer:Policydesigncharacteristics type:Compliance tag:Form_monitoring start:43 stop:78 text:final energy consumption statistics,\n",
       " annotator:Curation layer:Policydesigncharacteristics type:Objective tag:Objective_QualIntention_noCCM start:100 stop:181 text:improving the quality of renewable energy and final energy consumption statistics,\n",
       " annotator:Curation layer:Policydesigncharacteristics type:Actor tag:Authority_monitoring start:187 stop:208 text:commission (eurostat),\n",
       " annotator:Curation layer:Policydesigncharacteristics type:Actor tag:Addressee_default start:187 stop:208 text:commission (eurostat),\n",
       " annotator:Curation layer:Policydesigncharacteristics type:Actor tag:Authority_monitoring start:187 stop:197 text:commission,\n",
       " annotator:Curation layer:Policydesigncharacteristics type:Actor tag:Addressee_default start:187 stop:197 text:commission,\n",
       " annotator:Curation layer:Policydesigncharacteristics type:Actor tag:Authority_monitoring start:199 stop:207 text:eurostat,\n",
       " annotator:Curation layer:Policydesigncharacteristics type:Actor tag:Addressee_default start:199 stop:207 text:eurostat,\n",
       " annotator:Curation layer:Policydesigncharacteristics type:Actor tag:Authority_monitoring start:236 stop:249 text:member states,\n",
       " annotator:Curation layer:Policydesigncharacteristics type:Actor tag:Addressee_default start:236 stop:249 text:member states,\n",
       " annotator:Curation layer:Policydesigncharacteristics type:Resource tag:Resource_Other start:278 stop:288 text:statistics,\n",
       " annotator:Curation layer:Policydesigncharacteristics type:Compliance tag:Form_monitoring start:278 stop:288 text:statistics,\n",
       " annotator:Curation layer:Policydesigncharacteristics type:Compliance tag:Form_monitoring start:393 stop:420 text:renewable energy statistics,\n",
       " annotator:Curation layer:Policydesigncharacteristics type:Resource tag:Resource_Other start:393 stop:420 text:renewable energy statistics,\n",
       " annotator:Curation layer:Policydesigncharacteristics type:Resource tag:Resource_Other start:480 stop:490 text:statistics,\n",
       " annotator:Curation layer:Policydesigncharacteristics type:Compliance tag:Form_monitoring start:480 stop:490 text:statistics,\n",
       " annotator:Curation layer:Policydesigncharacteristics type:Time tag:Time_Monitoring start:524 stop:532 text:annually,\n",
       " annotator:Curation layer:Policydesigncharacteristics type:Actor tag:Authority_monitoring start:569 stop:590 text:commission (eurostat),\n",
       " annotator:Curation layer:Policydesigncharacteristics type:Actor tag:Authority_monitoring start:569 stop:579 text:commission,\n",
       " annotator:Curation layer:Policydesigncharacteristics type:Actor tag:Authority_monitoring start:581 stop:589 text:eurostat,\n",
       " annotator:Curation layer:Policydesigncharacteristics type:Resource tag:Resource_Other start:625 stop:635 text:statistics,\n",
       " annotator:Curation layer:Policydesigncharacteristics type:Resource tag:Resource_Other start:779 stop:814 text:final energy consumption statistics,\n",
       " annotator:Curation layer:Policydesigncharacteristics type:Compliance tag:Form_monitoring start:779 stop:814 text:final energy consumption statistics,\n",
       " annotator:Curation layer:Policydesigncharacteristics type:Compliance tag:Form_monitoring start:884 stop:900 text:existing studies,\n",
       " annotator:Curation layer:Policydesigncharacteristics type:Compliance tag:Form_monitoring start:905 stop:930 text:feasibility pilot studies,\n",
       " annotator:Curation layer:Policydesigncharacteristics type:Compliance tag:Form_monitoring start:943 stop:964 text:cost-benefit analyses,\n",
       " annotator:Curation layer:Policydesigncharacteristics type:Compliance tag:Form_monitoring start:990 stop:1000 text:evaluating,\n",
       " annotator:Curation layer:Policydesigncharacteristics type:Compliance tag:Form_monitoring start:1021 stop:1034 text:pilot studies,\n",
       " annotator:Curation layer:Policydesigncharacteristics type:Compliance tag:Form_monitoring start:1039 stop:1060 text:cost-benefit analyses,\n",
       " annotator:Curation layer:Policydesigncharacteristics type:Resource tag:Resource_Other start:1212 stop:1222 text:statistics,\n",
       " annotator:Curation layer:Policydesigncharacteristics type:Resource tag:Resource_Other start:1276 stop:1303 text:renewable energy statistics,\n",
       " annotator:Curation layer:Policydesigncharacteristics type:Resource tag:Resource_Other start:1425 stop:1460 text:final energy consumption statistics,\n",
       " annotator:Alisha layer:Policydesigncharacteristics type:Compliance tag:Form_monitoring start:21 stop:38 text:energy statistics,\n",
       " annotator:Alisha layer:Policydesigncharacteristics type:Compliance tag:Form_monitoring start:56 stop:78 text:consumption statistics,\n",
       " annotator:Alisha layer:Policydesigncharacteristics type:Objective tag:Objective_QualIntention_noCCM start:100 stop:181 text:improving the quality of renewable energy and final energy consumption statistics,\n",
       " annotator:Alisha layer:Policydesigncharacteristics type:Compliance tag:Form_monitoring start:125 stop:181 text:renewable energy and final energy consumption statistics,\n",
       " annotator:Alisha layer:Policydesigncharacteristics type:Actor tag:Authority_monitoring start:187 stop:197 text:commission,\n",
       " annotator:Alisha layer:Policydesigncharacteristics type:Actor tag:Authority_monitoring start:199 stop:207 text:eurostat,\n",
       " annotator:Alisha layer:Policydesigncharacteristics type:Actor tag:Addressee_monitored start:236 stop:249 text:member states,\n",
       " annotator:Alisha layer:Policydesigncharacteristics type:Compliance tag:Form_monitoring start:293 stop:303 text:comparable,\n",
       " annotator:Alisha layer:Policydesigncharacteristics type:Compliance tag:Form_monitoring start:305 stop:316 text:transparent,\n",
       " annotator:Alisha layer:Policydesigncharacteristics type:Compliance tag:Form_monitoring start:318 stop:326 text:detailed,\n",
       " annotator:Alisha layer:Policydesigncharacteristics type:Compliance tag:Form_monitoring start:331 stop:339 text:flexible,\n",
       " annotator:Alisha layer:Policydesigncharacteristics type:Compliance tag:Form_monitoring start:403 stop:420 text:energy statistics,\n",
       " annotator:Alisha layer:Policydesigncharacteristics type:Objective tag:Objective_QualIntention start:433 stop:563 text:make available additional, pertinent, detailed statistics on each renewable energy source, annually and in a cost-effective manner,\n",
       " annotator:Alisha layer:Policydesigncharacteristics type:Actor tag:Authority_monitoring start:569 stop:579 text:commission,\n",
       " annotator:Alisha layer:Policydesigncharacteristics type:Actor tag:Authority_monitoring start:581 stop:589 text:eurostat,\n",
       " annotator:Alisha layer:Policydesigncharacteristics type:Compliance tag:Form_monitoring start:792 stop:814 text:consumption statistics,\n",
       " annotator:Alisha layer:Policydesigncharacteristics type:Compliance tag:Form_monitoring start:990 stop:1000 text:evaluating,\n",
       " annotator:Alisha layer:Policydesigncharacteristics type:Compliance tag:Form_monitoring start:1286 stop:1303 text:energy statistics,\n",
       " annotator:Alisha layer:Policydesigncharacteristics type:Compliance tag:Form_monitoring start:1438 stop:1460 text:consumption statistics,\n",
       " annotator:Fride layer:Policydesigncharacteristics type:Resource tag:Resource_Other start:11 stop:38 text:renewable energy statistics,\n",
       " annotator:Fride layer:Policydesigncharacteristics type:Resource tag:Resource_Other start:43 stop:78 text:final energy consumption statistics,\n",
       " annotator:Fride layer:Policydesigncharacteristics type:Objective tag:Objective_QualIntention_noCCM start:100 stop:181 text:improving the quality of renewable energy and final energy consumption statistics,\n",
       " annotator:Fride layer:Policydesigncharacteristics type:Resource tag:Resource_Other start:125 stop:181 text:renewable energy and final energy consumption statistics,\n",
       " annotator:Fride layer:Policydesigncharacteristics type:Actor tag:Authority_default start:187 stop:208 text:commission (eurostat),\n",
       " annotator:Fride layer:Policydesigncharacteristics type:Objective tag:Objective_QualIntention_noCCM start:278 stop:339 text:statistics are comparable, transparent, detailed and flexible,\n",
       " annotator:Fride layer:Policydesigncharacteristics type:Resource tag:Resource_Other start:278 stop:288 text:statistics,\n",
       " annotator:Fride layer:Policydesigncharacteristics type:Resource tag:Resource_Other start:393 stop:420 text:renewable energy statistics,\n",
       " annotator:Fride layer:Policydesigncharacteristics type:Resource tag:Resource_Other start:480 stop:490 text:statistics,\n",
       " annotator:Fride layer:Policydesigncharacteristics type:Time tag:Time_Resources start:524 stop:532 text:annually,\n",
       " annotator:Fride layer:Policydesigncharacteristics type:Actor tag:Authority_monitoring start:569 stop:590 text:commission (eurostat),\n",
       " annotator:Fride layer:Policydesigncharacteristics type:Resource tag:Resource_Other start:625 stop:635 text:statistics,\n",
       " annotator:Fride layer:Policydesigncharacteristics type:Compliance tag:Form_monitoring start:688 stop:697 text:reviewing,\n",
       " annotator:Fride layer:Policydesigncharacteristics type:Resource tag:Resource_Other start:779 stop:814 text:final energy consumption statistics,\n",
       " annotator:Fride layer:Policydesigncharacteristics type:Compliance tag:Form_monitoring start:884 stop:900 text:existing studies,\n",
       " annotator:Fride layer:Policydesigncharacteristics type:Compliance tag:Form_monitoring start:905 stop:930 text:feasibility pilot studies,\n",
       " annotator:Fride layer:Policydesigncharacteristics type:Compliance tag:Form_monitoring start:943 stop:964 text:cost-benefit analyses,\n",
       " annotator:Fride layer:Policydesigncharacteristics type:Compliance tag:Form_monitoring start:1021 stop:1034 text:pilot studies,\n",
       " annotator:Fride layer:Policydesigncharacteristics type:Compliance tag:Form_monitoring start:1039 stop:1060 text:cost-benefit analyses,\n",
       " annotator:Fride layer:Policydesigncharacteristics type:Resource tag:Resource_Other start:1212 stop:1222 text:statistics,\n",
       " annotator:Fride layer:Policydesigncharacteristics type:Resource tag:Resource_Other start:1276 stop:1303 text:renewable energy statistics,\n",
       " annotator:Fride layer:Policydesigncharacteristics type:Resource tag:Resource_Other start:1425 stop:1460 text:final energy consumption statistics,\n",
       " annotator:Onerva layer:Policydesigncharacteristics type:Objective tag:Objective_QualIntention start:100 stop:181 text:improving the quality of renewable energy and final energy consumption statistics,\n",
       " annotator:Onerva layer:Policydesigncharacteristics type:Actor tag:Authority_default start:187 stop:208 text:commission (eurostat),\n",
       " annotator:Onerva layer:Policydesigncharacteristics type:Actor tag:Authority_default start:236 stop:249 text:member states,\n",
       " annotator:Onerva layer:Policydesigncharacteristics type:Compliance tag:Form_monitoring start:350 stop:359 text:reviewing,\n",
       " annotator:Onerva layer:Policydesigncharacteristics type:Actor tag:Authority_default start:569 stop:590 text:commission (eurostat),\n",
       " annotator:Onerva layer:Policydesigncharacteristics type:Compliance tag:Form_monitoring start:688 stop:697 text:reviewing,\n",
       " annotator:Onerva layer:Policydesigncharacteristics type:Resource tag:Resource_Other start:1276 stop:1303 text:renewable energy statistics,\n",
       " annotator:Onerva layer:Policydesigncharacteristics type:Resource tag:Resource_Other start:1431 stop:1460 text:energy consumption statistics,\n",
       " annotator:Curation layer:Policydesigncharacteristics type:Time tag:Time_Monitoring start:11 stop:17 text:annual,\n",
       " annotator:Curation layer:Policydesigncharacteristics type:Compliance tag:Form_monitoring start:18 stop:36 text:nuclear statistics,\n",
       " annotator:Curation layer:Policydesigncharacteristics type:Actor tag:Authority_monitoring start:42 stop:52 text:commission,\n",
       " annotator:Curation layer:Policydesigncharacteristics type:Actor tag:Authority_monitoring start:54 stop:62 text:eurostat,\n",
       " annotator:Curation layer:Policydesigncharacteristics type:Actor tag:Addressee_sector start:95 stop:116 text:nuclear energy sector,\n",
       " annotator:Curation layer:Policydesigncharacteristics type:Time tag:Time_Monitoring start:144 stop:150 text:annual,\n",
       " annotator:Curation layer:Policydesigncharacteristics type:Compliance tag:Form_monitoring start:151 stop:169 text:nuclear statistics,\n",
       " annotator:Curation layer:Policydesigncharacteristics type:Compliance tag:Form_monitoring start:185 stop:193 text:reported,\n",
       " annotator:Curation layer:Policydesigncharacteristics type:Time tag:Time_Monitoring start:211 stop:228 text:from 2009 onwards,\n",
       " annotator:Curation layer:Policydesigncharacteristics type:Time tag:Time_Monitoring start:216 stop:220 text:2009,\n",
       " annotator:Curation layer:Policydesigncharacteristics type:Time tag:Time_Monitoring start:256 stop:271 text:reported period,\n",
       " annotator:Curation layer:Policydesigncharacteristics type:Time tag:Time_Monitoring start:484 stop:490 text:annual,\n",
       " annotator:Curation layer:Policydesigncharacteristics type:Compliance tag:Form_monitoring start:491 stop:509 text:nuclear statistics,\n",
       " annotator:Alisha layer:Policydesigncharacteristics type:Time tag:Time_Monitoring start:11 stop:17 text:annual,\n",
       " annotator:Alisha layer:Policydesigncharacteristics type:Compliance tag:Form_monitoring start:18 stop:36 text:nuclear statistics,\n",
       " annotator:Alisha layer:Policydesigncharacteristics type:Actor tag:Authority_monitoring start:42 stop:52 text:commission,\n",
       " annotator:Alisha layer:Policydesigncharacteristics type:Actor tag:Authority_monitoring start:54 stop:62 text:eurostat,\n",
       " annotator:Alisha layer:Policydesigncharacteristics type:Actor tag:Addressee_sector start:95 stop:116 text:nuclear energy sector,\n",
       " annotator:Alisha layer:Policydesigncharacteristics type:Time tag:Time_Monitoring start:144 stop:150 text:annual,\n",
       " annotator:Alisha layer:Policydesigncharacteristics type:Compliance tag:Form_monitoring start:151 stop:169 text:nuclear statistics,\n",
       " annotator:Alisha layer:Policydesigncharacteristics type:Compliance tag:Form_monitoring start:185 stop:193 text:reported,\n",
       " annotator:Alisha layer:Policydesigncharacteristics type:Time tag:Time_Monitoring start:216 stop:220 text:2009,\n",
       " annotator:Alisha layer:Policydesigncharacteristics type:Time tag:Time_Monitoring start:484 stop:490 text:annual,\n",
       " annotator:Alisha layer:Policydesigncharacteristics type:Compliance tag:Form_monitoring start:491 stop:509 text:nuclear statistics,\n",
       " annotator:Fride layer:Policydesigncharacteristics type:Resource tag:Resource_Other start:11 stop:36 text:annual nuclear statistics,\n",
       " annotator:Fride layer:Policydesigncharacteristics type:Actor tag:Authority_default start:38 stop:63 text:the commission (eurostat),\n",
       " annotator:Fride layer:Policydesigncharacteristics type:Resource tag:Resource_Other start:144 stop:169 text:annual nuclear statistics,\n",
       " annotator:Fride layer:Policydesigncharacteristics type:Time tag:Time_Resources start:211 stop:228 text:from 2009 onwards,\n",
       " annotator:Fride layer:Policydesigncharacteristics type:Resource tag:Resource_Other start:484 stop:509 text:annual nuclear statistics,\n",
       " annotator:Onerva layer:Policydesigncharacteristics type:Resource tag:Resource_Other start:11 stop:36 text:annual nuclear statistics,\n",
       " annotator:Onerva layer:Policydesigncharacteristics type:Actor tag:Authority_default start:38 stop:63 text:the commission (eurostat),\n",
       " annotator:Onerva layer:Policydesigncharacteristics type:Actor tag:Addressee_sector start:95 stop:126 text:nuclear energy sector in the eu,\n",
       " annotator:Onerva layer:Policydesigncharacteristics type:Resource tag:Resource_Other start:144 stop:169 text:annual nuclear statistics,\n",
       " annotator:Onerva layer:Policydesigncharacteristics type:Compliance tag:Form_monitoring start:185 stop:193 text:reported,\n",
       " annotator:Onerva layer:Policydesigncharacteristics type:Compliance tag:Form_monitoring start:256 stop:264 text:reported,\n",
       " annotator:Onerva layer:Policydesigncharacteristics type:Resource tag:Resource_MonSpending start:414 stop:430 text:production costs,\n",
       " annotator:Onerva layer:Policydesigncharacteristics type:Compliance tag:Form_monitoring start:443 stop:452 text:reporting,\n",
       " annotator:Onerva layer:Policydesigncharacteristics type:Resource tag:Resource_Other start:484 stop:509 text:annual nuclear statistics,\n",
       " annotator:Curation layer:Policydesigncharacteristics type:Actor tag:Addressee_monitored start:48 stop:61 text:member states,\n",
       " annotator:Curation layer:Policydesigncharacteristics type:Actor tag:Addressee_default start:48 stop:61 text:member states,\n",
       " annotator:Curation layer:Policydesigncharacteristics type:Actor tag:Authority_monitoring start:84 stop:94 text:commission,\n",
       " annotator:Curation layer:Policydesigncharacteristics type:Actor tag:Authority_monitoring start:96 stop:104 text:eurostat,\n",
       " annotator:Curation layer:Policydesigncharacteristics type:Compliance tag:Form_monitoring start:110 stop:129 text:national statistics,\n",
       " annotator:Curation layer:Policydesigncharacteristics type:Resource tag:Resource_Other start:110 stop:129 text:national statistics,\n",
       " annotator:Curation layer:Policydesigncharacteristics type:Time tag:Time_Monitoring start:228 stop:239 text:time limits,\n",
       " annotator:Curation layer:Policydesigncharacteristics type:Compliance tag:Form_monitoring start:366 stop:385 text:national statistics,\n",
       " annotator:Curation layer:Policydesigncharacteristics type:Resource tag:Resource_Other start:366 stop:385 text:national statistics,\n",
       " annotator:Curation layer:Policydesigncharacteristics type:Actor tag:Addressee_monitored start:528 stop:540 text:member state,\n",
       " annotator:Curation layer:Policydesigncharacteristics type:Actor tag:Authority_monitoring start:601 stop:611 text:commission,\n",
       " annotator:Curation layer:Policydesigncharacteristics type:Actor tag:Authority_default start:601 stop:611 text:commission,\n",
       " annotator:Curation layer:Policydesigncharacteristics type:Resource tag:Resource_Other start:709 stop:728 text:national statistics,\n",
       " annotator:Curation layer:Policydesigncharacteristics type:Compliance tag:Form_monitoring start:709 stop:728 text:national statistics,\n",
       " annotator:Curation layer:Policydesigncharacteristics type:Actor tag:Addressee_default start:814 stop:835 text:commission (eurostat),\n",
       " annotator:Curation layer:Policydesigncharacteristics type:Actor tag:Authority_monitoring start:814 stop:824 text:commission,\n",
       " annotator:Curation layer:Policydesigncharacteristics type:Actor tag:Authority_monitoring start:826 stop:834 text:eurostat,\n",
       " annotator:Curation layer:Policydesigncharacteristics type:Time tag:Time_Monitoring start:854 stop:860 text:yearly,\n",
       " annotator:Curation layer:Policydesigncharacteristics type:Compliance tag:Form_monitoring start:861 stop:878 text:energy statistics,\n",
       " annotator:Curation layer:Policydesigncharacteristics type:Resource tag:Resource_Other start:861 stop:878 text:energy statistics,\n",
       " annotator:Curation layer:Policydesigncharacteristics type:Time tag:Time_Compliance start:882 stop:941 text:31 january of the second year following the reported period,\n",
       " annotator:Alisha layer:Policydesigncharacteristics type:Actor tag:Addressee_monitored start:48 stop:61 text:member states,\n",
       " annotator:Alisha layer:Policydesigncharacteristics type:Actor tag:Authority_monitoring start:84 stop:94 text:commission,\n",
       " annotator:Alisha layer:Policydesigncharacteristics type:Actor tag:Authority_monitoring start:96 stop:104 text:eurostat,\n",
       " annotator:Alisha layer:Policydesigncharacteristics type:Compliance tag:Form_monitoring start:110 stop:129 text:national statistics,\n",
       " annotator:Alisha layer:Policydesigncharacteristics type:Compliance tag:Form_monitoring start:366 stop:385 text:national statistics,\n",
       " annotator:Alisha layer:Policydesigncharacteristics type:Actor tag:Addressee_monitored start:528 stop:540 text:member state,\n",
       " annotator:Alisha layer:Policydesigncharacteristics type:Reversibility tag:Reversibility_policy start:553 stop:578 text:exemptions or derogations,\n",
       " annotator:Alisha layer:Policydesigncharacteristics type:Actor tag:Authority_monitoring start:601 stop:611 text:commission,\n",
       " annotator:Alisha layer:Policydesigncharacteristics type:Compliance tag:Form_monitoring start:709 stop:728 text:national statistics,\n",
       " annotator:Alisha layer:Policydesigncharacteristics type:Reversibility tag:Reversibility_policy start:771 stop:802 text:excessive burden on respondents,\n",
       " annotator:Alisha layer:Policydesigncharacteristics type:Actor tag:Authority_monitoring start:814 stop:824 text:commission,\n",
       " annotator:Alisha layer:Policydesigncharacteristics type:Actor tag:Authority_monitoring start:826 stop:834 text:eurostat,\n",
       " annotator:Alisha layer:Policydesigncharacteristics type:Time tag:Time_Monitoring start:854 stop:860 text:yearly,\n",
       " annotator:Alisha layer:Policydesigncharacteristics type:Compliance tag:Form_monitoring start:861 stop:878 text:energy statistics,\n",
       " annotator:Alisha layer:Policydesigncharacteristics type:Time tag:Time_Monitoring start:882 stop:892 text:31 january,\n",
       " annotator:Fride layer:Policydesigncharacteristics type:Actor tag:Addressee_default start:48 stop:61 text:member states,\n",
       " annotator:Fride layer:Policydesigncharacteristics type:Actor tag:Addressee_resource start:84 stop:105 text:commission (eurostat),\n",
       " annotator:Fride layer:Policydesigncharacteristics type:Resource tag:Resource_Other start:110 stop:129 text:national statistics,\n",
       " annotator:Fride layer:Policydesigncharacteristics type:Time tag:Time_Resources start:228 stop:239 text:time limits,\n",
       " annotator:Fride layer:Policydesigncharacteristics type:Resource tag:Resource_Other start:366 stop:385 text:national statistics,\n",
       " annotator:Fride layer:Policydesigncharacteristics type:Actor tag:Addressee_default start:528 stop:540 text:member state,\n",
       " annotator:Fride layer:Policydesigncharacteristics type:Actor tag:Authority_default start:601 stop:611 text:commission,\n",
       " annotator:Fride layer:Policydesigncharacteristics type:Resource tag:Resource_Other start:709 stop:728 text:national statistics,\n",
       " annotator:Fride layer:Policydesigncharacteristics type:Actor tag:Addressee_default start:814 stop:835 text:commission (eurostat),\n",
       " annotator:Fride layer:Policydesigncharacteristics type:Resource tag:Resource_Other start:861 stop:878 text:energy statistics,\n",
       " annotator:Fride layer:Policydesigncharacteristics type:Time tag:Time_Compliance start:882 stop:941 text:31 january of the second year following the reported period,\n",
       " annotator:Onerva layer:Policydesigncharacteristics type:Actor tag:Authority_default start:48 stop:61 text:member states,\n",
       " annotator:Onerva layer:Policydesigncharacteristics type:Actor tag:Addressee_default start:84 stop:105 text:commission (eurostat),\n",
       " annotator:Onerva layer:Policydesigncharacteristics type:Resource tag:Resource_Other start:110 stop:129 text:national statistics,\n",
       " annotator:Onerva layer:Policydesigncharacteristics type:Resource tag:Resource_Other start:366 stop:385 text:national statistics,\n",
       " annotator:Onerva layer:Policydesigncharacteristics type:Actor tag:Authority_default start:528 stop:540 text:member state,\n",
       " annotator:Onerva layer:Policydesigncharacteristics type:Actor tag:Authority_default start:601 stop:611 text:commission,\n",
       " annotator:Onerva layer:Policydesigncharacteristics type:Resource tag:Resource_Other start:709 stop:728 text:national statistics,\n",
       " annotator:Onerva layer:Policydesigncharacteristics type:Actor tag:Authority_default start:814 stop:835 text:commission (eurostat),\n",
       " annotator:Onerva layer:Policydesigncharacteristics type:Resource tag:Resource_Other start:861 stop:878 text:energy statistics,\n",
       " annotator:Onerva layer:Policydesigncharacteristics type:Time tag:Time_Resources start:882 stop:941 text:31 january of the second year following the reported period,\n",
       " annotator:Onerva layer:Policydesigncharacteristics type:Compliance tag:Form_monitoring start:926 stop:934 text:reported,\n",
       " annotator:Curation layer:Policydesigncharacteristics type:Actor tag:Authority_default start:12 stop:21 text:committee,\n",
       " annotator:Curation layer:Policydesigncharacteristics type:Actor tag:Authority_default start:32 stop:42 text:commission,\n",
       " annotator:Curation layer:Policydesigncharacteristics type:Actor tag:Authority_monitoring start:68 stop:99 text:statistical programme committee,\n",
       " annotator:Curation layer:Policydesigncharacteristics type:Reference tag:Ref_OtherPolicy start:188 stop:208 text:decision 1999/468/ec,\n",
       " annotator:Curation layer:Policydesigncharacteristics type:Reference tag:Ref_OtherPolicy start:344 stop:364 text:decision 1999/468/ec,\n",
       " annotator:Curation layer:Policydesigncharacteristics type:Reference tag:Ref_OtherPolicy start:476 stop:496 text:decision 1999/468/ec,\n",
       " annotator:Curation layer:Policydesigncharacteristics type:Time tag:Time_Compliance start:506 stop:518 text:three months,\n",
       " annotator:Alisha layer:Policydesigncharacteristics type:Actor tag:Authority_default start:32 stop:42 text:commission,\n",
       " annotator:Alisha layer:Policydesigncharacteristics type:Actor tag:Authority_monitoring start:68 stop:99 text:statistical programme committee,\n",
       " annotator:Alisha layer:Policydesigncharacteristics type:Reference tag:Ref_OtherPolicy start:188 stop:208 text:decision 1999/468/ec,\n",
       " annotator:Alisha layer:Policydesigncharacteristics type:Reference tag:Ref_OtherPolicy start:344 stop:364 text:decision 1999/468/ec,\n",
       " annotator:Alisha layer:Policydesigncharacteristics type:Reference tag:Ref_OtherPolicy start:476 stop:496 text:decision 1999/468/ec,\n",
       " annotator:Alisha layer:Policydesigncharacteristics type:Time tag:Time_Compliance start:506 stop:518 text:three months,\n",
       " annotator:Fride layer:Policydesigncharacteristics type:Actor tag:Authority_default start:12 stop:21 text:committee,\n",
       " annotator:Fride layer:Policydesigncharacteristics type:Actor tag:Authority_default start:32 stop:42 text:commission,\n",
       " annotator:Fride layer:Policydesigncharacteristics type:Reference tag:Ref_OtherPolicy start:188 stop:208 text:decision 1999/468/ec,\n",
       " annotator:Fride layer:Policydesigncharacteristics type:Reference tag:Ref_OtherPolicy start:344 stop:364 text:decision 1999/468/ec,\n",
       " annotator:Fride layer:Policydesigncharacteristics type:Reference tag:Ref_OtherPolicy start:476 stop:496 text:decision 1999/468/ec,\n",
       " annotator:Onerva layer:Policydesigncharacteristics type:Actor tag:Authority_default start:32 stop:42 text:commission,\n",
       " annotator:Onerva layer:Policydesigncharacteristics type:Actor tag:Addressee_default start:68 stop:99 text:statistical programme committee,\n",
       " annotator:Onerva layer:Policydesigncharacteristics type:Reference tag:Ref_OtherPolicy start:188 stop:208 text:decision 1999/468/ec,\n",
       " annotator:Onerva layer:Policydesigncharacteristics type:Reference tag:Ref_OtherPolicy start:344 stop:364 text:decision 1999/468/ec,\n",
       " annotator:Onerva layer:Policydesigncharacteristics type:Reference tag:Ref_OtherPolicy start:476 stop:496 text:decision 1999/468/ec,\n",
       " annotator:Curation layer:Policydesigncharacteristics type:Compliance tag:Form_monitoring start:402 stop:421 text:national statistics,\n",
       " annotator:Curation layer:Policydesigncharacteristics type:Resource tag:Resource_Other start:402 stop:421 text:national statistics,\n",
       " annotator:Curation layer:Policydesigncharacteristics type:Time tag:Time_Monitoring start:607 stop:613 text:annual,\n",
       " annotator:Curation layer:Policydesigncharacteristics type:Compliance tag:Form_monitoring start:614 stop:632 text:nuclear statistics,\n",
       " annotator:Curation layer:Policydesigncharacteristics type:Resource tag:Resource_Other start:614 stop:632 text:nuclear statistics,\n",
       " annotator:Curation layer:Policydesigncharacteristics type:Resource tag:Resource_Other start:676 stop:703 text:renewable energy statistics,\n",
       " annotator:Curation layer:Policydesigncharacteristics type:Compliance tag:Form_monitoring start:676 stop:703 text:renewable energy statistics,\n",
       " annotator:Curation layer:Policydesigncharacteristics type:Resource tag:Resource_Other start:768 stop:803 text:final energy consumption statistics,\n",
       " annotator:Curation layer:Policydesigncharacteristics type:Compliance tag:Form_monitoring start:768 stop:803 text:final energy consumption statistics,\n",
       " annotator:Curation layer:Policydesigncharacteristics type:Compliance tag:Form_monitoring start:1051 stop:1060 text:reporting,\n",
       " annotator:Alisha layer:Policydesigncharacteristics type:Compliance tag:Form_monitoring start:402 stop:421 text:national statistics,\n",
       " annotator:Alisha layer:Policydesigncharacteristics type:Time tag:Time_Monitoring start:607 stop:613 text:annual,\n",
       " annotator:Alisha layer:Policydesigncharacteristics type:Compliance tag:Form_monitoring start:614 stop:632 text:nuclear statistics,\n",
       " annotator:Alisha layer:Policydesigncharacteristics type:Compliance tag:Form_monitoring start:686 stop:703 text:energy statistics,\n",
       " annotator:Alisha layer:Policydesigncharacteristics type:Compliance tag:Form_monitoring start:781 stop:803 text:consumption statistics,\n",
       " annotator:Alisha layer:Policydesigncharacteristics type:Compliance tag:Form_monitoring start:1051 stop:1060 text:reporting,\n",
       " annotator:Fride layer:Policydesigncharacteristics type:Resource tag:Resource_Other start:402 stop:421 text:national statistics,\n",
       " annotator:Fride layer:Policydesigncharacteristics type:Time tag:Time_Resources start:607 stop:613 text:annual,\n",
       " annotator:Fride layer:Policydesigncharacteristics type:Resource tag:Resource_Other start:614 stop:632 text:nuclear statistics,\n",
       " annotator:Fride layer:Policydesigncharacteristics type:Resource tag:Resource_Other start:676 stop:703 text:renewable energy statistics,\n",
       " annotator:Fride layer:Policydesigncharacteristics type:Resource tag:Resource_Other start:768 stop:803 text:final energy consumption statistics,\n",
       " annotator:Onerva layer:Policydesigncharacteristics type:Resource tag:Resource_Other start:1026 stop:1042 text:additional costs,\n",
       " annotator:Onerva layer:Policydesigncharacteristics type:Compliance tag:Form_monitoring start:1051 stop:1060 text:reporting,\n",
       " annotator:Curation layer:Policydesigncharacteristics type:Compliance tag:Form_monitoring start:73 stop:92 text:national statistics,\n",
       " annotator:Curation layer:Policydesigncharacteristics type:Resource tag:Resource_Other start:73 stop:92 text:national statistics,\n",
       " annotator:Curation layer:Policydesigncharacteristics type:Compliance tag:Form_monitoring start:103 stop:122 text:national statistics,\n",
       " annotator:Curation layer:Policydesigncharacteristics type:Resource tag:Resource_Other start:103 stop:122 text:national statistics,\n",
       " annotator:Curation layer:Policydesigncharacteristics type:Compliance tag:Form_monitoring start:129 stop:137 text:reported,\n",
       " annotator:Curation layer:Policydesigncharacteristics type:Time tag:Time_Monitoring start:238 stop:244 text:annual,\n",
       " annotator:Curation layer:Policydesigncharacteristics type:Time tag:Time_Resources start:238 stop:244 text:annual,\n",
       " annotator:Curation layer:Policydesigncharacteristics type:Compliance tag:Form_monitoring start:254 stop:271 text:energy statistics,\n",
       " annotator:Curation layer:Policydesigncharacteristics type:Resource tag:Resource_Other start:254 stop:271 text:energy statistics,\n",
       " annotator:Curation layer:Policydesigncharacteristics type:Time tag:Time_Monitoring start:290 stop:297 text:monthly,\n",
       " annotator:Curation layer:Policydesigncharacteristics type:Time tag:Time_Resources start:290 stop:297 text:monthly,\n",
       " annotator:Curation layer:Policydesigncharacteristics type:Compliance tag:Form_monitoring start:307 stop:324 text:energy statistics,\n",
       " annotator:Curation layer:Policydesigncharacteristics type:Resource tag:Resource_Other start:307 stop:324 text:energy statistics,\n",
       " annotator:Curation layer:Policydesigncharacteristics type:Time tag:Time_Monitoring start:343 stop:361 text:short-term monthly,\n",
       " annotator:Curation layer:Policydesigncharacteristics type:Time tag:Time_Resources start:343 stop:361 text:short-term monthly,\n",
       " annotator:Curation layer:Policydesigncharacteristics type:Compliance tag:Form_monitoring start:371 stop:388 text:energy statistics,\n",
       " annotator:Curation layer:Policydesigncharacteristics type:Resource tag:Resource_Other start:371 stop:388 text:energy statistics,\n",
       " annotator:Alisha layer:Policydesigncharacteristics type:Compliance tag:Form_monitoring start:73 stop:92 text:national statistics,\n",
       " annotator:Alisha layer:Policydesigncharacteristics type:Compliance tag:Form_monitoring start:103 stop:122 text:national statistics,\n",
       " annotator:Alisha layer:Policydesigncharacteristics type:Compliance tag:Form_monitoring start:129 stop:137 text:reported,\n",
       " annotator:Alisha layer:Policydesigncharacteristics type:Time tag:Time_Monitoring start:238 stop:244 text:annual,\n",
       " annotator:Alisha layer:Policydesigncharacteristics type:Compliance tag:Form_monitoring start:254 stop:271 text:energy statistics,\n",
       " annotator:Alisha layer:Policydesigncharacteristics type:Time tag:Time_Monitoring start:290 stop:297 text:monthly,\n",
       " annotator:Alisha layer:Policydesigncharacteristics type:Compliance tag:Form_monitoring start:307 stop:324 text:energy statistics,\n",
       " annotator:Alisha layer:Policydesigncharacteristics type:Time tag:Time_Monitoring start:343 stop:361 text:short-term monthly,\n",
       " annotator:Alisha layer:Policydesigncharacteristics type:Compliance tag:Form_monitoring start:371 stop:388 text:energy statistics,\n",
       " annotator:Fride layer:Policydesigncharacteristics type:Resource tag:Resource_Other start:73 stop:92 text:national statistics,\n",
       " annotator:Fride layer:Policydesigncharacteristics type:Resource tag:Resource_Other start:103 stop:122 text:national statistics,\n",
       " annotator:Fride layer:Policydesigncharacteristics type:Time tag:Time_Resources start:238 stop:244 text:annual,\n",
       " annotator:Fride layer:Policydesigncharacteristics type:Resource tag:Resource_Other start:254 stop:271 text:energy statistics,\n",
       " annotator:Fride layer:Policydesigncharacteristics type:Time tag:Time_Resources start:290 stop:297 text:monthly,\n",
       " annotator:Fride layer:Policydesigncharacteristics type:Resource tag:Resource_Other start:307 stop:324 text:energy statistics,\n",
       " annotator:Fride layer:Policydesigncharacteristics type:Time tag:Time_Resources start:343 stop:361 text:short-term monthly,\n",
       " annotator:Fride layer:Policydesigncharacteristics type:Resource tag:Resource_Other start:371 stop:388 text:energy statistics,\n",
       " annotator:Fride layer:Policydesigncharacteristics type:Resource tag:Resource_Other start:578 stop:582 text:data,\n",
       " annotator:Onerva layer:Policydesigncharacteristics type:Compliance tag:Form_monitoring start:129 stop:137 text:reported,\n",
       " annotator:Curation layer:Policydesigncharacteristics type:Time tag:Time_InEffect start:76 stop:134 text:20th day following its publication in the official journal,\n",
       " annotator:Curation layer:Policydesigncharacteristics type:Time tag:Time_InEffect start:76 stop:110 text:20th day following its publication,\n",
       " annotator:Curation layer:Policydesigncharacteristics type:Actor tag:Addressee_default start:239 stop:252 text:member states,\n",
       " annotator:Alisha layer:Policydesigncharacteristics type:Time tag:Time_InEffect start:76 stop:110 text:20th day following its publication,\n",
       " annotator:Alisha layer:Policydesigncharacteristics type:Actor tag:Addressee_default start:239 stop:252 text:member states,\n",
       " annotator:Fride layer:Policydesigncharacteristics type:Time tag:Time_InEffect start:76 stop:134 text:20th day following its publication in the official journal,\n",
       " annotator:Fride layer:Policydesigncharacteristics type:Actor tag:Addressee_default start:239 stop:252 text:member states,\n",
       " annotator:Onerva layer:Policydesigncharacteristics type:Time tag:Time_InEffect start:52 stop:156 text:enter into force on the 20th day following its publication in the official journal of the european union,\n",
       " annotator:Onerva layer:Policydesigncharacteristics type:Actor tag:Addressee_default start:239 stop:252 text:member states,\n",
       " annotator:Curation layer:Policydesigncharacteristics type:Compliance tag:Form_monitoring start:11 stop:29 text:quality assessment,\n",
       " annotator:Curation layer:Policydesigncharacteristics type:Compliance tag:Form_monitoring start:34 stop:41 text:reports,\n",
       " annotator:Curation layer:Policydesigncharacteristics type:Actor tag:Addressee_monitored start:48 stop:61 text:member states,\n",
       " annotator:Curation layer:Policydesigncharacteristics type:Reference tag:Ref_OtherPolicy start:275 stop:306 text:commission decision 2005/166/ec,\n",
       " annotator:Curation layer:Policydesigncharacteristics type:Reference tag:Ref_OtherPolicy start:286 stop:306 text:decision 2005/166/ec,\n",
       " annotator:Curation layer:Policydesigncharacteristics type:Reference tag:Ref_OtherPolicy start:366 stop:389 text:decision no 280/2004/ec,\n",
       " annotator:Curation layer:Policydesigncharacteristics type:Actor tag:Authority_legislative start:397 stop:416 text:european parliament,\n",
       " annotator:Curation layer:Policydesigncharacteristics type:Actor tag:Authority_legislative start:428 stop:435 text:council,\n",
       " annotator:Curation layer:Policydesigncharacteristics type:Objective tag:Objective_QualIntention start:449 stop:548 text:mechanism for monitoring community greenhouse gas emissions and for implementing the kyoto protocol,\n",
       " annotator:Curation layer:Policydesigncharacteristics type:Compliance tag:Form_monitoring start:449 stop:473 text:mechanism for monitoring,\n",
       " annotator:Curation layer:Policydesigncharacteristics type:Compliance tag:Form_monitoring start:463 stop:473 text:monitoring,\n",
       " annotator:Curation layer:Policydesigncharacteristics type:Reference tag:Ref_Strategy_Agreement start:534 stop:548 text:kyoto protocol,\n",
       " annotator:Curation layer:Policydesigncharacteristics type:Resource tag:Resource_Other start:661 stop:665 text:data,\n",
       " annotator:Curation layer:Policydesigncharacteristics type:Compliance tag:Form_monitoring start:672 stop:683 text:transmitted,\n",
       " annotator:Curation layer:Policydesigncharacteristics type:Resource tag:Resource_Other start:738 stop:748 text:statistics,\n",
       " annotator:Curation layer:Policydesigncharacteristics type:Compliance tag:Form_monitoring start:738 stop:748 text:statistics,\n",
       " annotator:Curation layer:Policydesigncharacteristics type:Actor tag:Addressee_resource start:789 stop:794 text:users,\n",
       " annotator:Curation layer:Policydesigncharacteristics type:Resource tag:Resource_Other start:959 stop:970 text:information,\n",
       " annotator:Curation layer:Policydesigncharacteristics type:Compliance tag:Form_monitoring start:959 stop:970 text:information,\n",
       " annotator:Curation layer:Policydesigncharacteristics type:Time tag:Time_Monitoring start:1070 stop:1101 text:date of the release of the data,\n",
       " annotator:Curation layer:Policydesigncharacteristics type:Resource tag:Resource_Other start:1097 stop:1101 text:data,\n",
       " annotator:Curation layer:Policydesigncharacteristics type:Time tag:Time_Compliance start:1110 stop:1121 text:target date,\n",
       " annotator:Curation layer:Policydesigncharacteristics type:Actor tag:Addressee_resource start:1248 stop:1253 text:users,\n",
       " annotator:Curation layer:Policydesigncharacteristics type:Resource tag:Resource_Other start:1284 stop:1288 text:data,\n",
       " annotator:Curation layer:Policydesigncharacteristics type:Resource tag:Resource_Other start:1447 stop:1457 text:statistics,\n",
       " annotator:Curation layer:Policydesigncharacteristics type:Resource tag:Resource_Other start:1583 stop:1587 text:data,\n",
       " annotator:Curation layer:Policydesigncharacteristics type:Time tag:Time_Monitoring start:1658 stop:1674 text:every five years,\n",
       " annotator:Curation layer:Policydesigncharacteristics type:Actor tag:Addressee_monitored start:1676 stop:1689 text:member states,\n",
       " annotator:Curation layer:Policydesigncharacteristics type:Actor tag:Authority_monitoring start:1708 stop:1729 text:commission (eurostat),\n",
       " annotator:Curation layer:Policydesigncharacteristics type:Actor tag:Authority_monitoring start:1708 stop:1718 text:commission,\n",
       " annotator:Curation layer:Policydesigncharacteristics type:Actor tag:Authority_monitoring start:1720 stop:1728 text:eurostat,\n",
       " annotator:Curation layer:Policydesigncharacteristics type:Compliance tag:Form_monitoring start:1737 stop:1743 text:report,\n",
       " annotator:Curation layer:Policydesigncharacteristics type:Resource tag:Resource_Other start:1766 stop:1770 text:data,\n",
       " annotator:Curation layer:Policydesigncharacteristics type:Time tag:Time_Monitoring start:1851 stop:1923 text:within six months of receipt of a request from the commission (eurostat),\n",
       " annotator:Curation layer:Policydesigncharacteristics type:Time tag:Time_Compliance start:1851 stop:1868 text:within six months,\n",
       " annotator:Curation layer:Policydesigncharacteristics type:Actor tag:Authority_monitoring start:1902 stop:1923 text:commission (eurostat),\n",
       " annotator:Curation layer:Policydesigncharacteristics type:Actor tag:Authority_monitoring start:1902 stop:1912 text:commission,\n",
       " annotator:Curation layer:Policydesigncharacteristics type:Actor tag:Authority_monitoring start:1914 stop:1922 text:eurostat,\n",
       " annotator:Curation layer:Policydesigncharacteristics type:Compliance tag:Form_monitoring start:1953 stop:1959 text:assess,\n",
       " annotator:Curation layer:Policydesigncharacteristics type:Resource tag:Resource_Other start:1979 stop:1983 text:data,\n",
       " annotator:Curation layer:Policydesigncharacteristics type:Actor tag:Addressee_monitored start:1997 stop:2010 text:member states,\n",
       " annotator:Curation layer:Policydesigncharacteristics type:Actor tag:Authority_monitoring start:2029 stop:2050 text:commission (eurostat),\n",
       " annotator:Curation layer:Policydesigncharacteristics type:Actor tag:Authority_monitoring start:2029 stop:2039 text:commission,\n",
       " annotator:Curation layer:Policydesigncharacteristics type:Actor tag:Authority_monitoring start:2041 stop:2049 text:eurostat,\n",
       " annotator:Curation layer:Policydesigncharacteristics type:Compliance tag:Form_monitoring start:2053 stop:2059 text:report,\n",
       " annotator:Alisha layer:Policydesigncharacteristics type:Compliance tag:Form_monitoring start:11 stop:29 text:quality assessment,\n",
       " annotator:Alisha layer:Policydesigncharacteristics type:Compliance tag:Form_monitoring start:34 stop:41 text:reports,\n",
       " annotator:Alisha layer:Policydesigncharacteristics type:Actor tag:Addressee_monitored start:48 stop:61 text:member states,\n",
       " annotator:Alisha layer:Policydesigncharacteristics type:Reference tag:Ref_OtherPolicy start:286 stop:306 text:decision 2005/166/ec,\n",
       " annotator:Alisha layer:Policydesigncharacteristics type:Reference tag:Ref_OtherPolicy start:366 stop:389 text:decision no 280/2004/ec,\n",
       " annotator:Alisha layer:Policydesigncharacteristics type:Reference tag:Ref_Strategy_Agreement start:534 stop:548 text:kyoto protocol,\n",
       " annotator:Alisha layer:Policydesigncharacteristics type:Compliance tag:Form_monitoring start:692 stop:701 text:relevance,\n",
       " annotator:Alisha layer:Policydesigncharacteristics type:Compliance tag:Form_monitoring start:803 stop:811 text:accuracy,\n",
       " annotator:Alisha layer:Policydesigncharacteristics type:Compliance tag:Form_monitoring start:890 stop:900 text:timeliness,\n",
       " annotator:Alisha layer:Policydesigncharacteristics type:Compliance tag:Form_monitoring start:1020 stop:1031 text:punctuality,\n",
       " annotator:Alisha layer:Policydesigncharacteristics type:Compliance tag:Form_monitoring start:1165 stop:1178 text:accessibility,\n",
       " annotator:Alisha layer:Policydesigncharacteristics type:Compliance tag:Form_monitoring start:1185 stop:1192 text:clarity,\n",
       " annotator:Alisha layer:Policydesigncharacteristics type:Compliance tag:Form_monitoring start:1297 stop:1310 text:comparability,\n",
       " annotator:Alisha layer:Policydesigncharacteristics type:Compliance tag:Form_monitoring start:1537 stop:1546 text:coherence,\n",
       " annotator:Alisha layer:Policydesigncharacteristics type:Time tag:Time_Monitoring start:1658 stop:1674 text:every five years,\n",
       " annotator:Alisha layer:Policydesigncharacteristics type:Actor tag:Addressee_monitored start:1676 stop:1689 text:member states,\n",
       " annotator:Alisha layer:Policydesigncharacteristics type:Actor tag:Authority_monitoring start:1708 stop:1718 text:commission,\n",
       " annotator:Alisha layer:Policydesigncharacteristics type:Actor tag:Authority_monitoring start:1720 stop:1728 text:eurostat,\n",
       " annotator:Alisha layer:Policydesigncharacteristics type:Compliance tag:Form_monitoring start:1737 stop:1743 text:report,\n",
       " annotator:Alisha layer:Policydesigncharacteristics type:Time tag:Time_Compliance start:1851 stop:1868 text:within six months,\n",
       " annotator:Alisha layer:Policydesigncharacteristics type:Actor tag:Authority_monitoring start:1902 stop:1912 text:commission,\n",
       " annotator:Alisha layer:Policydesigncharacteristics type:Actor tag:Authority_monitoring start:1914 stop:1922 text:eurostat,\n",
       " annotator:Alisha layer:Policydesigncharacteristics type:Actor tag:Addressee_monitored start:1997 stop:2010 text:member states,\n",
       " annotator:Alisha layer:Policydesigncharacteristics type:Actor tag:Authority_monitoring start:2029 stop:2039 text:commission,\n",
       " annotator:Alisha layer:Policydesigncharacteristics type:Actor tag:Authority_monitoring start:2041 stop:2049 text:eurostat,\n",
       " annotator:Alisha layer:Policydesigncharacteristics type:Compliance tag:Form_monitoring start:2053 stop:2059 text:report,\n",
       " annotator:Fride layer:Policydesigncharacteristics type:Compliance tag:Form_monitoring start:11 stop:29 text:quality assessment,\n",
       " annotator:Fride layer:Policydesigncharacteristics type:Compliance tag:Form_monitoring start:34 stop:41 text:reports,\n",
       " annotator:Fride layer:Policydesigncharacteristics type:Actor tag:Addressee_default start:48 stop:61 text:member states,\n",
       " annotator:Fride layer:Policydesigncharacteristics type:Resource tag:Resource_Other start:94 stop:98 text:data,\n",
       " annotator:Fride layer:Policydesigncharacteristics type:Resource tag:Resource_Other start:190 stop:201 text:energy data,\n",
       " annotator:Fride layer:Policydesigncharacteristics type:Reference tag:Ref_OtherPolicy start:275 stop:306 text:commission decision 2005/166/ec,\n",
       " annotator:Fride layer:Policydesigncharacteristics type:Reference tag:Ref_OtherPolicy start:366 stop:389 text:decision no 280/2004/ec,\n",
       " annotator:Fride layer:Policydesigncharacteristics type:Actor tag:Authority_legislative start:397 stop:416 text:european parliament,\n",
       " annotator:Fride layer:Policydesigncharacteristics type:Actor tag:Authority_legislative start:428 stop:435 text:council,\n",
       " annotator:Fride layer:Policydesigncharacteristics type:Compliance tag:Form_monitoring start:463 stop:473 text:monitoring,\n",
       " annotator:Fride layer:Policydesigncharacteristics type:Reference tag:Ref_Strategy_Agreement start:534 stop:548 text:kyoto protocol,\n",
       " annotator:Fride layer:Policydesigncharacteristics type:Resource tag:Resource_Other start:661 stop:665 text:data,\n",
       " annotator:Fride layer:Policydesigncharacteristics type:Compliance tag:Form_monitoring start:672 stop:683 text:transmitted,\n",
       " annotator:Fride layer:Policydesigncharacteristics type:Resource tag:Resource_Other start:738 stop:748 text:statistics,\n",
       " annotator:Fride layer:Policydesigncharacteristics type:Actor tag:Addressee_resource start:789 stop:794 text:users,\n",
       " annotator:Fride layer:Policydesigncharacteristics type:Resource tag:Resource_Other start:959 stop:970 text:information,\n",
       " annotator:Fride layer:Policydesigncharacteristics type:Resource tag:Resource_Other start:1097 stop:1101 text:data,\n",
       " annotator:Fride layer:Policydesigncharacteristics type:Actor tag:Addressee_resource start:1248 stop:1253 text:users,\n",
       " annotator:Fride layer:Policydesigncharacteristics type:Resource tag:Resource_Other start:1284 stop:1288 text:data,\n",
       " annotator:Fride layer:Policydesigncharacteristics type:Resource tag:Resource_Other start:1447 stop:1457 text:statistics,\n",
       " annotator:Fride layer:Policydesigncharacteristics type:Resource tag:Resource_Other start:1583 stop:1587 text:data,\n",
       " annotator:Fride layer:Policydesigncharacteristics type:Time tag:Time_Monitoring start:1658 stop:1674 text:every five years,\n",
       " annotator:Fride layer:Policydesigncharacteristics type:Actor tag:Addressee_monitored start:1676 stop:1689 text:member states,\n",
       " annotator:Fride layer:Policydesigncharacteristics type:Actor tag:Authority_monitoring start:1708 stop:1729 text:commission (eurostat),\n",
       " annotator:Fride layer:Policydesigncharacteristics type:Compliance tag:Form_monitoring start:1737 stop:1743 text:report,\n",
       " annotator:Fride layer:Policydesigncharacteristics type:Resource tag:Resource_Other start:1766 stop:1770 text:data,\n",
       " annotator:Fride layer:Policydesigncharacteristics type:Time tag:Time_Monitoring start:1851 stop:1923 text:within six months of receipt of a request from the commission (eurostat),\n",
       " annotator:Fride layer:Policydesigncharacteristics type:Actor tag:Authority_monitoring start:1902 stop:1923 text:commission (eurostat),\n",
       " annotator:Fride layer:Policydesigncharacteristics type:Compliance tag:Form_monitoring start:1953 stop:1959 text:assess,\n",
       " annotator:Fride layer:Policydesigncharacteristics type:Resource tag:Resource_Other start:1979 stop:1983 text:data,\n",
       " annotator:Fride layer:Policydesigncharacteristics type:Actor tag:Addressee_monitored start:1997 stop:2010 text:member states,\n",
       " annotator:Fride layer:Policydesigncharacteristics type:Actor tag:Authority_monitoring start:2029 stop:2050 text:commission (eurostat),\n",
       " annotator:Fride layer:Policydesigncharacteristics type:Compliance tag:Form_monitoring start:2053 stop:2059 text:report,\n",
       " annotator:Onerva layer:Policydesigncharacteristics type:Compliance tag:Form_monitoring start:11 stop:29 text:quality assessment,\n",
       " annotator:Onerva layer:Policydesigncharacteristics type:Compliance tag:Form_monitoring start:34 stop:41 text:reports,\n",
       " annotator:Onerva layer:Policydesigncharacteristics type:Actor tag:Authority_default start:48 stop:61 text:member states,\n",
       " annotator:Onerva layer:Policydesigncharacteristics type:Resource tag:Resource_Other start:94 stop:98 text:data,\n",
       " annotator:Onerva layer:Policydesigncharacteristics type:Reference tag:Ref_OtherPolicy start:275 stop:306 text:commission decision 2005/166/ec,\n",
       " annotator:Onerva layer:Policydesigncharacteristics type:Reference tag:Ref_OtherPolicy start:366 stop:389 text:decision no 280/2004/ec,\n",
       " annotator:Onerva layer:Policydesigncharacteristics type:Reference tag:Ref_OtherPolicy start:534 stop:548 text:kyoto protocol,\n",
       " annotator:Onerva layer:Policydesigncharacteristics type:Compliance tag:Form_monitoring start:612 stop:630 text:quality assessment,\n",
       " annotator:Onerva layer:Policydesigncharacteristics type:Actor tag:Addressee_default start:1248 stop:1253 text:users,\n",
       " annotator:Onerva layer:Policydesigncharacteristics type:Actor tag:Addressee_monitored start:1676 stop:1689 text:member states,\n",
       " annotator:Onerva layer:Policydesigncharacteristics type:Actor tag:Authority_monitoring start:1708 stop:1729 text:commission (eurostat),\n",
       " annotator:Onerva layer:Policydesigncharacteristics type:Compliance tag:Form_monitoring start:1737 stop:1743 text:report,\n",
       " annotator:Onerva layer:Policydesigncharacteristics type:Resource tag:Resource_Other start:1766 stop:1770 text:data,\n",
       " annotator:Onerva layer:Policydesigncharacteristics type:Time tag:Time_Monitoring start:1851 stop:1923 text:within six months of receipt of a request from the commission (eurostat),\n",
       " annotator:Onerva layer:Policydesigncharacteristics type:Actor tag:Authority_monitoring start:1902 stop:1923 text:commission (eurostat),\n",
       " annotator:Onerva layer:Policydesigncharacteristics type:Resource tag:Resource_Other start:1979 stop:1983 text:data,\n",
       " annotator:Onerva layer:Policydesigncharacteristics type:Actor tag:Addressee_monitored start:1997 stop:2010 text:member states,\n",
       " annotator:Onerva layer:Policydesigncharacteristics type:Actor tag:Authority_legislative start:2029 stop:2050 text:commission (eurostat),\n",
       " annotator:Onerva layer:Policydesigncharacteristics type:Compliance tag:Form_monitoring start:2053 stop:2059 text:report,\n",
       " annotator:Curation layer:Policydesigncharacteristics type:Time tag:Time_Monitoring start:11 stop:39 text:time reference and frequency,\n",
       " annotator:Curation layer:Policydesigncharacteristics type:Actor tag:Addressee_monitored start:41 stop:54 text:member states,\n",
       " annotator:Curation layer:Policydesigncharacteristics type:Time tag:Time_InEffect start:112 stop:188 text:the beginning of the calendar year following the adoption of this regulation,\n",
       " annotator:Curation layer:Policydesigncharacteristics type:Time tag:Time_InEffect start:116 stop:146 text:beginning of the calendar year,\n",
       " annotator:Curation layer:Policydesigncharacteristics type:Time tag:Time_Monitoring start:241 stop:252 text:frequencies,\n",
       " annotator:Alisha layer:Policydesigncharacteristics type:Actor tag:Addressee_monitored start:41 stop:54 text:member states,\n",
       " annotator:Alisha layer:Policydesigncharacteristics type:Time tag:Time_InEffect start:116 stop:146 text:beginning of the calendar year,\n",
       " annotator:Fride layer:Policydesigncharacteristics type:Actor tag:Addressee_monitored start:41 stop:54 text:member states,\n",
       " annotator:Fride layer:Policydesigncharacteristics type:Resource tag:Resource_Other start:73 stop:77 text:data,\n",
       " annotator:Fride layer:Policydesigncharacteristics type:Time tag:Time_Resources start:112 stop:188 text:the beginning of the calendar year following the adoption of this regulation,\n",
       " annotator:Fride layer:Policydesigncharacteristics type:Time tag:Time_Resources start:241 stop:275 text:frequencies laid down in article 4,\n",
       " annotator:Onerva layer:Policydesigncharacteristics type:Actor tag:Authority_default start:41 stop:54 text:member states,\n",
       " annotator:Onerva layer:Policydesigncharacteristics type:Resource tag:Resource_Other start:73 stop:77 text:data,\n",
       " annotator:Onerva layer:Policydesigncharacteristics type:Time tag:Time_Resources start:107 stop:188 text:from the beginning of the calendar year following the adoption of this regulation,\n",
       " annotator:Curation layer:Policydesigncharacteristics type:Actor tag:Addressee_default start:95 stop:106 text:respondents,\n",
       " annotator:Curation layer:Policydesigncharacteristics type:Actor tag:Addressee_monitored start:145 stop:158 text:member states,\n",
       " annotator:Curation layer:Policydesigncharacteristics type:Compliance tag:Form_monitoring start:165 stop:177 text:compile data,\n",
       " annotator:Curation layer:Policydesigncharacteristics type:Actor tag:Addressee_monitored start:233 stop:242 text:community,\n",
       " annotator:Curation layer:Policydesigncharacteristics type:Compliance tag:Form_monitoring start:286 stop:305 text:statistical surveys,\n",
       " annotator:Curation layer:Policydesigncharacteristics type:Actor tag:Addressee_sector start:323 stop:431 text:primary and transformed energy producers and traders, distributors and transporters, importers and exporters,\n",
       " annotator:Curation layer:Policydesigncharacteristics type:Actor tag:Addressee_sector start:347 stop:375 text:energy producers and traders,\n",
       " annotator:Curation layer:Policydesigncharacteristics type:Actor tag:Addressee_sector start:354 stop:363 text:producers,\n",
       " annotator:Curation layer:Policydesigncharacteristics type:Actor tag:Addressee_sector start:368 stop:375 text:traders,\n",
       " annotator:Curation layer:Policydesigncharacteristics type:Actor tag:Addressee_sector start:377 stop:406 text:distributors and transporters,\n",
       " annotator:Curation layer:Policydesigncharacteristics type:Actor tag:Addressee_sector start:377 stop:389 text:distributors,\n",
       " annotator:Curation layer:Policydesigncharacteristics type:Actor tag:Addressee_sector start:394 stop:406 text:transporters,\n",
       " annotator:Curation layer:Policydesigncharacteristics type:Actor tag:Addressee_sector start:408 stop:450 text:importers and exporters of energy products,\n",
       " annotator:Curation layer:Policydesigncharacteristics type:Actor tag:Addressee_sector start:408 stop:417 text:importers,\n",
       " annotator:Curation layer:Policydesigncharacteristics type:Actor tag:Addressee_sector start:422 stop:431 text:exporters,\n",
       " annotator:Curation layer:Policydesigncharacteristics type:Actor tag:Addressee_sector start:534 stop:556 text:manufacturing industry,\n",
       " annotator:Curation layer:Policydesigncharacteristics type:Actor tag:Addressee_sector start:558 stop:567 text:transport,\n",
       " annotator:Curation layer:Policydesigncharacteristics type:Actor tag:Addressee_sector start:573 stop:586 text:other sectors,\n",
       " annotator:Curation layer:Policydesigncharacteristics type:Actor tag:Addressee_sector start:598 stop:608 text:households,\n",
       " annotator:Curation layer:Policydesigncharacteristics type:Compliance tag:Form_monitoring start:622 stop:655 text:statistical estimation procedures,\n",
       " annotator:Curation layer:Policydesigncharacteristics type:Compliance tag:Form_monitoring start:622 stop:644 text:statistical estimation,\n",
       " annotator:Curation layer:Policydesigncharacteristics type:Actor tag:Addressee_default start:716 stop:761 text:regulators of the electricity and gas markets,\n",
       " annotator:Curation layer:Policydesigncharacteristics type:Actor tag:Addressee_sector start:734 stop:761 text:electricity and gas markets,\n",
       " annotator:Curation layer:Policydesigncharacteristics type:Actor tag:Addressee_default start:769 stop:782 text:member states,\n",
       " annotator:Curation layer:Policydesigncharacteristics type:Compliance tag:Form_monitoring start:832 stop:841 text:reporting,\n",
       " annotator:Curation layer:Policydesigncharacteristics type:Compliance tag:Form_monitoring start:869 stop:888 text:national statistics,\n",
       " annotator:Curation layer:Policydesigncharacteristics type:Resource tag:Resource_Other start:869 stop:888 text:national statistics,\n",
       " annotator:Alisha layer:Policydesigncharacteristics type:Actor tag:Addressee_default start:95 stop:106 text:respondents,\n",
       " annotator:Alisha layer:Policydesigncharacteristics type:Actor tag:Authority_monitoring start:145 stop:158 text:member states,\n",
       " annotator:Alisha layer:Policydesigncharacteristics type:Compliance tag:Form_monitoring start:165 stop:177 text:compile data,\n",
       " annotator:Alisha layer:Policydesigncharacteristics type:Actor tag:Addressee_sector start:233 stop:242 text:community,\n",
       " annotator:Alisha layer:Policydesigncharacteristics type:Compliance tag:Form_monitoring start:286 stop:305 text:statistical surveys,\n",
       " annotator:Alisha layer:Policydesigncharacteristics type:Actor tag:Addressee_sector start:347 stop:375 text:energy producers and traders,\n",
       " annotator:Alisha layer:Policydesigncharacteristics type:Actor tag:Addressee_sector start:377 stop:406 text:distributors and transporters,\n",
       " annotator:Alisha layer:Policydesigncharacteristics type:Actor tag:Addressee_sector start:408 stop:450 text:importers and exporters of energy products,\n",
       " annotator:Alisha layer:Policydesigncharacteristics type:Compliance tag:Form_monitoring start:464 stop:483 text:statistical surveys,\n",
       " annotator:Alisha layer:Policydesigncharacteristics type:Actor tag:Addressee_sector start:497 stop:515 text:final energy users,\n",
       " annotator:Alisha layer:Policydesigncharacteristics type:Actor tag:Addressee_sector start:534 stop:556 text:manufacturing industry,\n",
       " annotator:Alisha layer:Policydesigncharacteristics type:Actor tag:Addressee_sector start:558 stop:567 text:transport,\n",
       " annotator:Alisha layer:Policydesigncharacteristics type:Actor tag:Addressee_sector start:598 stop:608 text:households,\n",
       " annotator:Alisha layer:Policydesigncharacteristics type:Compliance tag:Form_monitoring start:622 stop:644 text:statistical estimation,\n",
       " annotator:Alisha layer:Policydesigncharacteristics type:Actor tag:Addressee_sector start:716 stop:761 text:regulators of the electricity and gas markets,\n",
       " annotator:Alisha layer:Policydesigncharacteristics type:Actor tag:Addressee_default start:769 stop:782 text:member states,\n",
       " annotator:Alisha layer:Policydesigncharacteristics type:Compliance tag:Form_monitoring start:832 stop:841 text:reporting,\n",
       " annotator:Alisha layer:Policydesigncharacteristics type:Compliance tag:Form_monitoring start:869 stop:888 text:national statistics,\n",
       " annotator:Fride layer:Policydesigncharacteristics type:Actor tag:Addressee_default start:145 stop:158 text:member states,\n",
       " annotator:Fride layer:Policydesigncharacteristics type:Resource tag:Resource_Other start:173 stop:177 text:data,\n",
       " annotator:Fride layer:Policydesigncharacteristics type:Actor tag:Addressee_default start:354 stop:363 text:producers,\n",
       " annotator:Fride layer:Policydesigncharacteristics type:Actor tag:Addressee_default start:368 stop:375 text:traders,\n",
       " annotator:Fride layer:Policydesigncharacteristics type:Actor tag:Addressee_default start:377 stop:389 text:distributors,\n",
       " annotator:Fride layer:Policydesigncharacteristics type:Actor tag:Addressee_default start:394 stop:406 text:transporters,\n",
       " annotator:Fride layer:Policydesigncharacteristics type:Actor tag:Addressee_default start:408 stop:417 text:importers,\n",
       " annotator:Fride layer:Policydesigncharacteristics type:Actor tag:Addressee_default start:422 stop:431 text:exporters,\n",
       " annotator:Fride layer:Policydesigncharacteristics type:Actor tag:Addressee_default start:497 stop:515 text:final energy users,\n",
       " annotator:Fride layer:Policydesigncharacteristics type:Actor tag:Addressee_sector start:534 stop:556 text:manufacturing industry,\n",
       " annotator:Fride layer:Policydesigncharacteristics type:Actor tag:Addressee_sector start:558 stop:567 text:transport,\n",
       " annotator:Fride layer:Policydesigncharacteristics type:Actor tag:Addressee_sector start:573 stop:586 text:other sectors,\n",
       " annotator:Fride layer:Policydesigncharacteristics type:Actor tag:Addressee_sector start:598 stop:608 text:households,\n",
       " annotator:Fride layer:Policydesigncharacteristics type:Actor tag:Addressee_default start:716 stop:726 text:regulators,\n",
       " annotator:Fride layer:Policydesigncharacteristics type:Actor tag:Authority_default start:769 stop:782 text:member states,\n",
       " annotator:Fride layer:Policydesigncharacteristics type:Compliance tag:Form_monitoring start:832 stop:841 text:reporting,\n",
       " annotator:Fride layer:Policydesigncharacteristics type:Resource tag:Resource_Other start:849 stop:853 text:data,\n",
       " annotator:Fride layer:Policydesigncharacteristics type:Resource tag:Resource_Other start:869 stop:888 text:national statistics,\n",
       " annotator:Fride layer:Policydesigncharacteristics type:Resource tag:Resource_Other start:968 stop:972 text:data,\n",
       " annotator:Onerva layer:Policydesigncharacteristics type:Actor tag:Authority_default start:145 stop:158 text:member states,\n",
       " annotator:Onerva layer:Policydesigncharacteristics type:Resource tag:Resource_Other start:173 stop:177 text:data,\n",
       " annotator:Onerva layer:Policydesigncharacteristics type:Resource tag:Resource_Other start:277 stop:305 text:specific statistical surveys,\n",
       " annotator:Onerva layer:Policydesigncharacteristics type:Actor tag:Addressee_sector start:323 stop:450 text:primary and transformed energy producers and traders, distributors and transporters, importers and exporters of energy products,\n",
       " annotator:Onerva layer:Policydesigncharacteristics type:Resource tag:Resource_Other start:458 stop:483 text:other statistical surveys,\n",
       " annotator:Onerva layer:Policydesigncharacteristics type:Actor tag:Addressee_sector start:497 stop:515 text:final energy users,\n",
       " annotator:Onerva layer:Policydesigncharacteristics type:Actor tag:Addressee_sector start:534 stop:608 text:manufacturing industry, transport, and other sectors, including households,\n",
       " annotator:Onerva layer:Policydesigncharacteristics type:Resource tag:Resource_Other start:622 stop:672 text:statistical estimation procedures or other sources,\n",
       " annotator:Onerva layer:Policydesigncharacteristics type:Actor tag:Addressee_default start:716 stop:761 text:regulators of the electricity and gas markets,\n",
       " annotator:Onerva layer:Policydesigncharacteristics type:Actor tag:Authority_default start:769 stop:782 text:member states,\n",
       " annotator:Onerva layer:Policydesigncharacteristics type:Compliance tag:Form_monitoring start:832 stop:841 text:reporting,\n",
       " annotator:Curation layer:Policydesigncharacteristics type:Resource tag:Resource_Other start:106 stop:126 text:community statistics,\n",
       " annotator:Curation layer:Policydesigncharacteristics type:Resource tag:Resource_Other start:133 stop:153 text:community statistics,\n",
       " annotator:Curation layer:Policydesigncharacteristics type:Reference tag:Ref_OtherPolicy start:201 stop:226 text:regulation (ec) no 322/97,\n",
       " annotator:Curation layer:Policydesigncharacteristics type:Resource tag:Resource_Other start:249 stop:259 text:statistics,\n",
       " annotator:Curation layer:Policydesigncharacteristics type:Resource tag:Resource_Other start:281 stop:291 text:statistics,\n",
       " annotator:Curation layer:Policydesigncharacteristics type:Reference tag:Ref_OtherPolicy start:340 stop:365 text:regulation (ec) no 322/97,\n",
       " annotator:Curation layer:Policydesigncharacteristics type:Actor tag:Authority_default start:374 stop:395 text:commission (eurostat),\n",
       " annotator:Curation layer:Policydesigncharacteristics type:Actor tag:Authority_default start:374 stop:384 text:commission,\n",
       " annotator:Curation layer:Policydesigncharacteristics type:Actor tag:Authority_default start:386 stop:394 text:eurostat,\n",
       " annotator:Curation layer:Policydesigncharacteristics type:Actor tag:Authority_default start:407 stop:426 text:community authority,\n",
       " annotator:Curation layer:Policydesigncharacteristics type:Reference tag:Ref_OtherPolicy start:475 stop:500 text:regulation (ec) no 322/97,\n",
       " annotator:Alisha layer:Policydesigncharacteristics type:Reference tag:Ref_OtherPolicy start:201 stop:226 text:regulation (ec) no 322/97,\n",
       " annotator:Alisha layer:Policydesigncharacteristics type:Compliance tag:Form_monitoring start:235 stop:259 text:production of statistics,\n",
       " annotator:Alisha layer:Policydesigncharacteristics type:Compliance tag:Form_monitoring start:267 stop:291 text:production of statistics,\n",
       " annotator:Alisha layer:Policydesigncharacteristics type:Reference tag:Ref_OtherPolicy start:340 stop:365 text:regulation (ec) no 322/97,\n",
       " annotator:Alisha layer:Policydesigncharacteristics type:Actor tag:Authority_default start:374 stop:384 text:commission,\n",
       " annotator:Alisha layer:Policydesigncharacteristics type:Actor tag:Authority_default start:386 stop:394 text:eurostat,\n",
       " annotator:Alisha layer:Policydesigncharacteristics type:Actor tag:Authority_default start:407 stop:426 text:community authority,\n",
       " annotator:Alisha layer:Policydesigncharacteristics type:Reference tag:Ref_OtherPolicy start:475 stop:500 text:regulation (ec) no 322/97,\n",
       " annotator:Alisha layer:Policydesigncharacteristics type:Compliance tag:Form_monitoring start:640 stop:930 text:data aggregated at national level on the treatment or use of energy products, namely production, trade, stocks, transformation, consumption, and structural characteristics of the energy system such as installed capacities for electricity generation or production capacities for oil products,\n",
       " annotator:Alisha layer:Policydesigncharacteristics type:Compliance tag:Form_monitoring start:987 stop:1125 text:statistical quality: relevance, accuracy, timeliness and punctuality, accessibility and clarity, comparability, coherence and completeness,\n",
       " annotator:Fride layer:Policydesigncharacteristics type:Resource tag:Resource_Other start:106 stop:126 text:community statistics,\n",
       " annotator:Fride layer:Policydesigncharacteristics type:Resource tag:Resource_Other start:133 stop:153 text:community statistics,\n",
       " annotator:Fride layer:Policydesigncharacteristics type:Reference tag:Ref_OtherPolicy start:201 stop:226 text:regulation (ec) no 322/97,\n",
       " annotator:Fride layer:Policydesigncharacteristics type:Resource tag:Resource_Other start:249 stop:259 text:statistics,\n",
       " annotator:Fride layer:Policydesigncharacteristics type:Resource tag:Resource_Other start:281 stop:291 text:statistics,\n",
       " annotator:Fride layer:Policydesigncharacteristics type:Reference tag:Ref_OtherPolicy start:340 stop:365 text:regulation (ec) no 322/97,\n",
       " annotator:Fride layer:Policydesigncharacteristics type:Actor tag:Authority_default start:374 stop:395 text:commission (eurostat),\n",
       " annotator:Fride layer:Policydesigncharacteristics type:Actor tag:Authority_default start:407 stop:426 text:community authority,\n",
       " annotator:Fride layer:Policydesigncharacteristics type:Reference tag:Ref_OtherPolicy start:475 stop:500 text:regulation (ec) no 322/97,\n",
       " annotator:Fride layer:Policydesigncharacteristics type:Resource tag:Resource_Other start:640 stop:644 text:data,\n",
       " annotator:Fride layer:Policydesigncharacteristics type:Resource tag:Resource_Other start:950 stop:954 text:data,\n",
       " annotator:Onerva layer:Policydesigncharacteristics type:Reference tag:Ref_OtherPolicy start:201 stop:226 text:regulation (ec) no 322/97,\n",
       " annotator:Onerva layer:Policydesigncharacteristics type:Reference tag:Ref_OtherPolicy start:340 stop:365 text:regulation (ec) no 322/97,\n",
       " annotator:Onerva layer:Policydesigncharacteristics type:Actor tag:Authority_default start:374 stop:395 text:commission (eurostat),\n",
       " annotator:Onerva layer:Policydesigncharacteristics type:Actor tag:Authority_default start:407 stop:426 text:community authority,\n",
       " annotator:Onerva layer:Policydesigncharacteristics type:Reference tag:Ref_OtherPolicy start:475 stop:500 text:regulation (ec) no 322/97,\n",
       " annotator:Curation layer:Policydesigncharacteristics type:Objective tag:Objective_QualIntention_noCCM start:97 stop:183 text:production, transmission, evaluation and dissemination of comparable energy statistics,\n",
       " annotator:Curation layer:Policydesigncharacteristics type:Objective tag:Objective_QualIntention_noCCM start:155 stop:200 text:comparable energy statistics in the community,\n",
       " annotator:Curation layer:Policydesigncharacteristics type:Resource tag:Resource_Other start:166 stop:183 text:energy statistics,\n",
       " annotator:Curation layer:Policydesigncharacteristics type:Actor tag:Addressee_sector start:191 stop:200 text:community,\n",
       " annotator:Curation layer:Policydesigncharacteristics type:Actor tag:Addressee_default start:191 stop:200 text:community,\n",
       " annotator:Curation layer:Policydesigncharacteristics type:Actor tag:Addressee_sector start:311 stop:320 text:community,\n",
       " annotator:Curation layer:Policydesigncharacteristics type:Actor tag:Addressee_default start:311 stop:320 text:community,\n",
       " annotator:Alisha layer:Policydesigncharacteristics type:Objective tag:Objective_QualIntention_noCCM start:97 stop:183 text:production, transmission, evaluation and dissemination of comparable energy statistics,\n",
       " annotator:Alisha layer:Policydesigncharacteristics type:Compliance tag:Form_monitoring start:97 stop:183 text:production, transmission, evaluation and dissemination of comparable energy statistics,\n",
       " annotator:Alisha layer:Policydesigncharacteristics type:Actor tag:Addressee_sector start:191 stop:200 text:community,\n",
       " annotator:Alisha layer:Policydesigncharacteristics type:Actor tag:Addressee_sector start:311 stop:320 text:community,\n",
       " annotator:Fride layer:Policydesigncharacteristics type:Objective tag:Objective_QualIntention_noCCM start:155 stop:200 text:comparable energy statistics in the community,\n",
       " annotator:Fride layer:Policydesigncharacteristics type:Resource tag:Resource_Other start:166 stop:183 text:energy statistics,\n",
       " annotator:Fride layer:Policydesigncharacteristics type:Resource tag:Resource_Other start:239 stop:255 text:statistical data,\n",
       " annotator:Onerva layer:Policydesigncharacteristics type:Resource tag:Resource_Other start:166 stop:183 text:energy statistics,\n",
       " annotator:Onerva layer:Policydesigncharacteristics type:Actor tag:Addressee_default start:191 stop:200 text:community,\n",
       " annotator:Onerva layer:Policydesigncharacteristics type:Actor tag:Addressee_default start:311 stop:320 text:community]"
      ]
     },
     "execution_count": 97,
     "metadata": {},
     "output_type": "execute_result"
    }
   ],
   "source": [
    "test_corpus.get_span_list(conditional_rep = test_dir, item = 'layer', value = 'Policydesigncharacteristics')"
   ]
  },
  {
   "cell_type": "markdown",
   "metadata": {},
   "source": [
    "All the other member functions are based on the Corpus.get_tag_list member function, they also take the same inputs. \n",
    "\n",
    "get_span_distro(self, conditional_rep, item, value, return_format) returns the distribution of spans of a tag_list either in dict{span:count} or list format. The lenght of the span can be calculated on character or token level:"
   ]
  },
  {
   "cell_type": "code",
   "execution_count": 98,
   "metadata": {},
   "outputs": [
    {
     "data": {
      "text/plain": [
       "{10: 33,\n",
       " 19: 19,\n",
       " 20: 16,\n",
       " 17: 14,\n",
       " 8: 14,\n",
       " 13: 14,\n",
       " 9: 14,\n",
       " 6: 12,\n",
       " 21: 12,\n",
       " 11: 11,\n",
       " 18: 8,\n",
       " 4: 8,\n",
       " 7: 7,\n",
       " 15: 7,\n",
       " 35: 6,\n",
       " 27: 6,\n",
       " 12: 6,\n",
       " 16: 4,\n",
       " 25: 4,\n",
       " 5: 4,\n",
       " 31: 3,\n",
       " 22: 3,\n",
       " 29: 2,\n",
       " 42: 2,\n",
       " 23: 2,\n",
       " 14: 2,\n",
       " 24: 2,\n",
       " 28: 2,\n",
       " 45: 2,\n",
       " 36: 2,\n",
       " 3: 1,\n",
       " 81: 1,\n",
       " 59: 1,\n",
       " 58: 1,\n",
       " 34: 1,\n",
       " 99: 1,\n",
       " 72: 1,\n",
       " 76: 1,\n",
       " 30: 1,\n",
       " 108: 1,\n",
       " 33: 1,\n",
       " 86: 1}"
      ]
     },
     "execution_count": 98,
     "metadata": {},
     "output_type": "execute_result"
    }
   ],
   "source": [
    "test_corpus.get_span_distro(conditional_rep = test_dir, return_format = 'dict', level = 'character')"
   ]
  },
  {
   "cell_type": "code",
   "execution_count": 99,
   "metadata": {},
   "outputs": [
    {
     "data": {
      "text/plain": [
       "[0,\n",
       " 0,\n",
       " 1,\n",
       " 8,\n",
       " 4,\n",
       " 12,\n",
       " 7,\n",
       " 14,\n",
       " 14,\n",
       " 33,\n",
       " 11,\n",
       " 6,\n",
       " 14,\n",
       " 2,\n",
       " 7,\n",
       " 4,\n",
       " 14,\n",
       " 8,\n",
       " 19,\n",
       " 16,\n",
       " 12,\n",
       " 3,\n",
       " 2,\n",
       " 2,\n",
       " 4,\n",
       " 0,\n",
       " 6,\n",
       " 2,\n",
       " 2,\n",
       " 1,\n",
       " 3,\n",
       " 0,\n",
       " 1,\n",
       " 1,\n",
       " 6,\n",
       " 2,\n",
       " 0,\n",
       " 0,\n",
       " 0,\n",
       " 0,\n",
       " 0,\n",
       " 2,\n",
       " 0,\n",
       " 0,\n",
       " 2,\n",
       " 0,\n",
       " 0,\n",
       " 0,\n",
       " 0,\n",
       " 0,\n",
       " 0,\n",
       " 0,\n",
       " 0,\n",
       " 0,\n",
       " 0,\n",
       " 0,\n",
       " 0,\n",
       " 1,\n",
       " 1,\n",
       " 0,\n",
       " 0,\n",
       " 0,\n",
       " 0,\n",
       " 0,\n",
       " 0,\n",
       " 0,\n",
       " 0,\n",
       " 0,\n",
       " 0,\n",
       " 0,\n",
       " 0,\n",
       " 1,\n",
       " 0,\n",
       " 0,\n",
       " 0,\n",
       " 1,\n",
       " 0,\n",
       " 0,\n",
       " 0,\n",
       " 0,\n",
       " 1,\n",
       " 0,\n",
       " 0,\n",
       " 0,\n",
       " 0,\n",
       " 1,\n",
       " 0,\n",
       " 0,\n",
       " 0,\n",
       " 0,\n",
       " 0,\n",
       " 0,\n",
       " 0,\n",
       " 0,\n",
       " 0,\n",
       " 0,\n",
       " 0,\n",
       " 0,\n",
       " 1,\n",
       " 0,\n",
       " 0,\n",
       " 0,\n",
       " 0,\n",
       " 0,\n",
       " 0,\n",
       " 0,\n",
       " 0,\n",
       " 1]"
      ]
     },
     "execution_count": 99,
     "metadata": {},
     "output_type": "execute_result"
    }
   ],
   "source": [
    "test_corpus.get_span_distro(conditional_rep = test_dir, return_format = 'list')"
   ]
  },
  {
   "cell_type": "code",
   "execution_count": 100,
   "metadata": {},
   "outputs": [
    {
     "data": {
      "text/plain": [
       "{1: 104,\n",
       " 2: 87,\n",
       " 4: 18,\n",
       " 3: 16,\n",
       " 5: 7,\n",
       " 6: 6,\n",
       " 9: 4,\n",
       " 7: 3,\n",
       " 11: 2,\n",
       " 10: 1,\n",
       " 8: 1,\n",
       " 13: 1,\n",
       " 14: 1,\n",
       " 12: 1,\n",
       " 15: 1}"
      ]
     },
     "execution_count": 100,
     "metadata": {},
     "output_type": "execute_result"
    }
   ],
   "source": [
    "test_corpus.get_span_distro(conditional_rep = test_dir, return_format = 'dict', level = 'token')"
   ]
  },
  {
   "cell_type": "markdown",
   "metadata": {},
   "source": [
    "This span ditro can also be plottet:"
   ]
  },
  {
   "cell_type": "code",
   "execution_count": 101,
   "metadata": {},
   "outputs": [
    {
     "data": {
      "image/png": "[encoded data removed]",
      "text/plain": [
       "<Figure size 432x288 with 1 Axes>"
      ]
     },
     "metadata": {
      "needs_background": "light"
     },
     "output_type": "display_data"
    }
   ],
   "source": [
    "import matplotlib.pyplot as plt\n",
    "plt.plot(test_corpus.get_span_distro(conditional_rep = test_dir, return_format = 'list', level = 'token'))\n",
    "plt.show()"
   ]
  },
  {
   "cell_type": "markdown",
   "metadata": {},
   "source": [
    "get_span_count(self, article, item, value) returns # of tags in the tag_list. Can be used to retrieve the amount of tags matching a certain condition. E.g all the tags of class 'Policydesigncharacteristics' in the policy 'EU_32008R1099':"
   ]
  },
  {
   "cell_type": "code",
   "execution_count": 102,
   "metadata": {},
   "outputs": [
    {
     "data": {
      "text/plain": [
       "210"
      ]
     },
     "execution_count": 102,
     "metadata": {},
     "output_type": "execute_result"
    }
   ],
   "source": [
    "test_corpus.get_span_count(item = 'layer', value = 'Policydesigncharacteristics', conditional_rep = test_dir)"
   ]
  },
  {
   "cell_type": "markdown",
   "metadata": {},
   "source": [
    "get_tokens_from_span_list(self, conditional_rep, item, value) returns a list of all the tokens in a taglist"
   ]
  },
  {
   "cell_type": "code",
   "execution_count": 103,
   "metadata": {},
   "outputs": [
    {
     "data": {
      "text/plain": [
       "[start:47 stop:55 text:european tag_count:4,\n",
       " start:56 stop:66 text:parliament tag_count:4,\n",
       " start:78 stop:85 text:council tag_count:4,\n",
       " start:112 stop:118 text:energy tag_count:3,\n",
       " start:119 stop:129 text:statistics tag_count:2,\n",
       " start:142 stop:145 text:eea tag_count:2,\n",
       " start:162 stop:170 text:european tag_count:4,\n",
       " start:171 stop:181 text:parliament tag_count:4,\n",
       " start:190 stop:197 text:council tag_count:5,\n",
       " start:198 stop:200 text:of tag_count:3,\n",
       " start:201 stop:204 text:the tag_count:3,\n",
       " start:205 stop:213 text:european tag_count:3,\n",
       " start:214 stop:219 text:union tag_count:3,\n",
       " start:190 stop:197 text:council tag_count:5,\n",
       " start:243 stop:249 text:treaty tag_count:4,\n",
       " start:250 stop:262 text:establishing tag_count:2,\n",
       " start:263 stop:266 text:the tag_count:2,\n",
       " start:267 stop:275 text:european tag_count:2,\n",
       " start:276 stop:285 text:community tag_count:2,\n",
       " start:243 stop:249 text:treaty tag_count:4,\n",
       " start:369 stop:379 text:commission tag_count:3,\n",
       " start:454 stop:460 text:treaty tag_count:2,\n",
       " start:21 stop:27 text:energy tag_count:4,\n",
       " start:28 stop:38 text:statistics tag_count:3,\n",
       " start:43 stop:48 text:final tag_count:2,\n",
       " start:49 stop:55 text:energy tag_count:4,\n",
       " start:56 stop:67 text:consumption tag_count:4,\n",
       " start:68 stop:78 text:statistics tag_count:3,\n",
       " start:100 stop:109 text:improving tag_count:4,\n",
       " start:110 stop:113 text:the tag_count:4,\n",
       " start:114 stop:121 text:quality tag_count:4,\n",
       " start:122 stop:124 text:of tag_count:4,\n",
       " start:125 stop:134 text:renewable tag_count:7,\n",
       " start:135 stop:141 text:energy tag_count:7,\n",
       " start:142 stop:145 text:and tag_count:6,\n",
       " start:146 stop:151 text:final tag_count:6,\n",
       " start:152 stop:158 text:energy tag_count:8,\n",
       " start:159 stop:170 text:consumption tag_count:7,\n",
       " start:171 stop:181 text:statistics tag_count:6,\n",
       " start:187 stop:197 text:commission tag_count:7,\n",
       " start:198 stop:199 text:( tag_count:4,\n",
       " start:199 stop:207 text:eurostat tag_count:7,\n",
       " start:207 stop:208 text:) tag_count:4,\n",
       " start:187 stop:197 text:commission tag_count:7,\n",
       " start:198 stop:199 text:( tag_count:4,\n",
       " start:199 stop:207 text:eurostat tag_count:7,\n",
       " start:207 stop:208 text:) tag_count:4,\n",
       " start:187 stop:197 text:commission tag_count:7,\n",
       " start:187 stop:197 text:commission tag_count:7,\n",
       " start:199 stop:207 text:eurostat tag_count:7,\n",
       " start:199 stop:207 text:eurostat tag_count:7,\n",
       " start:236 stop:242 text:member tag_count:4,\n",
       " start:243 stop:249 text:states tag_count:4,\n",
       " start:236 stop:242 text:member tag_count:4,\n",
       " start:243 stop:249 text:states tag_count:4,\n",
       " start:278 stop:288 text:statistics tag_count:4,\n",
       " start:278 stop:288 text:statistics tag_count:4,\n",
       " start:393 stop:402 text:renewable tag_count:5,\n",
       " start:403 stop:409 text:energy tag_count:6,\n",
       " start:410 stop:420 text:statistics tag_count:4,\n",
       " start:393 stop:402 text:renewable tag_count:5,\n",
       " start:403 stop:409 text:energy tag_count:6,\n",
       " start:410 stop:420 text:statistics tag_count:4,\n",
       " start:480 stop:490 text:statistics tag_count:4,\n",
       " start:480 stop:490 text:statistics tag_count:4,\n",
       " start:524 stop:532 text:annually tag_count:3,\n",
       " start:569 stop:579 text:commission tag_count:5,\n",
       " start:580 stop:581 text:( tag_count:3,\n",
       " start:581 stop:589 text:eurostat tag_count:5,\n",
       " start:589 stop:590 text:) tag_count:3,\n",
       " start:569 stop:579 text:commission tag_count:5,\n",
       " start:581 stop:589 text:eurostat tag_count:5,\n",
       " start:625 stop:635 text:statistics tag_count:2,\n",
       " start:779 stop:784 text:final tag_count:3,\n",
       " start:785 stop:791 text:energy tag_count:5,\n",
       " start:792 stop:803 text:consumption tag_count:5,\n",
       " start:804 stop:814 text:statistics tag_count:4,\n",
       " start:779 stop:784 text:final tag_count:3,\n",
       " start:785 stop:791 text:energy tag_count:5,\n",
       " start:792 stop:803 text:consumption tag_count:5,\n",
       " start:804 stop:814 text:statistics tag_count:4,\n",
       " start:884 stop:892 text:existing tag_count:2,\n",
       " start:893 stop:900 text:studies tag_count:2,\n",
       " start:905 stop:916 text:feasibility tag_count:2,\n",
       " start:917 stop:922 text:pilot tag_count:2,\n",
       " start:923 stop:930 text:studies tag_count:2,\n",
       " start:943 stop:955 text:cost-benefit tag_count:2,\n",
       " start:956 stop:964 text:analyses tag_count:2,\n",
       " start:990 stop:1000 text:evaluating tag_count:2,\n",
       " start:1021 stop:1026 text:pilot tag_count:2,\n",
       " start:1027 stop:1034 text:studies tag_count:2,\n",
       " start:1039 stop:1051 text:cost-benefit tag_count:2,\n",
       " start:1052 stop:1060 text:analyses tag_count:2,\n",
       " start:1212 stop:1222 text:statistics tag_count:2,\n",
       " start:1276 stop:1285 text:renewable tag_count:5,\n",
       " start:1286 stop:1292 text:energy tag_count:6,\n",
       " start:1293 stop:1303 text:statistics tag_count:4,\n",
       " start:1425 stop:1430 text:final tag_count:2,\n",
       " start:1431 stop:1437 text:energy tag_count:5,\n",
       " start:1438 stop:1449 text:consumption tag_count:5,\n",
       " start:1450 stop:1460 text:statistics tag_count:4,\n",
       " start:11 stop:17 text:annual tag_count:4,\n",
       " start:18 stop:25 text:nuclear tag_count:6,\n",
       " start:26 stop:36 text:statistics tag_count:4,\n",
       " start:42 stop:52 text:commission tag_count:4,\n",
       " start:54 stop:62 text:eurostat tag_count:4,\n",
       " start:95 stop:102 text:nuclear tag_count:5,\n",
       " start:103 stop:109 text:energy tag_count:5,\n",
       " start:110 stop:116 text:sector tag_count:3,\n",
       " start:144 stop:150 text:annual tag_count:4,\n",
       " start:151 stop:158 text:nuclear tag_count:6,\n",
       " start:159 stop:169 text:statistics tag_count:4,\n",
       " start:185 stop:193 text:reported tag_count:3,\n",
       " start:211 stop:215 text:from tag_count:2,\n",
       " start:216 stop:220 text:2009 tag_count:4,\n",
       " start:221 stop:228 text:onwards tag_count:2,\n",
       " start:216 stop:220 text:2009 tag_count:4,\n",
       " start:256 stop:264 text:reported tag_count:2,\n",
       " start:265 stop:271 text:period tag_count:1,\n",
       " start:484 stop:490 text:annual tag_count:4,\n",
       " start:491 stop:498 text:nuclear tag_count:5,\n",
       " start:499 stop:509 text:statistics tag_count:4,\n",
       " start:48 stop:54 text:member tag_count:5,\n",
       " start:55 stop:61 text:states tag_count:5,\n",
       " start:48 stop:54 text:member tag_count:5,\n",
       " start:55 stop:61 text:states tag_count:5,\n",
       " start:84 stop:94 text:commission tag_count:4,\n",
       " start:96 stop:104 text:eurostat tag_count:4,\n",
       " start:110 stop:118 text:national tag_count:5,\n",
       " start:119 stop:129 text:statistics tag_count:5,\n",
       " start:110 stop:118 text:national tag_count:5,\n",
       " start:119 stop:129 text:statistics tag_count:5,\n",
       " start:228 stop:232 text:time tag_count:2,\n",
       " start:233 stop:239 text:limits tag_count:2,\n",
       " start:366 stop:374 text:national tag_count:5,\n",
       " start:375 stop:385 text:statistics tag_count:5,\n",
       " start:366 stop:374 text:national tag_count:5,\n",
       " start:375 stop:385 text:statistics tag_count:5,\n",
       " start:528 stop:534 text:member tag_count:4,\n",
       " start:535 stop:540 text:state tag_count:4,\n",
       " start:601 stop:611 text:commission tag_count:5,\n",
       " start:601 stop:611 text:commission tag_count:5,\n",
       " start:709 stop:717 text:national tag_count:5,\n",
       " start:718 stop:728 text:statistics tag_count:5,\n",
       " start:709 stop:717 text:national tag_count:5,\n",
       " start:718 stop:728 text:statistics tag_count:5,\n",
       " start:814 stop:824 text:commission tag_count:5,\n",
       " start:825 stop:826 text:( tag_count:3,\n",
       " start:826 stop:834 text:eurostat tag_count:5,\n",
       " start:834 stop:835 text:) tag_count:3,\n",
       " start:814 stop:824 text:commission tag_count:5,\n",
       " start:826 stop:834 text:eurostat tag_count:5,\n",
       " start:854 stop:860 text:yearly tag_count:2,\n",
       " start:861 stop:867 text:energy tag_count:6,\n",
       " start:868 stop:878 text:statistics tag_count:5,\n",
       " start:861 stop:867 text:energy tag_count:6,\n",
       " start:868 stop:878 text:statistics tag_count:5,\n",
       " start:882 stop:884 text:31 tag_count:4,\n",
       " start:885 stop:892 text:january tag_count:4,\n",
       " start:893 stop:895 text:of tag_count:3,\n",
       " start:896 stop:899 text:the tag_count:3,\n",
       " start:900 stop:906 text:second tag_count:3,\n",
       " start:907 stop:911 text:year tag_count:3,\n",
       " start:912 stop:921 text:following tag_count:3,\n",
       " start:922 stop:925 text:the tag_count:3,\n",
       " start:926 stop:934 text:reported tag_count:4,\n",
       " start:935 stop:941 text:period tag_count:3,\n",
       " start:12 stop:21 text:committee tag_count:2,\n",
       " start:32 stop:42 text:commission tag_count:4,\n",
       " start:68 stop:79 text:statistical tag_count:3,\n",
       " start:80 stop:89 text:programme tag_count:3,\n",
       " start:90 stop:99 text:committee tag_count:3,\n",
       " start:188 stop:196 text:decision tag_count:4,\n",
       " start:197 stop:201 text:1999 tag_count:4,\n",
       " start:201 stop:202 text:/ tag_count:4,\n",
       " start:202 stop:205 text:468 tag_count:4,\n",
       " start:205 stop:206 text:/ tag_count:4,\n",
       " start:206 stop:208 text:ec tag_count:4,\n",
       " start:344 stop:352 text:decision tag_count:4,\n",
       " start:353 stop:357 text:1999 tag_count:4,\n",
       " start:357 stop:358 text:/ tag_count:4,\n",
       " start:358 stop:361 text:468 tag_count:4,\n",
       " start:361 stop:362 text:/ tag_count:4,\n",
       " start:362 stop:364 text:ec tag_count:4,\n",
       " start:476 stop:484 text:decision tag_count:4,\n",
       " start:485 stop:489 text:1999 tag_count:4,\n",
       " start:489 stop:490 text:/ tag_count:4,\n",
       " start:490 stop:493 text:468 tag_count:4,\n",
       " start:493 stop:494 text:/ tag_count:4,\n",
       " start:494 stop:496 text:ec tag_count:4,\n",
       " start:506 stop:511 text:three tag_count:2,\n",
       " start:512 stop:518 text:months tag_count:2,\n",
       " start:402 stop:410 text:national tag_count:4,\n",
       " start:411 stop:421 text:statistics tag_count:4,\n",
       " start:402 stop:410 text:national tag_count:4,\n",
       " start:411 stop:421 text:statistics tag_count:4,\n",
       " start:607 stop:613 text:annual tag_count:3,\n",
       " start:614 stop:621 text:nuclear tag_count:6,\n",
       " start:622 stop:632 text:statistics tag_count:4,\n",
       " start:614 stop:621 text:nuclear tag_count:6,\n",
       " start:622 stop:632 text:statistics tag_count:4,\n",
       " start:676 stop:685 text:renewable tag_count:4,\n",
       " start:686 stop:692 text:energy tag_count:5,\n",
       " start:693 stop:703 text:statistics tag_count:4,\n",
       " start:676 stop:685 text:renewable tag_count:4,\n",
       " start:686 stop:692 text:energy tag_count:5,\n",
       " start:693 stop:703 text:statistics tag_count:4,\n",
       " start:768 stop:773 text:final tag_count:3,\n",
       " start:774 stop:780 text:energy tag_count:5,\n",
       " start:781 stop:792 text:consumption tag_count:5,\n",
       " start:793 stop:803 text:statistics tag_count:4,\n",
       " start:768 stop:773 text:final tag_count:3,\n",
       " start:774 stop:780 text:energy tag_count:5,\n",
       " start:781 stop:792 text:consumption tag_count:5,\n",
       " start:793 stop:803 text:statistics tag_count:4,\n",
       " start:1051 stop:1060 text:reporting tag_count:3,\n",
       " start:73 stop:81 text:national tag_count:4,\n",
       " start:82 stop:92 text:statistics tag_count:4,\n",
       " start:73 stop:81 text:national tag_count:4,\n",
       " start:82 stop:92 text:statistics tag_count:4,\n",
       " start:103 stop:111 text:national tag_count:4,\n",
       " start:112 stop:122 text:statistics tag_count:4,\n",
       " start:103 stop:111 text:national tag_count:4,\n",
       " start:112 stop:122 text:statistics tag_count:4,\n",
       " start:129 stop:137 text:reported tag_count:3,\n",
       " start:238 stop:244 text:annual tag_count:4,\n",
       " start:238 stop:244 text:annual tag_count:4,\n",
       " start:254 stop:260 text:energy tag_count:5,\n",
       " start:261 stop:271 text:statistics tag_count:4,\n",
       " start:254 stop:260 text:energy tag_count:5,\n",
       " start:261 stop:271 text:statistics tag_count:4,\n",
       " start:290 stop:297 text:monthly tag_count:4,\n",
       " start:290 stop:297 text:monthly tag_count:4,\n",
       " start:307 stop:313 text:energy tag_count:5,\n",
       " start:314 stop:324 text:statistics tag_count:4,\n",
       " start:307 stop:313 text:energy tag_count:5,\n",
       " start:314 stop:324 text:statistics tag_count:4,\n",
       " start:343 stop:353 text:short-term tag_count:4,\n",
       " start:354 stop:361 text:monthly tag_count:4,\n",
       " start:343 stop:353 text:short-term tag_count:4,\n",
       " start:354 stop:361 text:monthly tag_count:4,\n",
       " start:371 stop:377 text:energy tag_count:5,\n",
       " start:378 stop:388 text:statistics tag_count:4,\n",
       " start:371 stop:377 text:energy tag_count:5,\n",
       " start:378 stop:388 text:statistics tag_count:4,\n",
       " start:76 stop:80 text:20th tag_count:5,\n",
       " start:81 stop:84 text:day tag_count:5,\n",
       " start:85 stop:94 text:following tag_count:5,\n",
       " start:95 stop:98 text:its tag_count:5,\n",
       " start:99 stop:110 text:publication tag_count:5,\n",
       " start:111 stop:113 text:in tag_count:3,\n",
       " start:114 stop:117 text:the tag_count:3,\n",
       " start:118 stop:126 text:official tag_count:3,\n",
       " start:127 stop:134 text:journal tag_count:3,\n",
       " start:76 stop:80 text:20th tag_count:5,\n",
       " start:81 stop:84 text:day tag_count:5,\n",
       " start:85 stop:94 text:following tag_count:5,\n",
       " start:95 stop:98 text:its tag_count:5,\n",
       " start:99 stop:110 text:publication tag_count:5,\n",
       " start:239 stop:245 text:member tag_count:4,\n",
       " start:246 stop:252 text:states tag_count:4,\n",
       " start:11 stop:18 text:quality tag_count:4,\n",
       " start:19 stop:29 text:assessment tag_count:4,\n",
       " start:34 stop:41 text:reports tag_count:4,\n",
       " start:48 stop:54 text:member tag_count:4,\n",
       " start:55 stop:61 text:states tag_count:4,\n",
       " start:275 stop:285 text:commission tag_count:3,\n",
       " start:286 stop:294 text:decision tag_count:5,\n",
       " start:295 stop:299 text:2005 tag_count:5,\n",
       " start:299 stop:300 text:/ tag_count:5,\n",
       " start:300 stop:303 text:166 tag_count:5,\n",
       " start:303 stop:304 text:/ tag_count:5,\n",
       " start:304 stop:306 text:ec tag_count:5,\n",
       " start:286 stop:294 text:decision tag_count:5,\n",
       " start:295 stop:299 text:2005 tag_count:5,\n",
       " start:299 stop:300 text:/ tag_count:5,\n",
       " start:300 stop:303 text:166 tag_count:5,\n",
       " start:303 stop:304 text:/ tag_count:5,\n",
       " start:304 stop:306 text:ec tag_count:5,\n",
       " start:366 stop:374 text:decision tag_count:4,\n",
       " start:375 stop:377 text:no tag_count:4,\n",
       " start:377 stop:378 text:  tag_count:4,\n",
       " start:378 stop:381 text:280 tag_count:4,\n",
       " start:381 stop:382 text:/ tag_count:4,\n",
       " start:382 stop:386 text:2004 tag_count:4,\n",
       " start:386 stop:387 text:/ tag_count:4,\n",
       " start:387 stop:389 text:ec tag_count:4,\n",
       " start:397 stop:405 text:european tag_count:2,\n",
       " start:406 stop:416 text:parliament tag_count:2,\n",
       " start:428 stop:435 text:council tag_count:2,\n",
       " start:449 stop:458 text:mechanism tag_count:3,\n",
       " start:459 stop:462 text:for tag_count:2,\n",
       " start:463 stop:473 text:monitoring tag_count:4,\n",
       " start:474 stop:483 text:community tag_count:1,\n",
       " start:484 stop:494 text:greenhouse tag_count:1,\n",
       " start:495 stop:498 text:gas tag_count:1,\n",
       " start:499 stop:508 text:emissions tag_count:1,\n",
       " start:509 stop:512 text:and tag_count:1,\n",
       " start:513 stop:516 text:for tag_count:1,\n",
       " start:517 stop:529 text:implementing tag_count:1,\n",
       " start:530 stop:533 text:the tag_count:1,\n",
       " start:534 stop:539 text:kyoto tag_count:5,\n",
       " start:540 stop:548 text:protocol tag_count:5,\n",
       " start:449 stop:458 text:mechanism tag_count:3,\n",
       " start:459 stop:462 text:for tag_count:2,\n",
       " start:463 stop:473 text:monitoring tag_count:4,\n",
       " start:463 stop:473 text:monitoring tag_count:4,\n",
       " start:534 stop:539 text:kyoto tag_count:5,\n",
       " start:540 stop:548 text:protocol tag_count:5,\n",
       " start:661 stop:665 text:data tag_count:2,\n",
       " start:672 stop:683 text:transmitted tag_count:2,\n",
       " start:738 stop:748 text:statistics tag_count:3,\n",
       " start:738 stop:748 text:statistics tag_count:3,\n",
       " start:789 stop:794 text:users tag_count:2,\n",
       " start:959 stop:970 text:information tag_count:3,\n",
       " start:959 stop:970 text:information tag_count:3,\n",
       " start:1070 stop:1074 text:date tag_count:1,\n",
       " start:1075 stop:1077 text:of tag_count:1,\n",
       " start:1078 stop:1081 text:the tag_count:1,\n",
       " start:1082 stop:1089 text:release tag_count:1,\n",
       " start:1090 stop:1092 text:of tag_count:1,\n",
       " start:1093 stop:1096 text:the tag_count:1,\n",
       " start:1097 stop:1101 text:data tag_count:3,\n",
       " start:1097 stop:1101 text:data tag_count:3,\n",
       " start:1110 stop:1116 text:target tag_count:1,\n",
       " start:1117 stop:1121 text:date tag_count:1,\n",
       " start:1248 stop:1253 text:users tag_count:3,\n",
       " start:1284 stop:1288 text:data tag_count:2,\n",
       " start:1447 stop:1457 text:statistics tag_count:2,\n",
       " start:1583 stop:1587 text:data tag_count:2,\n",
       " start:1658 stop:1663 text:every tag_count:3,\n",
       " start:1664 stop:1668 text:five tag_count:3,\n",
       " start:1669 stop:1674 text:years tag_count:3,\n",
       " start:1676 stop:1682 text:member tag_count:4,\n",
       " start:1683 stop:1689 text:states tag_count:4,\n",
       " start:1708 stop:1718 text:commission tag_count:5,\n",
       " start:1719 stop:1720 text:( tag_count:3,\n",
       " start:1720 stop:1728 text:eurostat tag_count:5,\n",
       " start:1728 stop:1729 text:) tag_count:3,\n",
       " start:1708 stop:1718 text:commission tag_count:5,\n",
       " start:1720 stop:1728 text:eurostat tag_count:5,\n",
       " start:1737 stop:1743 text:report tag_count:4,\n",
       " start:1766 stop:1770 text:data tag_count:3,\n",
       " start:1851 stop:1857 text:within tag_count:5,\n",
       " start:1858 stop:1861 text:six tag_count:5,\n",
       " start:1862 stop:1868 text:months tag_count:5,\n",
       " start:1869 stop:1871 text:of tag_count:3,\n",
       " start:1872 stop:1879 text:receipt tag_count:3,\n",
       " start:1880 stop:1882 text:of tag_count:3,\n",
       " start:1883 stop:1884 text:a tag_count:3,\n",
       " start:1885 stop:1892 text:request tag_count:3,\n",
       " start:1893 stop:1897 text:from tag_count:3,\n",
       " start:1898 stop:1901 text:the tag_count:3,\n",
       " start:1902 stop:1912 text:commission tag_count:8,\n",
       " start:1913 stop:1914 text:( tag_count:6,\n",
       " start:1914 stop:1922 text:eurostat tag_count:8,\n",
       " start:1922 stop:1923 text:) tag_count:6,\n",
       " start:1851 stop:1857 text:within tag_count:5,\n",
       " start:1858 stop:1861 text:six tag_count:5,\n",
       " start:1862 stop:1868 text:months tag_count:5,\n",
       " start:1902 stop:1912 text:commission tag_count:8,\n",
       " start:1913 stop:1914 text:( tag_count:6,\n",
       " start:1914 stop:1922 text:eurostat tag_count:8,\n",
       " start:1922 stop:1923 text:) tag_count:6,\n",
       " start:1902 stop:1912 text:commission tag_count:8,\n",
       " start:1914 stop:1922 text:eurostat tag_count:8,\n",
       " start:1953 stop:1959 text:assess tag_count:2,\n",
       " start:1979 stop:1983 text:data tag_count:3,\n",
       " start:1997 stop:2003 text:member tag_count:4,\n",
       " start:2004 stop:2010 text:states tag_count:4,\n",
       " start:2029 stop:2039 text:commission tag_count:5,\n",
       " start:2040 stop:2041 text:( tag_count:3,\n",
       " start:2041 stop:2049 text:eurostat tag_count:5,\n",
       " start:2049 stop:2050 text:) tag_count:3,\n",
       " start:2029 stop:2039 text:commission tag_count:5,\n",
       " start:2041 stop:2049 text:eurostat tag_count:5,\n",
       " start:2053 stop:2059 text:report tag_count:4,\n",
       " start:11 stop:15 text:time tag_count:1,\n",
       " start:16 stop:25 text:reference tag_count:1,\n",
       " start:26 stop:29 text:and tag_count:1,\n",
       " start:30 stop:39 text:frequency tag_count:1,\n",
       " start:41 stop:47 text:member tag_count:4,\n",
       " start:48 stop:54 text:states tag_count:4,\n",
       " start:112 stop:115 text:the tag_count:3,\n",
       " start:116 stop:125 text:beginning tag_count:5,\n",
       " start:126 stop:128 text:of tag_count:5,\n",
       " start:129 stop:132 text:the tag_count:5,\n",
       " start:133 stop:141 text:calendar tag_count:5,\n",
       " start:142 stop:146 text:year tag_count:5,\n",
       " start:147 stop:156 text:following tag_count:3,\n",
       " start:157 stop:160 text:the tag_count:3,\n",
       " start:161 stop:169 text:adoption tag_count:3,\n",
       " start:170 stop:172 text:of tag_count:3,\n",
       " start:173 stop:177 text:this tag_count:3,\n",
       " start:178 stop:188 text:regulation tag_count:3,\n",
       " start:116 stop:125 text:beginning tag_count:5,\n",
       " start:126 stop:128 text:of tag_count:5,\n",
       " start:129 stop:132 text:the tag_count:5,\n",
       " start:133 stop:141 text:calendar tag_count:5,\n",
       " start:142 stop:146 text:year tag_count:5,\n",
       " start:241 stop:252 text:frequencies tag_count:2,\n",
       " start:95 stop:106 text:respondents tag_count:2,\n",
       " start:145 stop:151 text:member tag_count:4,\n",
       " start:152 stop:158 text:states tag_count:4,\n",
       " start:165 stop:172 text:compile tag_count:2,\n",
       " start:173 stop:177 text:data tag_count:4,\n",
       " start:233 stop:242 text:community tag_count:2,\n",
       " start:286 stop:297 text:statistical tag_count:3,\n",
       " start:298 stop:305 text:surveys tag_count:3,\n",
       " start:323 stop:330 text:primary tag_count:3,\n",
       " start:331 stop:334 text:and tag_count:3,\n",
       " start:335 stop:346 text:transformed tag_count:3,\n",
       " start:347 stop:353 text:energy tag_count:6,\n",
       " start:354 stop:363 text:producers tag_count:6,\n",
       " start:364 stop:367 text:and tag_count:4,\n",
       " start:368 stop:375 text:traders tag_count:6,\n",
       " start:375 stop:376 text:, tag_count:2,\n",
       " start:377 stop:389 text:distributors tag_count:7,\n",
       " start:390 stop:393 text:and tag_count:5,\n",
       " start:394 stop:406 text:transporters tag_count:7,\n",
       " start:406 stop:407 text:, tag_count:3,\n",
       " start:408 stop:417 text:importers tag_count:7,\n",
       " start:418 stop:421 text:and tag_count:5,\n",
       " start:422 stop:431 text:exporters tag_count:7,\n",
       " start:347 stop:353 text:energy tag_count:6,\n",
       " start:354 stop:363 text:producers tag_count:6,\n",
       " start:364 stop:367 text:and tag_count:4,\n",
       " start:368 stop:375 text:traders tag_count:6,\n",
       " start:354 stop:363 text:producers tag_count:6,\n",
       " start:368 stop:375 text:traders tag_count:6,\n",
       " start:377 stop:389 text:distributors tag_count:7,\n",
       " start:390 stop:393 text:and tag_count:5,\n",
       " start:394 stop:406 text:transporters tag_count:7,\n",
       " start:377 stop:389 text:distributors tag_count:7,\n",
       " start:394 stop:406 text:transporters tag_count:7,\n",
       " start:408 stop:417 text:importers tag_count:7,\n",
       " start:418 stop:421 text:and tag_count:5,\n",
       " start:422 stop:431 text:exporters tag_count:7,\n",
       " start:432 stop:434 text:of tag_count:4,\n",
       " start:435 stop:441 text:energy tag_count:7,\n",
       " start:442 stop:450 text:products tag_count:7,\n",
       " start:408 stop:417 text:importers tag_count:7,\n",
       " start:422 stop:431 text:exporters tag_count:7,\n",
       " start:534 stop:547 text:manufacturing tag_count:5,\n",
       " start:548 stop:556 text:industry tag_count:5,\n",
       " start:558 stop:567 text:transport tag_count:5,\n",
       " start:573 stop:578 text:other tag_count:4,\n",
       " start:579 stop:586 text:sectors tag_count:4,\n",
       " start:598 stop:608 text:households tag_count:5,\n",
       " start:622 stop:633 text:statistical tag_count:4,\n",
       " start:634 stop:644 text:estimation tag_count:4,\n",
       " start:645 stop:655 text:procedures tag_count:2,\n",
       " start:622 stop:633 text:statistical tag_count:4,\n",
       " start:634 stop:644 text:estimation tag_count:4,\n",
       " start:716 stop:726 text:regulators tag_count:4,\n",
       " start:727 stop:729 text:of tag_count:3,\n",
       " start:730 stop:733 text:the tag_count:3,\n",
       " start:734 stop:745 text:electricity tag_count:6,\n",
       " start:746 stop:749 text:and tag_count:4,\n",
       " start:750 stop:753 text:gas tag_count:6,\n",
       " start:754 stop:761 text:markets tag_count:4,\n",
       " start:734 stop:745 text:electricity tag_count:6,\n",
       " start:746 stop:749 text:and tag_count:4,\n",
       " start:750 stop:753 text:gas tag_count:6,\n",
       " start:754 stop:761 text:markets tag_count:4,\n",
       " start:769 stop:775 text:member tag_count:4,\n",
       " start:776 stop:782 text:states tag_count:4,\n",
       " start:832 stop:841 text:reporting tag_count:4,\n",
       " start:869 stop:877 text:national tag_count:4,\n",
       " start:878 stop:888 text:statistics tag_count:4,\n",
       " start:869 stop:877 text:national tag_count:4,\n",
       " start:878 stop:888 text:statistics tag_count:4,\n",
       " start:106 stop:115 text:community tag_count:2,\n",
       " start:116 stop:126 text:statistics tag_count:2,\n",
       " start:133 stop:142 text:community tag_count:2,\n",
       " start:143 stop:153 text:statistics tag_count:2,\n",
       " start:201 stop:211 text:regulation tag_count:4,\n",
       " start:212 stop:213 text:( tag_count:4,\n",
       " start:213 stop:215 text:ec tag_count:4,\n",
       " start:215 stop:216 text:) tag_count:4,\n",
       " start:217 stop:219 text:no tag_count:4,\n",
       " start:219 stop:220 text:  tag_count:4,\n",
       " start:220 stop:223 text:322 tag_count:4,\n",
       " start:223 stop:224 text:/ tag_count:4,\n",
       " start:224 stop:226 text:97 tag_count:4,\n",
       " start:249 stop:259 text:statistics tag_count:3,\n",
       " start:281 stop:291 text:statistics tag_count:3,\n",
       " start:340 stop:350 text:regulation tag_count:4,\n",
       " start:351 stop:352 text:( tag_count:4,\n",
       " start:352 stop:354 text:ec tag_count:4,\n",
       " start:354 stop:355 text:) tag_count:4,\n",
       " start:356 stop:358 text:no tag_count:4,\n",
       " start:358 stop:359 text:  tag_count:4,\n",
       " start:359 stop:362 text:322 tag_count:4,\n",
       " start:362 stop:363 text:/ tag_count:4,\n",
       " start:363 stop:365 text:97 tag_count:4,\n",
       " start:374 stop:384 text:commission tag_count:5,\n",
       " start:385 stop:386 text:( tag_count:3,\n",
       " start:386 stop:394 text:eurostat tag_count:5,\n",
       " start:394 stop:395 text:) tag_count:3,\n",
       " start:374 stop:384 text:commission tag_count:5,\n",
       " start:386 stop:394 text:eurostat tag_count:5,\n",
       " start:407 stop:416 text:community tag_count:4,\n",
       " start:417 stop:426 text:authority tag_count:4,\n",
       " start:475 stop:485 text:regulation tag_count:4,\n",
       " start:486 stop:487 text:( tag_count:4,\n",
       " start:487 stop:489 text:ec tag_count:4,\n",
       " start:489 stop:490 text:) tag_count:4,\n",
       " start:491 stop:493 text:no tag_count:4,\n",
       " start:493 stop:494 text:  tag_count:4,\n",
       " start:494 stop:497 text:322 tag_count:4,\n",
       " start:497 stop:498 text:/ tag_count:4,\n",
       " start:498 stop:500 text:97 tag_count:4,\n",
       " start:97 stop:107 text:production tag_count:3,\n",
       " start:107 stop:108 text:, tag_count:3,\n",
       " start:109 stop:121 text:transmission tag_count:3,\n",
       " start:121 stop:122 text:, tag_count:3,\n",
       " start:123 stop:133 text:evaluation tag_count:3,\n",
       " start:134 stop:137 text:and tag_count:3,\n",
       " start:138 stop:151 text:dissemination tag_count:3,\n",
       " start:152 stop:154 text:of tag_count:3,\n",
       " start:155 stop:165 text:comparable tag_count:5,\n",
       " start:166 stop:172 text:energy tag_count:9,\n",
       " start:173 stop:183 text:statistics tag_count:8,\n",
       " start:155 stop:165 text:comparable tag_count:5,\n",
       " start:166 stop:172 text:energy tag_count:9,\n",
       " start:173 stop:183 text:statistics tag_count:8,\n",
       " start:184 stop:186 text:in tag_count:2,\n",
       " start:187 stop:190 text:the tag_count:2,\n",
       " start:191 stop:200 text:community tag_count:6,\n",
       " start:166 stop:172 text:energy tag_count:9,\n",
       " start:173 stop:183 text:statistics tag_count:8,\n",
       " start:191 stop:200 text:community tag_count:6,\n",
       " start:191 stop:200 text:community tag_count:6,\n",
       " start:311 stop:320 text:community tag_count:4,\n",
       " start:311 stop:320 text:community tag_count:4]"
      ]
     },
     "execution_count": 103,
     "metadata": {},
     "output_type": "execute_result"
    }
   ],
   "source": [
    "test_corpus.get_tokens_from_span_list(item = 'layer', value = 'Policydesigncharacteristics', conditional_rep = test_dir)"
   ]
  },
  {
   "cell_type": "markdown",
   "metadata": {},
   "source": [
    "get_token_count_from_span_list returns the amount of tokens in the tag_list:"
   ]
  },
  {
   "cell_type": "code",
   "execution_count": 104,
   "metadata": {},
   "outputs": [
    {
     "data": {
      "text/plain": [
       "536"
      ]
     },
     "execution_count": 104,
     "metadata": {},
     "output_type": "execute_result"
    }
   ],
   "source": [
    "test_corpus.get_token_count_from_span_list(item = 'layer', value = 'Policydesigncharacteristics', conditional_rep = test_dir)"
   ]
  },
  {
   "cell_type": "markdown",
   "metadata": {},
   "source": [
    "most_frequent_labeled_tokens(self, conditional_rep, item, value) returns a dict of all the most frequent tokens of a span_list"
   ]
  },
  {
   "cell_type": "code",
   "execution_count": 105,
   "metadata": {},
   "outputs": [
    {
     "data": {
      "text/plain": [
       "{'statistics': 57,\n",
       " 'energy': 30,\n",
       " 'commission': 24,\n",
       " 'eurostat': 19,\n",
       " 'the': 16,\n",
       " '/': 15,\n",
       " 'national': 14,\n",
       " 'of': 13,\n",
       " 'and': 13,\n",
       " '(': 12,\n",
       " ')': 12,\n",
       " 'member': 12,\n",
       " 'community': 11,\n",
       " 'states': 11,\n",
       " 'ec': 9,\n",
       " 'data': 8,\n",
       " 'final': 7,\n",
       " 'consumption': 7,\n",
       " 'renewable': 6,\n",
       " 'annual': 6,\n",
       " 'nuclear': 6,\n",
       " 'decision': 6,\n",
       " 'european': 5,\n",
       " 'council': 4,\n",
       " 'reported': 4,\n",
       " 'following': 4,\n",
       " 'statistical': 4,\n",
       " 'monthly': 4,\n",
       " 'no': 4,\n",
       " '\\xa0': 4,\n",
       " 'regulation': 4,\n",
       " ',': 4,\n",
       " 'parliament': 3,\n",
       " 'treaty': 3,\n",
       " 'studies': 3,\n",
       " 'year': 3,\n",
       " '1999': 3,\n",
       " '468': 3,\n",
       " 'months': 3,\n",
       " 'for': 3,\n",
       " 'monitoring': 3,\n",
       " 'gas': 3,\n",
       " 'producers': 3,\n",
       " 'traders': 3,\n",
       " 'distributors': 3,\n",
       " 'transporters': 3,\n",
       " 'importers': 3,\n",
       " 'exporters': 3,\n",
       " '322': 3,\n",
       " '97': 3,\n",
       " 'quality': 2,\n",
       " 'pilot': 2,\n",
       " 'cost-benefit': 2,\n",
       " 'analyses': 2,\n",
       " 'from': 2,\n",
       " '2009': 2,\n",
       " 'period': 2,\n",
       " 'time': 2,\n",
       " 'committee': 2,\n",
       " 'reporting': 2,\n",
       " 'short-term': 2,\n",
       " '20th': 2,\n",
       " 'day': 2,\n",
       " 'its': 2,\n",
       " 'publication': 2,\n",
       " 'in': 2,\n",
       " '2005': 2,\n",
       " '166': 2,\n",
       " 'mechanism': 2,\n",
       " 'kyoto': 2,\n",
       " 'protocol': 2,\n",
       " 'users': 2,\n",
       " 'information': 2,\n",
       " 'date': 2,\n",
       " 'report': 2,\n",
       " 'within': 2,\n",
       " 'six': 2,\n",
       " 'beginning': 2,\n",
       " 'calendar': 2,\n",
       " 'estimation': 2,\n",
       " 'electricity': 2,\n",
       " 'markets': 2,\n",
       " 'comparable': 2,\n",
       " 'eea': 1,\n",
       " 'union': 1,\n",
       " 'establishing': 1,\n",
       " 'improving': 1,\n",
       " 'annually': 1,\n",
       " 'existing': 1,\n",
       " 'feasibility': 1,\n",
       " 'evaluating': 1,\n",
       " 'sector': 1,\n",
       " 'onwards': 1,\n",
       " 'limits': 1,\n",
       " 'state': 1,\n",
       " 'yearly': 1,\n",
       " '31': 1,\n",
       " 'january': 1,\n",
       " 'second': 1,\n",
       " 'programme': 1,\n",
       " 'three': 1,\n",
       " 'official': 1,\n",
       " 'journal': 1,\n",
       " 'assessment': 1,\n",
       " 'reports': 1,\n",
       " '280': 1,\n",
       " '2004': 1,\n",
       " 'greenhouse': 1,\n",
       " 'emissions': 1,\n",
       " 'implementing': 1,\n",
       " 'transmitted': 1,\n",
       " 'release': 1,\n",
       " 'target': 1,\n",
       " 'every': 1,\n",
       " 'five': 1,\n",
       " 'years': 1,\n",
       " 'receipt': 1,\n",
       " 'a': 1,\n",
       " 'request': 1,\n",
       " 'assess': 1,\n",
       " 'reference': 1,\n",
       " 'frequency': 1,\n",
       " 'adoption': 1,\n",
       " 'this': 1,\n",
       " 'frequencies': 1,\n",
       " 'respondents': 1,\n",
       " 'compile': 1,\n",
       " 'surveys': 1,\n",
       " 'primary': 1,\n",
       " 'transformed': 1,\n",
       " 'products': 1,\n",
       " 'manufacturing': 1,\n",
       " 'industry': 1,\n",
       " 'transport': 1,\n",
       " 'other': 1,\n",
       " 'sectors': 1,\n",
       " 'households': 1,\n",
       " 'procedures': 1,\n",
       " 'regulators': 1,\n",
       " 'authority': 1,\n",
       " 'production': 1,\n",
       " 'transmission': 1,\n",
       " 'evaluation': 1,\n",
       " 'dissemination': 1}"
      ]
     },
     "execution_count": 105,
     "metadata": {},
     "output_type": "execute_result"
    }
   ],
   "source": [
    "test_corpus.most_frequent_labeled_tokens(item = 'layer', value = 'Policydesigncharacteristics', conditional_rep = test_dir)"
   ]
  },
  {
   "cell_type": "markdown",
   "metadata": {},
   "source": [
    "get_label_count_per_token_distro(self, conditional_rep, return_format) returns a distribution of the tag_count for all the tokens in a conditional repository. This can be used to evaluate how many tokens have been labeled once, twice and so on. The distribution is returned in either list or dict."
   ]
  },
  {
   "cell_type": "code",
   "execution_count": 106,
   "metadata": {},
   "outputs": [
    {
     "data": {
      "text/plain": [
       "{0: 2484, 1: 385, 2: 138, 3: 100, 4: 161, 5: 75, 6: 21, 7: 12, 8: 5, 9: 1}"
      ]
     },
     "execution_count": 106,
     "metadata": {},
     "output_type": "execute_result"
    }
   ],
   "source": [
    "test_corpus.get_label_count_per_token_distro(conditional_rep = test_dir, return_format = 'dict')"
   ]
  },
  {
   "cell_type": "code",
   "execution_count": 107,
   "metadata": {},
   "outputs": [
    {
     "data": {
      "text/plain": [
       "[2484, 385, 138, 100, 161, 75, 21, 12, 5, 1]"
      ]
     },
     "execution_count": 107,
     "metadata": {},
     "output_type": "execute_result"
    }
   ],
   "source": [
    "test_corpus.get_label_count_per_token_distro(conditional_rep = test_dir, return_format = 'list')"
   ]
  },
  {
   "cell_type": "code",
   "execution_count": 108,
   "metadata": {},
   "outputs": [
    {
     "data": {
      "image/png": "[encoded data removed]",
      "text/plain": [
       "<Figure size 432x288 with 1 Axes>"
      ]
     },
     "metadata": {
      "needs_background": "light"
     },
     "output_type": "display_data"
    }
   ],
   "source": [
    "plt.plot(test_corpus.get_label_count_per_token_distro(conditional_rep = test_dir, return_format = 'list'))\n",
    "plt.show()"
   ]
  },
  {
   "cell_type": "markdown",
   "metadata": {},
   "source": [
    "## A few important examples"
   ]
  },
  {
   "cell_type": "markdown",
   "metadata": {},
   "source": [
    "Calculating all the # of paragraphs"
   ]
  },
  {
   "cell_type": "code",
   "execution_count": 109,
   "metadata": {},
   "outputs": [
    {
     "data": {
      "text/plain": [
       "448"
      ]
     },
     "execution_count": 109,
     "metadata": {},
     "output_type": "execute_result"
    }
   ],
   "source": [
    "len(stat_df)"
   ]
  },
  {
   "cell_type": "markdown",
   "metadata": {},
   "source": [
    "total number of tags in a specific column"
   ]
  },
  {
   "cell_type": "code",
   "execution_count": 110,
   "metadata": {},
   "outputs": [
    {
     "data": {
      "text/plain": [
       "20857"
      ]
     },
     "execution_count": 110,
     "metadata": {},
     "output_type": "execute_result"
    }
   ],
   "source": [
    "total_corpus_dir = repository()\n",
    "test_corpus.get_span_count(total_corpus_dir, columns = 'Curation')"
   ]
  },
  {
   "cell_type": "markdown",
   "metadata": {},
   "source": [
    "To test that this is true,this should be equal to the # of tags in the dataframe.\n",
    "First drop the error columns "
   ]
  },
  {
   "cell_type": "code",
   "execution_count": 111,
   "metadata": {},
   "outputs": [],
   "source": [
    "stat_df = stat_df.drop(stat_df[stat_df.Curation == 'error'].index)"
   ]
  },
  {
   "cell_type": "code",
   "execution_count": 112,
   "metadata": {},
   "outputs": [
    {
     "data": {
      "text/plain": [
       "20857"
      ]
     },
     "execution_count": 112,
     "metadata": {},
     "output_type": "execute_result"
    }
   ],
   "source": [
    "len(list(chain.from_iterable(stat_df['Curation'])))"
   ]
  },
  {
   "cell_type": "markdown",
   "metadata": {},
   "source": [
    "Annotated tokens to total tokens"
   ]
  },
  {
   "cell_type": "code",
   "execution_count": 113,
   "metadata": {},
   "outputs": [
    {
     "data": {
      "text/plain": [
       "263752"
      ]
     },
     "execution_count": 113,
     "metadata": {},
     "output_type": "execute_result"
    }
   ],
   "source": [
    "#Total:\n",
    "test_corpus.get_token_count_from_repository(total_corpus_dir)"
   ]
  },
  {
   "cell_type": "code",
   "execution_count": 114,
   "metadata": {},
   "outputs": [
    {
     "data": {
      "text/plain": [
       "62825"
      ]
     },
     "execution_count": 114,
     "metadata": {},
     "output_type": "execute_result"
    }
   ],
   "source": [
    "#annotated: (summing over all the tokens having a minimum one label)\n",
    "sum(test_corpus.get_label_count_per_token_distro(total_corpus_dir, 'list')[1:])"
   ]
  },
  {
   "cell_type": "markdown",
   "metadata": {},
   "source": [
    "# Statistics"
   ]
  },
  {
   "cell_type": "markdown",
   "metadata": {},
   "source": [
    "We are only interested in the curation and therfore subset the dataframe to exclude the annotation by the annotators."
   ]
  },
  {
   "cell_type": "code",
   "execution_count": 129,
   "metadata": {},
   "outputs": [],
   "source": [
    "stat_cur_df = stat_df.iloc[:,:6]\n",
    "stat_corpus = Corpus(stat_cur_df)"
   ]
  },
  {
   "cell_type": "markdown",
   "metadata": {},
   "source": [
    "## Basic statistics"
   ]
  },
  {
   "cell_type": "markdown",
   "metadata": {},
   "source": [
    "Full corpus representing the curated dataset:"
   ]
  },
  {
   "cell_type": "code",
   "execution_count": 130,
   "metadata": {},
   "outputs": [
    {
     "data": {
      "text/plain": [
       "policy:None title:None chapter:None section:None article:None sentence:None"
      ]
     },
     "execution_count": 130,
     "metadata": {},
     "output_type": "execute_result"
    }
   ],
   "source": [
    "total_corpus_dir = repository(policy = None, title = None, chapter = None, section = None, article = None)\n",
    "total_corpus_dir"
   ]
  },
  {
   "cell_type": "markdown",
   "metadata": {},
   "source": [
    "### Number of articles"
   ]
  },
  {
   "cell_type": "code",
   "execution_count": 131,
   "metadata": {},
   "outputs": [
    {
     "data": {
      "text/plain": [
       "448"
      ]
     },
     "execution_count": 131,
     "metadata": {},
     "output_type": "execute_result"
    }
   ],
   "source": [
    "len(stat_cur_df)"
   ]
  },
  {
   "cell_type": "markdown",
   "metadata": {},
   "source": [
    "The number of annotated articles:"
   ]
  },
  {
   "cell_type": "code",
   "execution_count": 132,
   "metadata": {},
   "outputs": [
    {
     "data": {
      "text/plain": [
       "430"
      ]
     },
     "execution_count": 132,
     "metadata": {},
     "output_type": "execute_result"
    }
   ],
   "source": [
    "# Assign the number of spans in each article to a new column\n",
    "stat_df['Curationlength'] = stat_df.apply(lambda x: len(x['Curation']), axis=1)\n",
    "# Count those where no annotations were made\n",
    "sum(stat_df['Curationlength']!=0)"
   ]
  },
  {
   "cell_type": "markdown",
   "metadata": {},
   "source": [
    "### Number of tokens in the full curated dataset (annotated + not annotated):\n",
    "\n",
    "Q: How are these three different? 1 and 3 seem like the annotated ones but are different, 2 seems the full corpus"
   ]
  },
  {
   "cell_type": "code",
   "execution_count": 133,
   "metadata": {
    "scrolled": true
   },
   "outputs": [
    {
     "data": {
      "text/plain": [
       "61914"
      ]
     },
     "execution_count": 133,
     "metadata": {},
     "output_type": "execute_result"
    }
   ],
   "source": [
    "stat_corpus.get_token_count_from_span_list(conditional_rep = total_corpus_dir)"
   ]
  },
  {
   "cell_type": "code",
   "execution_count": 134,
   "metadata": {},
   "outputs": [
    {
     "data": {
      "text/plain": [
       "263752"
      ]
     },
     "execution_count": 134,
     "metadata": {},
     "output_type": "execute_result"
    }
   ],
   "source": [
    "stat_corpus.get_token_count_from_repository(total_corpus_dir)"
   ]
  },
  {
   "cell_type": "code",
   "execution_count": 135,
   "metadata": {},
   "outputs": [
    {
     "data": {
      "text/plain": [
       "62825"
      ]
     },
     "execution_count": 135,
     "metadata": {},
     "output_type": "execute_result"
    }
   ],
   "source": [
    "#annotated: (summing over all the tokens having a minimum one label)\n",
    "sum(stat_corpus.get_label_count_per_token_distro(total_corpus_dir, 'list')[1:])"
   ]
  },
  {
   "cell_type": "code",
   "execution_count": 136,
   "metadata": {},
   "outputs": [
    {
     "data": {
      "text/plain": [
       "[12365, 14886, 25417, 5835, 2922, 918, 358, 94, 30]"
      ]
     },
     "execution_count": 136,
     "metadata": {},
     "output_type": "execute_result"
    }
   ],
   "source": [
    "stat_corpus.get_label_count_per_token_distro(total_corpus_dir, 'list')[1:]"
   ]
  },
  {
   "cell_type": "markdown",
   "metadata": {},
   "source": [
    "### Number of annotated spans:"
   ]
  },
  {
   "cell_type": "code",
   "execution_count": 137,
   "metadata": {},
   "outputs": [
    {
     "data": {
      "text/plain": [
       "20857"
      ]
     },
     "execution_count": 137,
     "metadata": {},
     "output_type": "execute_result"
    }
   ],
   "source": [
    "stat_corpus.get_span_count(total_corpus_dir)"
   ]
  },
  {
   "cell_type": "markdown",
   "metadata": {},
   "source": [
    "## Summary of annotations"
   ]
  },
  {
   "cell_type": "markdown",
   "metadata": {},
   "source": [
    "### Span length\n",
    "Distribution of the length of the spans in the curated set."
   ]
  },
  {
   "cell_type": "code",
   "execution_count": 154,
   "metadata": {},
   "outputs": [
    {
     "data": {
      "image/png": "[encoded data removed]",
      "text/plain": [
       "<Figure size 432x288 with 1 Axes>"
      ]
     },
     "metadata": {
      "needs_background": "light"
     },
     "output_type": "display_data"
    }
   ],
   "source": [
    "span_len_tokens = stat_corpus.get_span_distro(conditional_rep = total_corpus_dir, return_format = 'list', level = 'token')\n",
    "\n",
    "import matplotlib.pyplot as plt\n",
    "fig, ax = plt.subplots()\n",
    "ax.plot(span_len_tokens)\n",
    "ax.set_xlabel('Number of tokens')\n",
    "ax.set_ylabel('Count of spans')\n",
    "ax.set_yscale('log')\n",
    "plt.savefig('span_distribution_tokens.png', dpi=200)\n",
    "plt.show()"
   ]
  },
  {
   "cell_type": "markdown",
   "metadata": {},
   "source": [
    "Fraction of spans with 3 or less tokens:"
   ]
  },
  {
   "cell_type": "code",
   "execution_count": 139,
   "metadata": {},
   "outputs": [
    {
     "data": {
      "text/plain": [
       "0.8181818181818182"
      ]
     },
     "execution_count": 139,
     "metadata": {},
     "output_type": "execute_result"
    }
   ],
   "source": [
    "sum(span_len_tokens[:3])/sum(span_len_tokens) "
   ]
  },
  {
   "cell_type": "markdown",
   "metadata": {},
   "source": [
    "#### Looking at those long spans"
   ]
  },
  {
   "cell_type": "code",
   "execution_count": 155,
   "metadata": {},
   "outputs": [],
   "source": [
    "spanlist = stat_corpus.get_span_list(conditional_rep = total_corpus_dir)"
   ]
  },
  {
   "cell_type": "code",
   "execution_count": 156,
   "metadata": {},
   "outputs": [
    {
     "name": "stdout",
     "output_type": "stream",
     "text": [
      "annotator:Curation layer:Policydesigncharacteristics type:Reversibility tag:Reversibility_policy start:1630 stop:2099 text:a delegated act adopted pursuant to article 3(5), article 15(5), article 26(6), article 37(7) and article 40(4) shall enter into force only if no objection has been expressed either by the european parliament or the council within a period of two months of notification of that act to the european parliament and to the council or if, before the expiry of that period, the european parliament and the council have both informed the commission that they will not object.\n",
      "\n"
     ]
    }
   ],
   "source": [
    "# Making a dataframe that can be sorted by the number of characters in the info string\n",
    "entrylen = [len(str(x)) for x in spanlist]\n",
    "spanlen = pd.DataFrame(data = {\"entrylen\": entrylen, \"spanlist\": spanlist})\n",
    "spanlen = spanlen.sort_values(by = \"entrylen\", ascending=False)\n",
    "print(str(spanlen.iloc[0,1]))"
   ]
  },
  {
   "cell_type": "code",
   "execution_count": 157,
   "metadata": {},
   "outputs": [
    {
     "data": {
      "text/plain": [
       "{13: 1652,\n",
       " 10: 1565,\n",
       " 12: 1143,\n",
       " 8: 1070,\n",
       " 7: 902,\n",
       " 6: 870,\n",
       " 9: 865,\n",
       " 11: 861,\n",
       " 20: 805,\n",
       " 19: 715,\n",
       " 16: 617,\n",
       " 17: 603,\n",
       " 14: 570,\n",
       " 29: 559,\n",
       " 15: 546,\n",
       " 18: 462,\n",
       " 24: 448,\n",
       " 4: 444,\n",
       " 21: 421,\n",
       " 28: 420,\n",
       " 25: 359,\n",
       " 22: 315,\n",
       " 5: 291,\n",
       " 26: 285,\n",
       " 23: 285,\n",
       " 27: 283,\n",
       " 33: 193,\n",
       " 30: 187,\n",
       " 31: 166,\n",
       " 34: 140,\n",
       " 38: 137,\n",
       " 35: 135,\n",
       " 32: 131,\n",
       " 44: 110,\n",
       " 36: 109,\n",
       " 43: 109,\n",
       " 3: 104,\n",
       " 37: 94,\n",
       " 40: 84,\n",
       " 39: 83,\n",
       " 41: 81,\n",
       " 45: 78,\n",
       " 42: 76,\n",
       " 50: 76,\n",
       " 47: 69,\n",
       " 48: 60,\n",
       " 46: 54,\n",
       " 49: 54,\n",
       " 54: 51,\n",
       " 53: 42,\n",
       " 58: 39,\n",
       " 52: 37,\n",
       " 51: 36,\n",
       " 55: 36,\n",
       " 67: 35,\n",
       " 59: 33,\n",
       " 60: 30,\n",
       " 56: 29,\n",
       " 63: 26,\n",
       " 57: 26,\n",
       " 68: 24,\n",
       " 62: 23,\n",
       " 64: 22,\n",
       " 66: 22,\n",
       " 61: 20,\n",
       " 70: 18,\n",
       " 72: 17,\n",
       " 71: 16,\n",
       " 65: 16,\n",
       " 73: 16,\n",
       " 80: 15,\n",
       " 69: 15,\n",
       " 83: 14,\n",
       " 75: 14,\n",
       " 77: 14,\n",
       " 74: 14,\n",
       " 82: 13,\n",
       " 79: 13,\n",
       " 86: 12,\n",
       " 87: 12,\n",
       " 88: 12,\n",
       " 78: 11,\n",
       " 93: 10,\n",
       " 76: 10,\n",
       " 95: 10,\n",
       " 99: 9,\n",
       " 89: 9,\n",
       " 90: 9,\n",
       " 85: 9,\n",
       " 81: 8,\n",
       " 91: 8,\n",
       " 96: 8,\n",
       " 92: 8,\n",
       " 102: 7,\n",
       " 121: 6,\n",
       " 97: 6,\n",
       " 98: 6,\n",
       " 113: 6,\n",
       " 94: 6,\n",
       " 129: 6,\n",
       " 128: 6,\n",
       " 141: 6,\n",
       " 118: 6,\n",
       " 84: 6,\n",
       " 127: 5,\n",
       " 115: 5,\n",
       " 107: 5,\n",
       " 114: 5,\n",
       " 163: 5,\n",
       " 106: 5,\n",
       " 105: 5,\n",
       " 112: 5,\n",
       " 124: 5,\n",
       " 144: 5,\n",
       " 2: 5,\n",
       " 136: 4,\n",
       " 142: 4,\n",
       " 122: 4,\n",
       " 145: 4,\n",
       " 171: 4,\n",
       " 120: 4,\n",
       " 126: 4,\n",
       " 148: 4,\n",
       " 123: 4,\n",
       " 196: 3,\n",
       " 175: 3,\n",
       " 160: 3,\n",
       " 100: 3,\n",
       " 187: 3,\n",
       " 116: 3,\n",
       " 119: 3,\n",
       " 108: 3,\n",
       " 109: 3,\n",
       " 104: 3,\n",
       " 131: 3,\n",
       " 178: 3,\n",
       " 101: 3,\n",
       " 103: 3,\n",
       " 156: 3,\n",
       " 154: 3,\n",
       " 223: 2,\n",
       " 137: 2,\n",
       " 111: 2,\n",
       " 147: 2,\n",
       " 164: 2,\n",
       " 179: 2,\n",
       " 151: 2,\n",
       " 125: 2,\n",
       " 220: 2,\n",
       " 170: 2,\n",
       " 166: 2,\n",
       " 133: 2,\n",
       " 172: 2,\n",
       " 139: 2,\n",
       " 243: 2,\n",
       " 248: 2,\n",
       " 134: 2,\n",
       " 110: 2,\n",
       " 181: 2,\n",
       " 159: 2,\n",
       " 140: 2,\n",
       " 186: 2,\n",
       " 167: 2,\n",
       " 138: 2,\n",
       " 245: 1,\n",
       " 225: 1,\n",
       " 117: 1,\n",
       " 162: 1,\n",
       " 334: 1,\n",
       " 155: 1,\n",
       " 194: 1,\n",
       " 198: 1,\n",
       " 195: 1,\n",
       " 297: 1,\n",
       " 199: 1,\n",
       " 177: 1,\n",
       " 279: 1,\n",
       " 240: 1,\n",
       " 165: 1,\n",
       " 263: 1,\n",
       " 169: 1,\n",
       " 158: 1,\n",
       " 202: 1,\n",
       " 390: 1,\n",
       " 135: 1,\n",
       " 216: 1,\n",
       " 341: 1,\n",
       " 176: 1,\n",
       " 244: 1,\n",
       " 266: 1,\n",
       " 168: 1,\n",
       " 210: 1,\n",
       " 469: 1,\n",
       " 161: 1,\n",
       " 211: 1,\n",
       " 227: 1,\n",
       " 313: 1,\n",
       " 283: 1,\n",
       " 184: 1,\n",
       " 355: 1,\n",
       " 278: 1,\n",
       " 219: 1,\n",
       " 149: 1,\n",
       " 130: 1,\n",
       " 197: 1,\n",
       " 237: 1,\n",
       " 143: 1,\n",
       " 273: 1,\n",
       " 174: 1,\n",
       " 150: 1}"
      ]
     },
     "execution_count": 157,
     "metadata": {},
     "output_type": "execute_result"
    }
   ],
   "source": [
    "stat_corpus.get_span_distro(conditional_rep = total_corpus_dir, return_format = 'dict', level = 'character')"
   ]
  },
  {
   "cell_type": "markdown",
   "metadata": {},
   "source": [
    "It seems like the largest span matches the one we found above in terms of \\# of characters (469) but not in the number of tokens. This is supposed to be 104 but if we paste it into a word-counter we get around 70."
   ]
  },
  {
   "cell_type": "code",
   "execution_count": 158,
   "metadata": {},
   "outputs": [
    {
     "data": {
      "image/png": "[encoded data removed]",
      "text/plain": [
       "<Figure size 432x288 with 1 Axes>"
      ]
     },
     "metadata": {
      "needs_background": "light"
     },
     "output_type": "display_data"
    }
   ],
   "source": [
    "fig, ax = plt.subplots()\n",
    "ax.plot(stat_corpus.get_span_distro(conditional_rep = total_corpus_dir, return_format = 'list', level = 'character'))\n",
    "ax.set_xlabel('Number of characters')\n",
    "ax.set_ylabel('Count of spans')\n",
    "ax.set_yscale('log')\n",
    "plt.savefig('span_distribution_char.png', dpi=200)\n",
    "plt.show()"
   ]
  },
  {
   "cell_type": "markdown",
   "metadata": {},
   "source": [
    "### Counts of annotations "
   ]
  },
  {
   "cell_type": "markdown",
   "metadata": {},
   "source": [
    "#### Number of annotations per layer"
   ]
  },
  {
   "cell_type": "code",
   "execution_count": 162,
   "metadata": {},
   "outputs": [],
   "source": [
    "n_instr = stat_corpus.get_span_count(item = 'layer',value = 'Instrumenttypes', conditional_rep = total_corpus_dir)"
   ]
  },
  {
   "cell_type": "code",
   "execution_count": 163,
   "metadata": {},
   "outputs": [],
   "source": [
    "n_pdc = stat_corpus.get_span_count(item = 'layer',value = 'Policydesigncharacteristics', conditional_rep = total_corpus_dir)"
   ]
  },
  {
   "cell_type": "code",
   "execution_count": 164,
   "metadata": {},
   "outputs": [],
   "source": [
    "n_techspec = stat_corpus.get_span_count(item = 'layer',value = 'Technologyandapplicationspecificity', conditional_rep = total_corpus_dir)"
   ]
  },
  {
   "cell_type": "code",
   "execution_count": 165,
   "metadata": {},
   "outputs": [],
   "source": [
    "n_instr1 = stat_corpus.get_span_count(item = 'tag',value = 'VoluntaryAgrmt', conditional_rep = total_corpus_dir)\n",
    "n_instr2 = stat_corpus.get_span_count(item = 'tag',value = 'FrameworkPolicy', conditional_rep = total_corpus_dir)\n",
    "n_instr3 = stat_corpus.get_span_count(item = 'tag',value = 'TradablePermit', conditional_rep = total_corpus_dir)\n",
    "n_instr4 = stat_corpus.get_span_count(item = 'tag',value = 'RegulatoryInstr', conditional_rep = total_corpus_dir)\n",
    "n_instr5 = stat_corpus.get_span_count(item = 'tag',value = 'TaxIncentives', conditional_rep = total_corpus_dir)\n",
    "n_instr6 = stat_corpus.get_span_count(item = 'tag',value = 'Subsidies_Incentives', conditional_rep = total_corpus_dir)\n",
    "n_instr7 = stat_corpus.get_span_count(item = 'tag',value = 'RD_D', conditional_rep = total_corpus_dir)\n",
    "n_instr8 = stat_corpus.get_span_count(item = 'tag',value = 'PublicInvt', conditional_rep = total_corpus_dir)\n",
    "n_instr9 = stat_corpus.get_span_count(item = 'tag',value = 'Edu_Outreach', conditional_rep = total_corpus_dir)\n",
    "n_instr10 = stat_corpus.get_span_count(item = 'tag',value = 'Unspecified', conditional_rep = total_corpus_dir)"
   ]
  },
  {
   "cell_type": "code",
   "execution_count": 166,
   "metadata": {},
   "outputs": [],
   "source": [
    "n_pdc1 = stat_corpus.get_span_count(item = 'type',value = 'Actor', conditional_rep = total_corpus_dir)\n",
    "n_pdc2 = stat_corpus.get_span_count(item = 'type',value = 'Compliance', conditional_rep = total_corpus_dir)\n",
    "n_pdc3 = stat_corpus.get_span_count(item = 'type',value = 'Reference', conditional_rep = total_corpus_dir)\n",
    "n_pdc4 = stat_corpus.get_span_count(item = 'type',value = 'Objective', conditional_rep = total_corpus_dir)\n",
    "n_pdc5 = stat_corpus.get_span_count(item = 'type',value = 'Resource', conditional_rep = total_corpus_dir)\n",
    "n_pdc6 = stat_corpus.get_span_count(item = 'type',value = 'Reversibility', conditional_rep = total_corpus_dir)\n",
    "n_pdc7 = stat_corpus.get_span_count(item = 'type',value = 'Time', conditional_rep = total_corpus_dir)"
   ]
  },
  {
   "cell_type": "code",
   "execution_count": 234,
   "metadata": {},
   "outputs": [],
   "source": [
    "n_pdc11 = stat_corpus.get_span_count(item = 'tag',value = 'Authority_default', conditional_rep = total_corpus_dir)\n",
    "n_pdc12 = stat_corpus.get_span_count(item = 'tag',value = 'Authority_legislative', conditional_rep = total_corpus_dir)\n",
    "n_pdc13 = stat_corpus.get_span_count(item = 'tag',value = 'Authority_established', conditional_rep = total_corpus_dir)\n",
    "n_pdc14 = stat_corpus.get_span_count(item = 'tag',value = 'Authority_monitoring', conditional_rep = total_corpus_dir)\n",
    "n_pdc15 = stat_corpus.get_span_count(item = 'tag',value = 'Addressee_default', conditional_rep = total_corpus_dir)\n",
    "n_pdc16 = stat_corpus.get_span_count(item = 'tag',value = 'Addressee_resource', conditional_rep = total_corpus_dir)\n",
    "n_pdc17 = stat_corpus.get_span_count(item = 'tag',value = 'Addressee_monitored', conditional_rep = total_corpus_dir)\n",
    "n_pdc18 = stat_corpus.get_span_count(item = 'tag',value = 'Addressee_sector', conditional_rep = total_corpus_dir)\n",
    "##\n",
    "n_pdc21 = stat_corpus.get_span_count(item = 'tag',value = 'Form_sanctioning', conditional_rep = total_corpus_dir)\n",
    "n_pdc22 = stat_corpus.get_span_count(item = 'tag',value = 'Form_monitoring', conditional_rep = total_corpus_dir)\n",
    "##\n",
    "n_pdc31 = stat_corpus.get_span_count(item = 'tag',value = 'Ref_OtherPolicy', conditional_rep = total_corpus_dir)\n",
    "n_pdc32 = stat_corpus.get_span_count(item = 'tag',value = 'Ref_PolicyAmended', conditional_rep = total_corpus_dir)\n",
    "n_pdc33 = stat_corpus.get_span_count(item = 'tag',value = 'Ref_Strategy_Agreement', conditional_rep = total_corpus_dir)\n",
    "##\n",
    "n_pdc41 = stat_corpus.get_span_count(item = 'tag',value = 'Objective_QuantTarget', conditional_rep = total_corpus_dir)\n",
    "n_pdc42 = stat_corpus.get_span_count(item = 'tag',value = 'Objective_QualIntention', conditional_rep = total_corpus_dir)\n",
    "n_pdc43 = stat_corpus.get_span_count(item = 'tag',value = 'Objective_QuantTarget_noCCM', conditional_rep = total_corpus_dir)\n",
    "n_pdc44 = stat_corpus.get_span_count(item = 'tag',value = 'Objective_QualIntention_noCCM', conditional_rep = total_corpus_dir)\n",
    "##\n",
    "n_pdc51 = stat_corpus.get_span_count(item = 'tag',value = 'Resource_MonSpending', conditional_rep = total_corpus_dir)\n",
    "n_pdc52 = stat_corpus.get_span_count(item = 'tag',value = 'Resource_MonRevenues', conditional_rep = total_corpus_dir)\n",
    "n_pdc53 = stat_corpus.get_span_count(item = 'tag',value = 'Resource_other', conditional_rep = total_corpus_dir)\n",
    "##\n",
    "n_pdc61 = stat_corpus.get_span_count(item = 'tag',value = '', conditional_rep = total_corpus_dir)\n",
    "##\n",
    "n_pdc71 = stat_corpus.get_span_count(item = 'tag',value = 'Time_PolDuration', conditional_rep = total_corpus_dir)\n",
    "n_pdc72 = stat_corpus.get_span_count(item = 'tag',value = 'Time_Monitoring', conditional_rep = total_corpus_dir)\n",
    "n_pdc73 = stat_corpus.get_span_count(item = 'tag',value = 'Time_Resources', conditional_rep = total_corpus_dir)\n",
    "n_pdc74 = stat_corpus.get_span_count(item = 'tag',value = 'Time_Compliance', conditional_rep = total_corpus_dir)\n",
    "n_pdc75 = stat_corpus.get_span_count(item = 'tag',value = 'Time_InEffect', conditional_rep = total_corpus_dir)"
   ]
  },
  {
   "cell_type": "code",
   "execution_count": 167,
   "metadata": {},
   "outputs": [],
   "source": [
    "n_techspec1 = stat_corpus.get_span_count(item = 'type',value = 'TechnologySpecificity', conditional_rep = total_corpus_dir)\n",
    "n_techspec2 = stat_corpus.get_span_count(item = 'type',value = 'EnergySpecificity', conditional_rep = total_corpus_dir)\n",
    "n_techspec3 = stat_corpus.get_span_count(item = 'type',value = 'ApplicationSpecificity', conditional_rep = total_corpus_dir)"
   ]
  },
  {
   "cell_type": "code",
   "execution_count": 222,
   "metadata": {},
   "outputs": [],
   "source": [
    "n_techspec11 = stat_corpus.get_span_count(item = 'tag',value = 'Tech_LowCarbon', conditional_rep = total_corpus_dir)\n",
    "n_techspec12 = stat_corpus.get_span_count(item = 'tag',value = 'Tech_Other', conditional_rep = total_corpus_dir)\n",
    "##\n",
    "n_techspec21 = stat_corpus.get_span_count(item = 'tag',value = 'Energy_LowCarbon', conditional_rep = total_corpus_dir)\n",
    "n_techspec22 = stat_corpus.get_span_count(item = 'tag',value = 'Energy_Other', conditional_rep = total_corpus_dir)\n",
    "##\n",
    "n_techspec31 = stat_corpus.get_span_count(item = 'tag',value = 'App_LowCarbon', conditional_rep = total_corpus_dir)\n",
    "n_techspec32 = stat_corpus.get_span_count(item = 'tag',value = 'App_Other', conditional_rep = total_corpus_dir)"
   ]
  },
  {
   "cell_type": "code",
   "execution_count": 217,
   "metadata": {},
   "outputs": [],
   "source": [
    "# Data frame for the hierarchical visualization\n",
    "n = n_instr+n_pdc+n_techspec\n",
    "coding_scheme = [\"Instrument types\", \"Policy design characteristics\", \"Technology and application specificity\", \n",
    "                 'Voluntary agreement', \"Framework policy\", \"Tradable permit\", \"Regulatory instrument\", \"Tax incentives\",\n",
    "                 \"Subsidies and direct incentives\", \"RD&D\", \"Public Investment\", \"Education and outreach\", \"Unspecified\",\n",
    "                \"Actor\", \"Compliance\", 'Links to other policies', 'Objective', 'Resource', 'Reversibility', 'Time',\n",
    "                'Technology specificity','Energy specificity', 'Application specificity']\n",
    "df = pd.DataFrame(data = {\"Item and Group\": coding_scheme, \n",
    "                          \"Weight\": [n_instr/n, n_pdc/n, n_techspec/n,\n",
    "                                     n_instr1, n_instr2, n_instr3, n_instr4, \n",
    "                                     n_instr5, n_instr6, n_instr7, n_instr8, n_instr9, n_instr10,\n",
    "                                     n_pdc1, n_pdc2, n_pdc3, n_pdc4, n_pdc5, n_pdc6, n_pdc7,\n",
    "                                    n_techspec1, n_techspec2, n_techspec3], \n",
    "                          \"Parent\":[\"\", \"\", \"\",\n",
    "                                    \"Instrument types\", \"Instrument types\",\"Instrument types\",\"Instrument types\",\n",
    "                                    \"Instrument types\",\"Instrument types\",\"Instrument types\",\"Instrument types\",\n",
    "                                    \"Instrument types\",\"Instrument types\",\n",
    "                                    \"Policy design characteristics\", \"Policy design characteristics\",\n",
    "                                    \"Policy design characteristics\", \"Policy design characteristics\", \n",
    "                                    \"Policy design characteristics\", \"Policy design characteristics\", \n",
    "                                    \"Policy design characteristics\",\n",
    "                                   \"Technology and application specificity\", \"Technology and application specificity\", \n",
    "                                    \"Technology and application specificity\"]})\n"
   ]
  },
  {
   "cell_type": "markdown",
   "metadata": {},
   "source": [
    "#### Sunburst plot of the first two levels of the hierarchy"
   ]
  },
  {
   "cell_type": "code",
   "execution_count": 218,
   "metadata": {},
   "outputs": [
    {
     "name": "stderr",
     "output_type": "stream",
     "text": [
      "/Users/l.kaack/miniconda3/envs/policycoding/lib/python3.9/site-packages/plotly/express/_core.py:1637: FutureWarning:\n",
      "\n",
      "The frame.append method is deprecated and will be removed from pandas in a future version. Use pandas.concat instead.\n",
      "\n",
      "/Users/l.kaack/miniconda3/envs/policycoding/lib/python3.9/site-packages/plotly/express/_core.py:1637: FutureWarning:\n",
      "\n",
      "The frame.append method is deprecated and will be removed from pandas in a future version. Use pandas.concat instead.\n",
      "\n"
     ]
    },
    {
     "data": {
      "application/vnd.plotly.v1+json": {
       "config": {
        "plotlyServerURL": "https://plot.ly"
       },
       "data": [
        {
         "branchvalues": "total",
         "customdata": [
          [
           "Policy design characteristics"
          ],
          [
           "Technology and application specificity"
          ],
          [
           "Policy design characteristics"
          ],
          [
           "Instrument types"
          ],
          [
           "Instrument types"
          ],
          [
           ""
          ],
          [
           "Policy design characteristics"
          ],
          [
           "Instrument types"
          ],
          [
           ""
          ],
          [
           "Instrument types"
          ],
          [
           "Technology and application specificity"
          ],
          [
           "Instrument types"
          ],
          [
           "Policy design characteristics"
          ],
          [
           "Policy design characteristics"
          ],
          [
           "Policy design characteristics"
          ],
          [
           "Instrument types"
          ],
          [
           "Instrument types"
          ],
          [
           ""
          ],
          [
           "Technology and application specificity"
          ],
          [
           "Policy design characteristics"
          ],
          [
           "Instrument types"
          ],
          [
           "Instrument types"
          ],
          [
           "Instrument types"
          ],
          [
           ""
          ],
          [
           "Instrument types"
          ],
          [
           "Policy design characteristics"
          ],
          [
           "Technology and application specificity"
          ]
         ],
         "domain": {
          "x": [
           0,
           1
          ],
          "y": [
           0,
           1
          ]
         },
         "hovertemplate": "labels=%{label}<br>Weight=%{value}<br>parent=%{parent}<br>id=%{id}<br>Parent=%{customdata[0]}<extra></extra>",
         "ids": [
          "Policy design characteristics/Actor",
          "Technology and application specificity/Application specificity",
          "Policy design characteristics/Compliance",
          "Instrument types/Regulatory instrument",
          "Instrument types/Public Investment",
          "/Policy design characteristics",
          "Policy design characteristics/Objective",
          "Instrument types/RD&D",
          "/Instrument types",
          "Instrument types/Framework policy",
          "Technology and application specificity/Energy specificity",
          "Instrument types/Education and outreach",
          "Policy design characteristics/Links to other policies",
          "Policy design characteristics/Resource",
          "Policy design characteristics/Reversibility",
          "Instrument types/Subsidies and direct incentives",
          "Instrument types/Tax incentives",
          "/Technology and application specificity",
          "Technology and application specificity/Technology specificity",
          "Policy design characteristics/Time",
          "Instrument types/Unspecified",
          "Instrument types/Tradable permit",
          "Instrument types/Voluntary agreement",
          "",
          "Instrument types",
          "Policy design characteristics",
          "Technology and application specificity"
         ],
         "labels": [
          "Actor",
          "Application specificity",
          "Compliance",
          "Regulatory instrument",
          "Public Investment",
          "Policy design characteristics",
          "Objective",
          "RD&D",
          "Instrument types",
          "Framework policy",
          "Energy specificity",
          "Education and outreach",
          "Links to other policies",
          "Resource",
          "Reversibility",
          "Subsidies and direct incentives",
          "Tax incentives",
          "Technology and application specificity",
          "Technology specificity",
          "Time",
          "Unspecified",
          "Tradable permit",
          "Voluntary agreement",
          "",
          "Instrument types",
          "Policy design characteristics",
          "Technology and application specificity"
         ],
         "marker": {
          "colors": [
           "#636efa",
           "#EF553B",
           "#636efa",
           "#00cc96",
           "#00cc96",
           "#ab63fa",
           "#636efa",
           "#00cc96",
           "#ab63fa",
           "#00cc96",
           "#EF553B",
           "#00cc96",
           "#636efa",
           "#636efa",
           "#636efa",
           "#00cc96",
           "#00cc96",
           "#ab63fa",
           "#EF553B",
           "#636efa",
           "#00cc96",
           "#00cc96",
           "#00cc96",
           "#ab63fa",
           "#00cc96",
           "#636efa",
           "#EF553B"
          ]
         },
         "name": "",
         "parents": [
          "Policy design characteristics",
          "Technology and application specificity",
          "Policy design characteristics",
          "Instrument types",
          "Instrument types",
          "",
          "Policy design characteristics",
          "Instrument types",
          "",
          "Instrument types",
          "Technology and application specificity",
          "Instrument types",
          "Policy design characteristics",
          "Policy design characteristics",
          "Policy design characteristics",
          "Instrument types",
          "Instrument types",
          "",
          "Technology and application specificity",
          "Policy design characteristics",
          "Instrument types",
          "Instrument types",
          "Instrument types",
          "",
          "",
          "",
          ""
         ],
         "type": "sunburst",
         "values": [
          6021,
          1550,
          1829,
          1231,
          98,
          0.5456681210145276,
          992,
          12,
          0.16718607661696314,
          318,
          1908,
          329,
          1181,
          512,
          40,
          102,
          78,
          0.2871458023685094,
          2526,
          798,
          1100,
          146,
          72,
          1,
          3486,
          11373,
          5984
         ]
        }
       ],
       "layout": {
        "legend": {
         "tracegroupgap": 0
        },
        "margin": {
         "t": 60
        },
        "template": {
         "data": {
          "bar": [
           {
            "error_x": {
             "color": "#2a3f5f"
            },
            "error_y": {
             "color": "#2a3f5f"
            },
            "marker": {
             "line": {
              "color": "#E5ECF6",
              "width": 0.5
             },
             "pattern": {
              "fillmode": "overlay",
              "size": 10,
              "solidity": 0.2
             }
            },
            "type": "bar"
           }
          ],
          "barpolar": [
           {
            "marker": {
             "line": {
              "color": "#E5ECF6",
              "width": 0.5
             },
             "pattern": {
              "fillmode": "overlay",
              "size": 10,
              "solidity": 0.2
             }
            },
            "type": "barpolar"
           }
          ],
          "carpet": [
           {
            "aaxis": {
             "endlinecolor": "#2a3f5f",
             "gridcolor": "white",
             "linecolor": "white",
             "minorgridcolor": "white",
             "startlinecolor": "#2a3f5f"
            },
            "baxis": {
             "endlinecolor": "#2a3f5f",
             "gridcolor": "white",
             "linecolor": "white",
             "minorgridcolor": "white",
             "startlinecolor": "#2a3f5f"
            },
            "type": "carpet"
           }
          ],
          "choropleth": [
           {
            "colorbar": {
             "outlinewidth": 0,
             "ticks": ""
            },
            "type": "choropleth"
           }
          ],
          "contour": [
           {
            "colorbar": {
             "outlinewidth": 0,
             "ticks": ""
            },
            "colorscale": [
             [
              0,
              "#0d0887"
             ],
             [
              0.1111111111111111,
              "#46039f"
             ],
             [
              0.2222222222222222,
              "#7201a8"
             ],
             [
              0.3333333333333333,
              "#9c179e"
             ],
             [
              0.4444444444444444,
              "#bd3786"
             ],
             [
              0.5555555555555556,
              "#d8576b"
             ],
             [
              0.6666666666666666,
              "#ed7953"
             ],
             [
              0.7777777777777778,
              "#fb9f3a"
             ],
             [
              0.8888888888888888,
              "#fdca26"
             ],
             [
              1,
              "#f0f921"
             ]
            ],
            "type": "contour"
           }
          ],
          "contourcarpet": [
           {
            "colorbar": {
             "outlinewidth": 0,
             "ticks": ""
            },
            "type": "contourcarpet"
           }
          ],
          "heatmap": [
           {
            "colorbar": {
             "outlinewidth": 0,
             "ticks": ""
            },
            "colorscale": [
             [
              0,
              "#0d0887"
             ],
             [
              0.1111111111111111,
              "#46039f"
             ],
             [
              0.2222222222222222,
              "#7201a8"
             ],
             [
              0.3333333333333333,
              "#9c179e"
             ],
             [
              0.4444444444444444,
              "#bd3786"
             ],
             [
              0.5555555555555556,
              "#d8576b"
             ],
             [
              0.6666666666666666,
              "#ed7953"
             ],
             [
              0.7777777777777778,
              "#fb9f3a"
             ],
             [
              0.8888888888888888,
              "#fdca26"
             ],
             [
              1,
              "#f0f921"
             ]
            ],
            "type": "heatmap"
           }
          ],
          "heatmapgl": [
           {
            "colorbar": {
             "outlinewidth": 0,
             "ticks": ""
            },
            "colorscale": [
             [
              0,
              "#0d0887"
             ],
             [
              0.1111111111111111,
              "#46039f"
             ],
             [
              0.2222222222222222,
              "#7201a8"
             ],
             [
              0.3333333333333333,
              "#9c179e"
             ],
             [
              0.4444444444444444,
              "#bd3786"
             ],
             [
              0.5555555555555556,
              "#d8576b"
             ],
             [
              0.6666666666666666,
              "#ed7953"
             ],
             [
              0.7777777777777778,
              "#fb9f3a"
             ],
             [
              0.8888888888888888,
              "#fdca26"
             ],
             [
              1,
              "#f0f921"
             ]
            ],
            "type": "heatmapgl"
           }
          ],
          "histogram": [
           {
            "marker": {
             "pattern": {
              "fillmode": "overlay",
              "size": 10,
              "solidity": 0.2
             }
            },
            "type": "histogram"
           }
          ],
          "histogram2d": [
           {
            "colorbar": {
             "outlinewidth": 0,
             "ticks": ""
            },
            "colorscale": [
             [
              0,
              "#0d0887"
             ],
             [
              0.1111111111111111,
              "#46039f"
             ],
             [
              0.2222222222222222,
              "#7201a8"
             ],
             [
              0.3333333333333333,
              "#9c179e"
             ],
             [
              0.4444444444444444,
              "#bd3786"
             ],
             [
              0.5555555555555556,
              "#d8576b"
             ],
             [
              0.6666666666666666,
              "#ed7953"
             ],
             [
              0.7777777777777778,
              "#fb9f3a"
             ],
             [
              0.8888888888888888,
              "#fdca26"
             ],
             [
              1,
              "#f0f921"
             ]
            ],
            "type": "histogram2d"
           }
          ],
          "histogram2dcontour": [
           {
            "colorbar": {
             "outlinewidth": 0,
             "ticks": ""
            },
            "colorscale": [
             [
              0,
              "#0d0887"
             ],
             [
              0.1111111111111111,
              "#46039f"
             ],
             [
              0.2222222222222222,
              "#7201a8"
             ],
             [
              0.3333333333333333,
              "#9c179e"
             ],
             [
              0.4444444444444444,
              "#bd3786"
             ],
             [
              0.5555555555555556,
              "#d8576b"
             ],
             [
              0.6666666666666666,
              "#ed7953"
             ],
             [
              0.7777777777777778,
              "#fb9f3a"
             ],
             [
              0.8888888888888888,
              "#fdca26"
             ],
             [
              1,
              "#f0f921"
             ]
            ],
            "type": "histogram2dcontour"
           }
          ],
          "mesh3d": [
           {
            "colorbar": {
             "outlinewidth": 0,
             "ticks": ""
            },
            "type": "mesh3d"
           }
          ],
          "parcoords": [
           {
            "line": {
             "colorbar": {
              "outlinewidth": 0,
              "ticks": ""
             }
            },
            "type": "parcoords"
           }
          ],
          "pie": [
           {
            "automargin": true,
            "type": "pie"
           }
          ],
          "scatter": [
           {
            "marker": {
             "colorbar": {
              "outlinewidth": 0,
              "ticks": ""
             }
            },
            "type": "scatter"
           }
          ],
          "scatter3d": [
           {
            "line": {
             "colorbar": {
              "outlinewidth": 0,
              "ticks": ""
             }
            },
            "marker": {
             "colorbar": {
              "outlinewidth": 0,
              "ticks": ""
             }
            },
            "type": "scatter3d"
           }
          ],
          "scattercarpet": [
           {
            "marker": {
             "colorbar": {
              "outlinewidth": 0,
              "ticks": ""
             }
            },
            "type": "scattercarpet"
           }
          ],
          "scattergeo": [
           {
            "marker": {
             "colorbar": {
              "outlinewidth": 0,
              "ticks": ""
             }
            },
            "type": "scattergeo"
           }
          ],
          "scattergl": [
           {
            "marker": {
             "colorbar": {
              "outlinewidth": 0,
              "ticks": ""
             }
            },
            "type": "scattergl"
           }
          ],
          "scattermapbox": [
           {
            "marker": {
             "colorbar": {
              "outlinewidth": 0,
              "ticks": ""
             }
            },
            "type": "scattermapbox"
           }
          ],
          "scatterpolar": [
           {
            "marker": {
             "colorbar": {
              "outlinewidth": 0,
              "ticks": ""
             }
            },
            "type": "scatterpolar"
           }
          ],
          "scatterpolargl": [
           {
            "marker": {
             "colorbar": {
              "outlinewidth": 0,
              "ticks": ""
             }
            },
            "type": "scatterpolargl"
           }
          ],
          "scatterternary": [
           {
            "marker": {
             "colorbar": {
              "outlinewidth": 0,
              "ticks": ""
             }
            },
            "type": "scatterternary"
           }
          ],
          "surface": [
           {
            "colorbar": {
             "outlinewidth": 0,
             "ticks": ""
            },
            "colorscale": [
             [
              0,
              "#0d0887"
             ],
             [
              0.1111111111111111,
              "#46039f"
             ],
             [
              0.2222222222222222,
              "#7201a8"
             ],
             [
              0.3333333333333333,
              "#9c179e"
             ],
             [
              0.4444444444444444,
              "#bd3786"
             ],
             [
              0.5555555555555556,
              "#d8576b"
             ],
             [
              0.6666666666666666,
              "#ed7953"
             ],
             [
              0.7777777777777778,
              "#fb9f3a"
             ],
             [
              0.8888888888888888,
              "#fdca26"
             ],
             [
              1,
              "#f0f921"
             ]
            ],
            "type": "surface"
           }
          ],
          "table": [
           {
            "cells": {
             "fill": {
              "color": "#EBF0F8"
             },
             "line": {
              "color": "white"
             }
            },
            "header": {
             "fill": {
              "color": "#C8D4E3"
             },
             "line": {
              "color": "white"
             }
            },
            "type": "table"
           }
          ]
         },
         "layout": {
          "annotationdefaults": {
           "arrowcolor": "#2a3f5f",
           "arrowhead": 0,
           "arrowwidth": 1
          },
          "autotypenumbers": "strict",
          "coloraxis": {
           "colorbar": {
            "outlinewidth": 0,
            "ticks": ""
           }
          },
          "colorscale": {
           "diverging": [
            [
             0,
             "#8e0152"
            ],
            [
             0.1,
             "#c51b7d"
            ],
            [
             0.2,
             "#de77ae"
            ],
            [
             0.3,
             "#f1b6da"
            ],
            [
             0.4,
             "#fde0ef"
            ],
            [
             0.5,
             "#f7f7f7"
            ],
            [
             0.6,
             "#e6f5d0"
            ],
            [
             0.7,
             "#b8e186"
            ],
            [
             0.8,
             "#7fbc41"
            ],
            [
             0.9,
             "#4d9221"
            ],
            [
             1,
             "#276419"
            ]
           ],
           "sequential": [
            [
             0,
             "#0d0887"
            ],
            [
             0.1111111111111111,
             "#46039f"
            ],
            [
             0.2222222222222222,
             "#7201a8"
            ],
            [
             0.3333333333333333,
             "#9c179e"
            ],
            [
             0.4444444444444444,
             "#bd3786"
            ],
            [
             0.5555555555555556,
             "#d8576b"
            ],
            [
             0.6666666666666666,
             "#ed7953"
            ],
            [
             0.7777777777777778,
             "#fb9f3a"
            ],
            [
             0.8888888888888888,
             "#fdca26"
            ],
            [
             1,
             "#f0f921"
            ]
           ],
           "sequentialminus": [
            [
             0,
             "#0d0887"
            ],
            [
             0.1111111111111111,
             "#46039f"
            ],
            [
             0.2222222222222222,
             "#7201a8"
            ],
            [
             0.3333333333333333,
             "#9c179e"
            ],
            [
             0.4444444444444444,
             "#bd3786"
            ],
            [
             0.5555555555555556,
             "#d8576b"
            ],
            [
             0.6666666666666666,
             "#ed7953"
            ],
            [
             0.7777777777777778,
             "#fb9f3a"
            ],
            [
             0.8888888888888888,
             "#fdca26"
            ],
            [
             1,
             "#f0f921"
            ]
           ]
          },
          "colorway": [
           "#636efa",
           "#EF553B",
           "#00cc96",
           "#ab63fa",
           "#FFA15A",
           "#19d3f3",
           "#FF6692",
           "#B6E880",
           "#FF97FF",
           "#FECB52"
          ],
          "font": {
           "color": "#2a3f5f"
          },
          "geo": {
           "bgcolor": "white",
           "lakecolor": "white",
           "landcolor": "#E5ECF6",
           "showlakes": true,
           "showland": true,
           "subunitcolor": "white"
          },
          "hoverlabel": {
           "align": "left"
          },
          "hovermode": "closest",
          "mapbox": {
           "style": "light"
          },
          "paper_bgcolor": "white",
          "plot_bgcolor": "#E5ECF6",
          "polar": {
           "angularaxis": {
            "gridcolor": "white",
            "linecolor": "white",
            "ticks": ""
           },
           "bgcolor": "#E5ECF6",
           "radialaxis": {
            "gridcolor": "white",
            "linecolor": "white",
            "ticks": ""
           }
          },
          "scene": {
           "xaxis": {
            "backgroundcolor": "#E5ECF6",
            "gridcolor": "white",
            "gridwidth": 2,
            "linecolor": "white",
            "showbackground": true,
            "ticks": "",
            "zerolinecolor": "white"
           },
           "yaxis": {
            "backgroundcolor": "#E5ECF6",
            "gridcolor": "white",
            "gridwidth": 2,
            "linecolor": "white",
            "showbackground": true,
            "ticks": "",
            "zerolinecolor": "white"
           },
           "zaxis": {
            "backgroundcolor": "#E5ECF6",
            "gridcolor": "white",
            "gridwidth": 2,
            "linecolor": "white",
            "showbackground": true,
            "ticks": "",
            "zerolinecolor": "white"
           }
          },
          "shapedefaults": {
           "line": {
            "color": "#2a3f5f"
           }
          },
          "ternary": {
           "aaxis": {
            "gridcolor": "white",
            "linecolor": "white",
            "ticks": ""
           },
           "baxis": {
            "gridcolor": "white",
            "linecolor": "white",
            "ticks": ""
           },
           "bgcolor": "#E5ECF6",
           "caxis": {
            "gridcolor": "white",
            "linecolor": "white",
            "ticks": ""
           }
          },
          "title": {
           "x": 0.05
          },
          "xaxis": {
           "automargin": true,
           "gridcolor": "white",
           "linecolor": "white",
           "ticks": "",
           "title": {
            "standoff": 15
           },
           "zerolinecolor": "white",
           "zerolinewidth": 2
          },
          "yaxis": {
           "automargin": true,
           "gridcolor": "white",
           "linecolor": "white",
           "ticks": "",
           "title": {
            "standoff": 15
           },
           "zerolinecolor": "white",
           "zerolinewidth": 2
          }
         }
        }
       }
      },
      "text/html": [
       "<div>                            <div id=\"fd4f027d-8c96-451a-871d-68ce04dc4ac5\" class=\"plotly-graph-div\" style=\"height:525px; width:100%;\"></div>            <script type=\"text/javascript\">                require([\"plotly\"], function(Plotly) {                    window.PLOTLYENV=window.PLOTLYENV || {};                                    if (document.getElementById(\"fd4f027d-8c96-451a-871d-68ce04dc4ac5\")) {                    Plotly.newPlot(                        \"fd4f027d-8c96-451a-871d-68ce04dc4ac5\",                        [{\"branchvalues\":\"total\",\"customdata\":[[\"Policy design characteristics\"],[\"Technology and application specificity\"],[\"Policy design characteristics\"],[\"Instrument types\"],[\"Instrument types\"],[\"\"],[\"Policy design characteristics\"],[\"Instrument types\"],[\"\"],[\"Instrument types\"],[\"Technology and application specificity\"],[\"Instrument types\"],[\"Policy design characteristics\"],[\"Policy design characteristics\"],[\"Policy design characteristics\"],[\"Instrument types\"],[\"Instrument types\"],[\"\"],[\"Technology and application specificity\"],[\"Policy design characteristics\"],[\"Instrument types\"],[\"Instrument types\"],[\"Instrument types\"],[\"\"],[\"Instrument types\"],[\"Policy design characteristics\"],[\"Technology and application specificity\"]],\"domain\":{\"x\":[0.0,1.0],\"y\":[0.0,1.0]},\"hovertemplate\":\"labels=%{label}<br>Weight=%{value}<br>parent=%{parent}<br>id=%{id}<br>Parent=%{customdata[0]}<extra></extra>\",\"ids\":[\"Policy design characteristics/Actor\",\"Technology and application specificity/Application specificity\",\"Policy design characteristics/Compliance\",\"Instrument types/Regulatory instrument\",\"Instrument types/Public Investment\",\"/Policy design characteristics\",\"Policy design characteristics/Objective\",\"Instrument types/RD&D\",\"/Instrument types\",\"Instrument types/Framework policy\",\"Technology and application specificity/Energy specificity\",\"Instrument types/Education and outreach\",\"Policy design characteristics/Links to other policies\",\"Policy design characteristics/Resource\",\"Policy design characteristics/Reversibility\",\"Instrument types/Subsidies and direct incentives\",\"Instrument types/Tax incentives\",\"/Technology and application specificity\",\"Technology and application specificity/Technology specificity\",\"Policy design characteristics/Time\",\"Instrument types/Unspecified\",\"Instrument types/Tradable permit\",\"Instrument types/Voluntary agreement\",\"\",\"Instrument types\",\"Policy design characteristics\",\"Technology and application specificity\"],\"labels\":[\"Actor\",\"Application specificity\",\"Compliance\",\"Regulatory instrument\",\"Public Investment\",\"Policy design characteristics\",\"Objective\",\"RD&D\",\"Instrument types\",\"Framework policy\",\"Energy specificity\",\"Education and outreach\",\"Links to other policies\",\"Resource\",\"Reversibility\",\"Subsidies and direct incentives\",\"Tax incentives\",\"Technology and application specificity\",\"Technology specificity\",\"Time\",\"Unspecified\",\"Tradable permit\",\"Voluntary agreement\",\"\",\"Instrument types\",\"Policy design characteristics\",\"Technology and application specificity\"],\"marker\":{\"colors\":[\"#636efa\",\"#EF553B\",\"#636efa\",\"#00cc96\",\"#00cc96\",\"#ab63fa\",\"#636efa\",\"#00cc96\",\"#ab63fa\",\"#00cc96\",\"#EF553B\",\"#00cc96\",\"#636efa\",\"#636efa\",\"#636efa\",\"#00cc96\",\"#00cc96\",\"#ab63fa\",\"#EF553B\",\"#636efa\",\"#00cc96\",\"#00cc96\",\"#00cc96\",\"#ab63fa\",\"#00cc96\",\"#636efa\",\"#EF553B\"]},\"name\":\"\",\"parents\":[\"Policy design characteristics\",\"Technology and application specificity\",\"Policy design characteristics\",\"Instrument types\",\"Instrument types\",\"\",\"Policy design characteristics\",\"Instrument types\",\"\",\"Instrument types\",\"Technology and application specificity\",\"Instrument types\",\"Policy design characteristics\",\"Policy design characteristics\",\"Policy design characteristics\",\"Instrument types\",\"Instrument types\",\"\",\"Technology and application specificity\",\"Policy design characteristics\",\"Instrument types\",\"Instrument types\",\"Instrument types\",\"\",\"\",\"\",\"\"],\"values\":[6021.0,1550.0,1829.0,1231.0,98.0,0.5456681210145276,992.0,12.0,0.16718607661696314,318.0,1908.0,329.0,1181.0,512.0,40.0,102.0,78.0,0.2871458023685094,2526.0,798.0,1100.0,146.0,72.0,1.0,3486.0,11373.0,5984.0],\"type\":\"sunburst\"}],                        {\"template\":{\"data\":{\"bar\":[{\"error_x\":{\"color\":\"#2a3f5f\"},\"error_y\":{\"color\":\"#2a3f5f\"},\"marker\":{\"line\":{\"color\":\"#E5ECF6\",\"width\":0.5},\"pattern\":{\"fillmode\":\"overlay\",\"size\":10,\"solidity\":0.2}},\"type\":\"bar\"}],\"barpolar\":[{\"marker\":{\"line\":{\"color\":\"#E5ECF6\",\"width\":0.5},\"pattern\":{\"fillmode\":\"overlay\",\"size\":10,\"solidity\":0.2}},\"type\":\"barpolar\"}],\"carpet\":[{\"aaxis\":{\"endlinecolor\":\"#2a3f5f\",\"gridcolor\":\"white\",\"linecolor\":\"white\",\"minorgridcolor\":\"white\",\"startlinecolor\":\"#2a3f5f\"},\"baxis\":{\"endlinecolor\":\"#2a3f5f\",\"gridcolor\":\"white\",\"linecolor\":\"white\",\"minorgridcolor\":\"white\",\"startlinecolor\":\"#2a3f5f\"},\"type\":\"carpet\"}],\"choropleth\":[{\"colorbar\":{\"outlinewidth\":0,\"ticks\":\"\"},\"type\":\"choropleth\"}],\"contour\":[{\"colorbar\":{\"outlinewidth\":0,\"ticks\":\"\"},\"colorscale\":[[0.0,\"#0d0887\"],[0.1111111111111111,\"#46039f\"],[0.2222222222222222,\"#7201a8\"],[0.3333333333333333,\"#9c179e\"],[0.4444444444444444,\"#bd3786\"],[0.5555555555555556,\"#d8576b\"],[0.6666666666666666,\"#ed7953\"],[0.7777777777777778,\"#fb9f3a\"],[0.8888888888888888,\"#fdca26\"],[1.0,\"#f0f921\"]],\"type\":\"contour\"}],\"contourcarpet\":[{\"colorbar\":{\"outlinewidth\":0,\"ticks\":\"\"},\"type\":\"contourcarpet\"}],\"heatmap\":[{\"colorbar\":{\"outlinewidth\":0,\"ticks\":\"\"},\"colorscale\":[[0.0,\"#0d0887\"],[0.1111111111111111,\"#46039f\"],[0.2222222222222222,\"#7201a8\"],[0.3333333333333333,\"#9c179e\"],[0.4444444444444444,\"#bd3786\"],[0.5555555555555556,\"#d8576b\"],[0.6666666666666666,\"#ed7953\"],[0.7777777777777778,\"#fb9f3a\"],[0.8888888888888888,\"#fdca26\"],[1.0,\"#f0f921\"]],\"type\":\"heatmap\"}],\"heatmapgl\":[{\"colorbar\":{\"outlinewidth\":0,\"ticks\":\"\"},\"colorscale\":[[0.0,\"#0d0887\"],[0.1111111111111111,\"#46039f\"],[0.2222222222222222,\"#7201a8\"],[0.3333333333333333,\"#9c179e\"],[0.4444444444444444,\"#bd3786\"],[0.5555555555555556,\"#d8576b\"],[0.6666666666666666,\"#ed7953\"],[0.7777777777777778,\"#fb9f3a\"],[0.8888888888888888,\"#fdca26\"],[1.0,\"#f0f921\"]],\"type\":\"heatmapgl\"}],\"histogram\":[{\"marker\":{\"pattern\":{\"fillmode\":\"overlay\",\"size\":10,\"solidity\":0.2}},\"type\":\"histogram\"}],\"histogram2d\":[{\"colorbar\":{\"outlinewidth\":0,\"ticks\":\"\"},\"colorscale\":[[0.0,\"#0d0887\"],[0.1111111111111111,\"#46039f\"],[0.2222222222222222,\"#7201a8\"],[0.3333333333333333,\"#9c179e\"],[0.4444444444444444,\"#bd3786\"],[0.5555555555555556,\"#d8576b\"],[0.6666666666666666,\"#ed7953\"],[0.7777777777777778,\"#fb9f3a\"],[0.8888888888888888,\"#fdca26\"],[1.0,\"#f0f921\"]],\"type\":\"histogram2d\"}],\"histogram2dcontour\":[{\"colorbar\":{\"outlinewidth\":0,\"ticks\":\"\"},\"colorscale\":[[0.0,\"#0d0887\"],[0.1111111111111111,\"#46039f\"],[0.2222222222222222,\"#7201a8\"],[0.3333333333333333,\"#9c179e\"],[0.4444444444444444,\"#bd3786\"],[0.5555555555555556,\"#d8576b\"],[0.6666666666666666,\"#ed7953\"],[0.7777777777777778,\"#fb9f3a\"],[0.8888888888888888,\"#fdca26\"],[1.0,\"#f0f921\"]],\"type\":\"histogram2dcontour\"}],\"mesh3d\":[{\"colorbar\":{\"outlinewidth\":0,\"ticks\":\"\"},\"type\":\"mesh3d\"}],\"parcoords\":[{\"line\":{\"colorbar\":{\"outlinewidth\":0,\"ticks\":\"\"}},\"type\":\"parcoords\"}],\"pie\":[{\"automargin\":true,\"type\":\"pie\"}],\"scatter\":[{\"marker\":{\"colorbar\":{\"outlinewidth\":0,\"ticks\":\"\"}},\"type\":\"scatter\"}],\"scatter3d\":[{\"line\":{\"colorbar\":{\"outlinewidth\":0,\"ticks\":\"\"}},\"marker\":{\"colorbar\":{\"outlinewidth\":0,\"ticks\":\"\"}},\"type\":\"scatter3d\"}],\"scattercarpet\":[{\"marker\":{\"colorbar\":{\"outlinewidth\":0,\"ticks\":\"\"}},\"type\":\"scattercarpet\"}],\"scattergeo\":[{\"marker\":{\"colorbar\":{\"outlinewidth\":0,\"ticks\":\"\"}},\"type\":\"scattergeo\"}],\"scattergl\":[{\"marker\":{\"colorbar\":{\"outlinewidth\":0,\"ticks\":\"\"}},\"type\":\"scattergl\"}],\"scattermapbox\":[{\"marker\":{\"colorbar\":{\"outlinewidth\":0,\"ticks\":\"\"}},\"type\":\"scattermapbox\"}],\"scatterpolar\":[{\"marker\":{\"colorbar\":{\"outlinewidth\":0,\"ticks\":\"\"}},\"type\":\"scatterpolar\"}],\"scatterpolargl\":[{\"marker\":{\"colorbar\":{\"outlinewidth\":0,\"ticks\":\"\"}},\"type\":\"scatterpolargl\"}],\"scatterternary\":[{\"marker\":{\"colorbar\":{\"outlinewidth\":0,\"ticks\":\"\"}},\"type\":\"scatterternary\"}],\"surface\":[{\"colorbar\":{\"outlinewidth\":0,\"ticks\":\"\"},\"colorscale\":[[0.0,\"#0d0887\"],[0.1111111111111111,\"#46039f\"],[0.2222222222222222,\"#7201a8\"],[0.3333333333333333,\"#9c179e\"],[0.4444444444444444,\"#bd3786\"],[0.5555555555555556,\"#d8576b\"],[0.6666666666666666,\"#ed7953\"],[0.7777777777777778,\"#fb9f3a\"],[0.8888888888888888,\"#fdca26\"],[1.0,\"#f0f921\"]],\"type\":\"surface\"}],\"table\":[{\"cells\":{\"fill\":{\"color\":\"#EBF0F8\"},\"line\":{\"color\":\"white\"}},\"header\":{\"fill\":{\"color\":\"#C8D4E3\"},\"line\":{\"color\":\"white\"}},\"type\":\"table\"}]},\"layout\":{\"annotationdefaults\":{\"arrowcolor\":\"#2a3f5f\",\"arrowhead\":0,\"arrowwidth\":1},\"autotypenumbers\":\"strict\",\"coloraxis\":{\"colorbar\":{\"outlinewidth\":0,\"ticks\":\"\"}},\"colorscale\":{\"diverging\":[[0,\"#8e0152\"],[0.1,\"#c51b7d\"],[0.2,\"#de77ae\"],[0.3,\"#f1b6da\"],[0.4,\"#fde0ef\"],[0.5,\"#f7f7f7\"],[0.6,\"#e6f5d0\"],[0.7,\"#b8e186\"],[0.8,\"#7fbc41\"],[0.9,\"#4d9221\"],[1,\"#276419\"]],\"sequential\":[[0.0,\"#0d0887\"],[0.1111111111111111,\"#46039f\"],[0.2222222222222222,\"#7201a8\"],[0.3333333333333333,\"#9c179e\"],[0.4444444444444444,\"#bd3786\"],[0.5555555555555556,\"#d8576b\"],[0.6666666666666666,\"#ed7953\"],[0.7777777777777778,\"#fb9f3a\"],[0.8888888888888888,\"#fdca26\"],[1.0,\"#f0f921\"]],\"sequentialminus\":[[0.0,\"#0d0887\"],[0.1111111111111111,\"#46039f\"],[0.2222222222222222,\"#7201a8\"],[0.3333333333333333,\"#9c179e\"],[0.4444444444444444,\"#bd3786\"],[0.5555555555555556,\"#d8576b\"],[0.6666666666666666,\"#ed7953\"],[0.7777777777777778,\"#fb9f3a\"],[0.8888888888888888,\"#fdca26\"],[1.0,\"#f0f921\"]]},\"colorway\":[\"#636efa\",\"#EF553B\",\"#00cc96\",\"#ab63fa\",\"#FFA15A\",\"#19d3f3\",\"#FF6692\",\"#B6E880\",\"#FF97FF\",\"#FECB52\"],\"font\":{\"color\":\"#2a3f5f\"},\"geo\":{\"bgcolor\":\"white\",\"lakecolor\":\"white\",\"landcolor\":\"#E5ECF6\",\"showlakes\":true,\"showland\":true,\"subunitcolor\":\"white\"},\"hoverlabel\":{\"align\":\"left\"},\"hovermode\":\"closest\",\"mapbox\":{\"style\":\"light\"},\"paper_bgcolor\":\"white\",\"plot_bgcolor\":\"#E5ECF6\",\"polar\":{\"angularaxis\":{\"gridcolor\":\"white\",\"linecolor\":\"white\",\"ticks\":\"\"},\"bgcolor\":\"#E5ECF6\",\"radialaxis\":{\"gridcolor\":\"white\",\"linecolor\":\"white\",\"ticks\":\"\"}},\"scene\":{\"xaxis\":{\"backgroundcolor\":\"#E5ECF6\",\"gridcolor\":\"white\",\"gridwidth\":2,\"linecolor\":\"white\",\"showbackground\":true,\"ticks\":\"\",\"zerolinecolor\":\"white\"},\"yaxis\":{\"backgroundcolor\":\"#E5ECF6\",\"gridcolor\":\"white\",\"gridwidth\":2,\"linecolor\":\"white\",\"showbackground\":true,\"ticks\":\"\",\"zerolinecolor\":\"white\"},\"zaxis\":{\"backgroundcolor\":\"#E5ECF6\",\"gridcolor\":\"white\",\"gridwidth\":2,\"linecolor\":\"white\",\"showbackground\":true,\"ticks\":\"\",\"zerolinecolor\":\"white\"}},\"shapedefaults\":{\"line\":{\"color\":\"#2a3f5f\"}},\"ternary\":{\"aaxis\":{\"gridcolor\":\"white\",\"linecolor\":\"white\",\"ticks\":\"\"},\"baxis\":{\"gridcolor\":\"white\",\"linecolor\":\"white\",\"ticks\":\"\"},\"bgcolor\":\"#E5ECF6\",\"caxis\":{\"gridcolor\":\"white\",\"linecolor\":\"white\",\"ticks\":\"\"}},\"title\":{\"x\":0.05},\"xaxis\":{\"automargin\":true,\"gridcolor\":\"white\",\"linecolor\":\"white\",\"ticks\":\"\",\"title\":{\"standoff\":15},\"zerolinecolor\":\"white\",\"zerolinewidth\":2},\"yaxis\":{\"automargin\":true,\"gridcolor\":\"white\",\"linecolor\":\"white\",\"ticks\":\"\",\"title\":{\"standoff\":15},\"zerolinecolor\":\"white\",\"zerolinewidth\":2}}},\"legend\":{\"tracegroupgap\":0},\"margin\":{\"t\":60}},                        {\"responsive\": true}                    ).then(function(){\n",
       "                            \n",
       "var gd = document.getElementById('fd4f027d-8c96-451a-871d-68ce04dc4ac5');\n",
       "var x = new MutationObserver(function (mutations, observer) {{\n",
       "        var display = window.getComputedStyle(gd).display;\n",
       "        if (!display || display === 'none') {{\n",
       "            console.log([gd, 'removed!']);\n",
       "            Plotly.purge(gd);\n",
       "            observer.disconnect();\n",
       "        }}\n",
       "}});\n",
       "\n",
       "// Listen for the removal of the full notebook cells\n",
       "var notebookContainer = gd.closest('#notebook-container');\n",
       "if (notebookContainer) {{\n",
       "    x.observe(notebookContainer, {childList: true});\n",
       "}}\n",
       "\n",
       "// Listen for the clearing of the current output cell\n",
       "var outputEl = gd.closest('.output');\n",
       "if (outputEl) {{\n",
       "    x.observe(outputEl, {childList: true});\n",
       "}}\n",
       "\n",
       "                        })                };                });            </script>        </div>"
      ]
     },
     "metadata": {},
     "output_type": "display_data"
    }
   ],
   "source": [
    "import plotly.express as px \n",
    "import plotly.io as pio\n",
    "\n",
    "fig = px.sunburst(df, path=['Parent', 'Item and Group'], values='Weight', color='Parent')\n",
    "fig.write_image('ann_distribution_sunburst_2level.pdf', engine = \"orca\")\n",
    "fig.show()"
   ]
  },
  {
   "cell_type": "markdown",
   "metadata": {},
   "source": [
    "#### Sunburst plot of all three levels of the hierarchy"
   ]
  },
  {
   "cell_type": "code",
   "execution_count": 267,
   "metadata": {},
   "outputs": [],
   "source": [
    "df_instrument = pd.DataFrame(data = {\"Weight\": [n_instr1, n_instr2, n_instr3, n_instr4, \n",
    "                                    n_instr5, n_instr6, n_instr7, n_instr8, \n",
    "                                   n_instr9, n_instr10],\n",
    "                         \"Layers\": [\"Instrument types\"]*10,\n",
    "                        \"Features\": [\"Instrument types\"]*10,\n",
    "                         \"Tags\": ['Voluntary agreement', \"Framework policy\", \"Tradable permit\", \"Regulatory instrument\", \"Tax incentives\",\n",
    "                 \"Subsidies and direct incentives\", \"RD&D\", \"Public Investment\", \"Education and outreach\", \"Unspecified\"]})\n",
    "\n",
    "df_pdc = pd.DataFrame(data = {\"Weight\": [n_pdc11, n_pdc12, n_pdc13, n_pdc14, n_pdc15, n_pdc16, n_pdc17, n_pdc18,\n",
    "                                        n_pdc21, n_pdc22,\n",
    "                                        n_pdc31, n_pdc32, n_pdc33,\n",
    "                                        n_pdc41, n_pdc42, n_pdc43, n_pdc44,\n",
    "                                        n_pdc51, n_pdc52, n_pdc53,\n",
    "                                        n_pdc61,\n",
    "                                        n_pdc71, n_pdc72, n_pdc73, n_pdc74, n_pdc75],\n",
    "                              \"Layers\": [\"Policy design char.\"]* (8+2+3+4+3+1+5),\n",
    "                               \"Features\": ['Actor']* 8 + [\"Compliance\"] * 2 + \n",
    "                                            ['Links to other policies'] *3 + \n",
    "                                            ['Objective']* 4 + \n",
    "                                          ['Resource']* 3 + ['Reversibility'] + ['Time'] *5,\n",
    "                              \"Tags\": ['Default authority', 'Legislative authority', 'Newly established authority', 'Monitoring authority', 'Default addressee', 'Resources addressee', 'Monitored addressee', 'Sector addressee',\n",
    "                                      'Sanctioning form', 'Monitoring form',\n",
    "                                      'Reference to other policy', 'Amendment of policy', 'Reference to strategy or agreement',\n",
    "                                      'Quantitative target', 'Qualitative intention', 'Quantitative target no mitigation', 'Qualitative intention not mitigation',\n",
    "                                      'Monetary spending', 'Monetary revenues', 'Other resource type',\n",
    "                                       'Provision for reversibility',\n",
    "                                       'Policy duration time', 'Monitoring time', 'Resources time', 'Compliance time', 'In-effect time']})\n",
    "\n",
    "df_tech = pd.DataFrame(data = {\"Weight\": [n_techspec11, n_techspec12,\n",
    "                                    n_techspec21, n_techspec22,\n",
    "                                    n_techspec31, n_techspec32], \n",
    "                          \"Layers\":[\"Tech. and app. specificity\"]*6,\n",
    "                        \"Features\": ['Technology specificity', 'Technology specificity', \n",
    "                                     'Energy specificity', 'Energy specificity', \n",
    "                                     'Application specificity', 'Application specificity'], \n",
    "                          \"Tags\": [\"Low-carbon tech\", \"Other tech\", \n",
    "                                   'Low-carbon energy', \"Other energy\", \n",
    "                                  \"Low-carbon application\", \"Other application\"]\n",
    "                         })\n",
    "\n",
    "df=pd.concat([df_instrument, df_pdc, df_tech])"
   ]
  },
  {
   "cell_type": "code",
   "execution_count": 268,
   "metadata": {},
   "outputs": [
    {
     "name": "stderr",
     "output_type": "stream",
     "text": [
      "/Users/l.kaack/miniconda3/envs/policycoding/lib/python3.9/site-packages/plotly/express/_core.py:1637: FutureWarning:\n",
      "\n",
      "The frame.append method is deprecated and will be removed from pandas in a future version. Use pandas.concat instead.\n",
      "\n",
      "/Users/l.kaack/miniconda3/envs/policycoding/lib/python3.9/site-packages/plotly/express/_core.py:1637: FutureWarning:\n",
      "\n",
      "The frame.append method is deprecated and will be removed from pandas in a future version. Use pandas.concat instead.\n",
      "\n",
      "/Users/l.kaack/miniconda3/envs/policycoding/lib/python3.9/site-packages/plotly/express/_core.py:1637: FutureWarning:\n",
      "\n",
      "The frame.append method is deprecated and will be removed from pandas in a future version. Use pandas.concat instead.\n",
      "\n"
     ]
    },
    {
     "data": {
      "application/vnd.plotly.v1+json": {
       "config": {
        "plotlyServerURL": "https://plot.ly"
       },
       "data": [
        {
         "branchvalues": "total",
         "customdata": [
          [
           "Policy design char."
          ],
          [
           "Policy design char."
          ],
          [
           "Policy design char."
          ],
          [
           "Policy design char."
          ],
          [
           "Instrument types"
          ],
          [
           "Instrument types"
          ],
          [
           "Policy design char."
          ],
          [
           "Policy design char."
          ],
          [
           "Tech. and app. specificity"
          ],
          [
           "Tech. and app. specificity"
          ],
          [
           "Policy design char."
          ],
          [
           "Policy design char."
          ],
          [
           "Policy design char."
          ],
          [
           "Policy design char."
          ],
          [
           "Instrument types"
          ],
          [
           "Policy design char."
          ],
          [
           "Policy design char."
          ],
          [
           "Instrument types"
          ],
          [
           "Policy design char."
          ],
          [
           "Instrument types"
          ],
          [
           "Policy design char."
          ],
          [
           "Policy design char."
          ],
          [
           "Policy design char."
          ],
          [
           "Policy design char."
          ],
          [
           "Tech. and app. specificity"
          ],
          [
           "Tech. and app. specificity"
          ],
          [
           "Policy design char."
          ],
          [
           "Policy design char."
          ],
          [
           "Policy design char."
          ],
          [
           "Policy design char."
          ],
          [
           "Policy design char."
          ],
          [
           "Policy design char."
          ],
          [
           "Policy design char."
          ],
          [
           "Tech. and app. specificity"
          ],
          [
           "Tech. and app. specificity"
          ],
          [
           "Policy design char."
          ],
          [
           "Instrument types"
          ],
          [
           "Policy design char."
          ],
          [
           "Instrument types"
          ],
          [
           "Instrument types"
          ],
          [
           "Instrument types"
          ],
          [
           "Instrument types"
          ],
          [
           "Policy design char."
          ],
          [
           "Tech. and app. specificity"
          ],
          [
           "Policy design char."
          ],
          [
           "Tech. and app. specificity"
          ],
          [
           "Instrument types"
          ],
          [
           "Policy design char."
          ],
          [
           "Policy design char."
          ],
          [
           "Policy design char."
          ],
          [
           "Policy design char."
          ],
          [
           "Tech. and app. specificity"
          ],
          [
           "Policy design char."
          ],
          [
           "Instrument types"
          ],
          [
           "Policy design char."
          ],
          [
           "Tech. and app. specificity"
          ]
         ],
         "domain": {
          "x": [
           0,
           1
          ],
          "y": [
           0,
           1
          ]
         },
         "hovertemplate": "labels=%{label}<br>Weight=%{value}<br>parent=%{parent}<br>id=%{id}<br>Layers=%{customdata[0]}<extra></extra>",
         "ids": [
          "Policy design char./Links to other policies/Amendment of policy",
          "Policy design char./Time/Compliance time",
          "Policy design char./Actor/Default addressee",
          "Policy design char./Actor/Default authority",
          "Instrument types/Instrument types/Education and outreach",
          "Instrument types/Instrument types/Framework policy",
          "Policy design char./Time/In-effect time",
          "Policy design char./Actor/Legislative authority",
          "Tech. and app. specificity/Application specificity/Low-carbon application",
          "Tech. and app. specificity/Energy specificity/Low-carbon energy",
          "Policy design char./Objective/Qualitative intention",
          "Policy design char./Objective/Qualitative intention not mitigation",
          "Policy design char./Objective/Quantitative target",
          "Policy design char./Objective/Quantitative target no mitigation",
          "Instrument types/Instrument types/RD&D",
          "Policy design char./Time/Resources time",
          "Policy design char./Links to other policies/Reference to strategy or agreement",
          "Instrument types/Instrument types/Regulatory instrument",
          "Policy design char./Actor/Resources addressee",
          "Instrument types/Instrument types/Public Investment",
          "Policy design char./Compliance/Sanctioning form",
          "Policy design char./Links to other policies/Reference to other policy",
          "Policy design char./Reversibility/Provision for reversibility",
          "Policy design char./Resource/Other resource type",
          "Tech. and app. specificity/Technology specificity/Other tech",
          "Tech. and app. specificity/Technology specificity/Low-carbon tech",
          "Policy design char./Resource/Monetary revenues",
          "Policy design char./Resource/Monetary spending",
          "Policy design char./Time/Policy duration time",
          "Policy design char./Actor/Monitoring authority",
          "Policy design char./Actor/Monitored addressee",
          "Policy design char./Time/Monitoring time",
          "Policy design char./Actor/Newly established authority",
          "Tech. and app. specificity/Application specificity/Other application",
          "Tech. and app. specificity/Energy specificity/Other energy",
          "Policy design char./Compliance/Monitoring form",
          "Instrument types/Instrument types/Unspecified",
          "Policy design char./Actor/Sector addressee",
          "Instrument types/Instrument types/Subsidies and direct incentives",
          "Instrument types/Instrument types/Tax incentives",
          "Instrument types/Instrument types/Tradable permit",
          "Instrument types/Instrument types/Voluntary agreement",
          "Policy design char./Actor",
          "Tech. and app. specificity/Application specificity",
          "Policy design char./Compliance",
          "Tech. and app. specificity/Energy specificity",
          "Instrument types/Instrument types",
          "Policy design char./Links to other policies",
          "Policy design char./Objective",
          "Policy design char./Resource",
          "Policy design char./Reversibility",
          "Tech. and app. specificity/Technology specificity",
          "Policy design char./Time",
          "Instrument types",
          "Policy design char.",
          "Tech. and app. specificity"
         ],
         "labels": [
          "Amendment of policy",
          "Compliance time",
          "Default addressee",
          "Default authority",
          "Education and outreach",
          "Framework policy",
          "In-effect time",
          "Legislative authority",
          "Low-carbon application",
          "Low-carbon energy",
          "Qualitative intention",
          "Qualitative intention not mitigation",
          "Quantitative target",
          "Quantitative target no mitigation",
          "RD&D",
          "Resources time",
          "Reference to strategy or agreement",
          "Regulatory instrument",
          "Resources addressee",
          "Public Investment",
          "Sanctioning form",
          "Reference to other policy",
          "Provision for reversibility",
          "Other resource type",
          "Other tech",
          "Low-carbon tech",
          "Monetary revenues",
          "Monetary spending",
          "Policy duration time",
          "Monitoring authority",
          "Monitored addressee",
          "Monitoring time",
          "Newly established authority",
          "Other application",
          "Other energy",
          "Monitoring form",
          "Unspecified",
          "Sector addressee",
          "Subsidies and direct incentives",
          "Tax incentives",
          "Tradable permit",
          "Voluntary agreement",
          "Actor",
          "Application specificity",
          "Compliance",
          "Energy specificity",
          "Instrument types",
          "Links to other policies",
          "Objective",
          "Resource",
          "Reversibility",
          "Technology specificity",
          "Time",
          "Instrument types",
          "Policy design char.",
          "Tech. and app. specificity"
         ],
         "marker": {
          "colors": [
           "#636efa",
           "#636efa",
           "#636efa",
           "#636efa",
           "#EF553B",
           "#EF553B",
           "#636efa",
           "#636efa",
           "#00cc96",
           "#00cc96",
           "#636efa",
           "#636efa",
           "#636efa",
           "#636efa",
           "#EF553B",
           "#636efa",
           "#636efa",
           "#EF553B",
           "#636efa",
           "#EF553B",
           "#636efa",
           "#636efa",
           "#636efa",
           "#636efa",
           "#00cc96",
           "#00cc96",
           "#636efa",
           "#636efa",
           "#636efa",
           "#636efa",
           "#636efa",
           "#636efa",
           "#636efa",
           "#00cc96",
           "#00cc96",
           "#636efa",
           "#EF553B",
           "#636efa",
           "#EF553B",
           "#EF553B",
           "#EF553B",
           "#EF553B",
           "#636efa",
           "#00cc96",
           "#636efa",
           "#00cc96",
           "#EF553B",
           "#636efa",
           "#636efa",
           "#636efa",
           "#636efa",
           "#00cc96",
           "#636efa",
           "#EF553B",
           "#636efa",
           "#00cc96"
          ]
         },
         "name": "",
         "parents": [
          "Policy design char./Links to other policies",
          "Policy design char./Time",
          "Policy design char./Actor",
          "Policy design char./Actor",
          "Instrument types/Instrument types",
          "Instrument types/Instrument types",
          "Policy design char./Time",
          "Policy design char./Actor",
          "Tech. and app. specificity/Application specificity",
          "Tech. and app. specificity/Energy specificity",
          "Policy design char./Objective",
          "Policy design char./Objective",
          "Policy design char./Objective",
          "Policy design char./Objective",
          "Instrument types/Instrument types",
          "Policy design char./Time",
          "Policy design char./Links to other policies",
          "Instrument types/Instrument types",
          "Policy design char./Actor",
          "Instrument types/Instrument types",
          "Policy design char./Compliance",
          "Policy design char./Links to other policies",
          "Policy design char./Reversibility",
          "Policy design char./Resource",
          "Tech. and app. specificity/Technology specificity",
          "Tech. and app. specificity/Technology specificity",
          "Policy design char./Resource",
          "Policy design char./Resource",
          "Policy design char./Time",
          "Policy design char./Actor",
          "Policy design char./Actor",
          "Policy design char./Time",
          "Policy design char./Actor",
          "Tech. and app. specificity/Application specificity",
          "Tech. and app. specificity/Energy specificity",
          "Policy design char./Compliance",
          "Instrument types/Instrument types",
          "Policy design char./Actor",
          "Instrument types/Instrument types",
          "Instrument types/Instrument types",
          "Instrument types/Instrument types",
          "Instrument types/Instrument types",
          "Policy design char.",
          "Tech. and app. specificity",
          "Policy design char.",
          "Tech. and app. specificity",
          "Instrument types",
          "Policy design char.",
          "Policy design char.",
          "Policy design char.",
          "Policy design char.",
          "Tech. and app. specificity",
          "Policy design char.",
          "",
          "",
          ""
         ],
         "type": "sunburst",
         "values": [
          125,
          310,
          2081,
          939,
          329,
          318,
          109,
          330,
          764,
          1358,
          556,
          266,
          162,
          8,
          12,
          14,
          319,
          1231,
          142,
          98,
          48,
          737,
          14,
          0,
          1058,
          1468,
          36,
          113,
          42,
          659,
          483,
          323,
          31,
          786,
          550,
          1781,
          1100,
          1356,
          102,
          78,
          146,
          72,
          6021,
          1550,
          1829,
          1908,
          3486,
          1181,
          992,
          149,
          14,
          2526,
          798,
          3486,
          10984,
          5984
         ]
        }
       ],
       "layout": {
        "legend": {
         "tracegroupgap": 0
        },
        "margin": {
         "t": 60
        },
        "template": {
         "data": {
          "bar": [
           {
            "error_x": {
             "color": "#2a3f5f"
            },
            "error_y": {
             "color": "#2a3f5f"
            },
            "marker": {
             "line": {
              "color": "#E5ECF6",
              "width": 0.5
             },
             "pattern": {
              "fillmode": "overlay",
              "size": 10,
              "solidity": 0.2
             }
            },
            "type": "bar"
           }
          ],
          "barpolar": [
           {
            "marker": {
             "line": {
              "color": "#E5ECF6",
              "width": 0.5
             },
             "pattern": {
              "fillmode": "overlay",
              "size": 10,
              "solidity": 0.2
             }
            },
            "type": "barpolar"
           }
          ],
          "carpet": [
           {
            "aaxis": {
             "endlinecolor": "#2a3f5f",
             "gridcolor": "white",
             "linecolor": "white",
             "minorgridcolor": "white",
             "startlinecolor": "#2a3f5f"
            },
            "baxis": {
             "endlinecolor": "#2a3f5f",
             "gridcolor": "white",
             "linecolor": "white",
             "minorgridcolor": "white",
             "startlinecolor": "#2a3f5f"
            },
            "type": "carpet"
           }
          ],
          "choropleth": [
           {
            "colorbar": {
             "outlinewidth": 0,
             "ticks": ""
            },
            "type": "choropleth"
           }
          ],
          "contour": [
           {
            "colorbar": {
             "outlinewidth": 0,
             "ticks": ""
            },
            "colorscale": [
             [
              0,
              "#0d0887"
             ],
             [
              0.1111111111111111,
              "#46039f"
             ],
             [
              0.2222222222222222,
              "#7201a8"
             ],
             [
              0.3333333333333333,
              "#9c179e"
             ],
             [
              0.4444444444444444,
              "#bd3786"
             ],
             [
              0.5555555555555556,
              "#d8576b"
             ],
             [
              0.6666666666666666,
              "#ed7953"
             ],
             [
              0.7777777777777778,
              "#fb9f3a"
             ],
             [
              0.8888888888888888,
              "#fdca26"
             ],
             [
              1,
              "#f0f921"
             ]
            ],
            "type": "contour"
           }
          ],
          "contourcarpet": [
           {
            "colorbar": {
             "outlinewidth": 0,
             "ticks": ""
            },
            "type": "contourcarpet"
           }
          ],
          "heatmap": [
           {
            "colorbar": {
             "outlinewidth": 0,
             "ticks": ""
            },
            "colorscale": [
             [
              0,
              "#0d0887"
             ],
             [
              0.1111111111111111,
              "#46039f"
             ],
             [
              0.2222222222222222,
              "#7201a8"
             ],
             [
              0.3333333333333333,
              "#9c179e"
             ],
             [
              0.4444444444444444,
              "#bd3786"
             ],
             [
              0.5555555555555556,
              "#d8576b"
             ],
             [
              0.6666666666666666,
              "#ed7953"
             ],
             [
              0.7777777777777778,
              "#fb9f3a"
             ],
             [
              0.8888888888888888,
              "#fdca26"
             ],
             [
              1,
              "#f0f921"
             ]
            ],
            "type": "heatmap"
           }
          ],
          "heatmapgl": [
           {
            "colorbar": {
             "outlinewidth": 0,
             "ticks": ""
            },
            "colorscale": [
             [
              0,
              "#0d0887"
             ],
             [
              0.1111111111111111,
              "#46039f"
             ],
             [
              0.2222222222222222,
              "#7201a8"
             ],
             [
              0.3333333333333333,
              "#9c179e"
             ],
             [
              0.4444444444444444,
              "#bd3786"
             ],
             [
              0.5555555555555556,
              "#d8576b"
             ],
             [
              0.6666666666666666,
              "#ed7953"
             ],
             [
              0.7777777777777778,
              "#fb9f3a"
             ],
             [
              0.8888888888888888,
              "#fdca26"
             ],
             [
              1,
              "#f0f921"
             ]
            ],
            "type": "heatmapgl"
           }
          ],
          "histogram": [
           {
            "marker": {
             "pattern": {
              "fillmode": "overlay",
              "size": 10,
              "solidity": 0.2
             }
            },
            "type": "histogram"
           }
          ],
          "histogram2d": [
           {
            "colorbar": {
             "outlinewidth": 0,
             "ticks": ""
            },
            "colorscale": [
             [
              0,
              "#0d0887"
             ],
             [
              0.1111111111111111,
              "#46039f"
             ],
             [
              0.2222222222222222,
              "#7201a8"
             ],
             [
              0.3333333333333333,
              "#9c179e"
             ],
             [
              0.4444444444444444,
              "#bd3786"
             ],
             [
              0.5555555555555556,
              "#d8576b"
             ],
             [
              0.6666666666666666,
              "#ed7953"
             ],
             [
              0.7777777777777778,
              "#fb9f3a"
             ],
             [
              0.8888888888888888,
              "#fdca26"
             ],
             [
              1,
              "#f0f921"
             ]
            ],
            "type": "histogram2d"
           }
          ],
          "histogram2dcontour": [
           {
            "colorbar": {
             "outlinewidth": 0,
             "ticks": ""
            },
            "colorscale": [
             [
              0,
              "#0d0887"
             ],
             [
              0.1111111111111111,
              "#46039f"
             ],
             [
              0.2222222222222222,
              "#7201a8"
             ],
             [
              0.3333333333333333,
              "#9c179e"
             ],
             [
              0.4444444444444444,
              "#bd3786"
             ],
             [
              0.5555555555555556,
              "#d8576b"
             ],
             [
              0.6666666666666666,
              "#ed7953"
             ],
             [
              0.7777777777777778,
              "#fb9f3a"
             ],
             [
              0.8888888888888888,
              "#fdca26"
             ],
             [
              1,
              "#f0f921"
             ]
            ],
            "type": "histogram2dcontour"
           }
          ],
          "mesh3d": [
           {
            "colorbar": {
             "outlinewidth": 0,
             "ticks": ""
            },
            "type": "mesh3d"
           }
          ],
          "parcoords": [
           {
            "line": {
             "colorbar": {
              "outlinewidth": 0,
              "ticks": ""
             }
            },
            "type": "parcoords"
           }
          ],
          "pie": [
           {
            "automargin": true,
            "type": "pie"
           }
          ],
          "scatter": [
           {
            "marker": {
             "colorbar": {
              "outlinewidth": 0,
              "ticks": ""
             }
            },
            "type": "scatter"
           }
          ],
          "scatter3d": [
           {
            "line": {
             "colorbar": {
              "outlinewidth": 0,
              "ticks": ""
             }
            },
            "marker": {
             "colorbar": {
              "outlinewidth": 0,
              "ticks": ""
             }
            },
            "type": "scatter3d"
           }
          ],
          "scattercarpet": [
           {
            "marker": {
             "colorbar": {
              "outlinewidth": 0,
              "ticks": ""
             }
            },
            "type": "scattercarpet"
           }
          ],
          "scattergeo": [
           {
            "marker": {
             "colorbar": {
              "outlinewidth": 0,
              "ticks": ""
             }
            },
            "type": "scattergeo"
           }
          ],
          "scattergl": [
           {
            "marker": {
             "colorbar": {
              "outlinewidth": 0,
              "ticks": ""
             }
            },
            "type": "scattergl"
           }
          ],
          "scattermapbox": [
           {
            "marker": {
             "colorbar": {
              "outlinewidth": 0,
              "ticks": ""
             }
            },
            "type": "scattermapbox"
           }
          ],
          "scatterpolar": [
           {
            "marker": {
             "colorbar": {
              "outlinewidth": 0,
              "ticks": ""
             }
            },
            "type": "scatterpolar"
           }
          ],
          "scatterpolargl": [
           {
            "marker": {
             "colorbar": {
              "outlinewidth": 0,
              "ticks": ""
             }
            },
            "type": "scatterpolargl"
           }
          ],
          "scatterternary": [
           {
            "marker": {
             "colorbar": {
              "outlinewidth": 0,
              "ticks": ""
             }
            },
            "type": "scatterternary"
           }
          ],
          "surface": [
           {
            "colorbar": {
             "outlinewidth": 0,
             "ticks": ""
            },
            "colorscale": [
             [
              0,
              "#0d0887"
             ],
             [
              0.1111111111111111,
              "#46039f"
             ],
             [
              0.2222222222222222,
              "#7201a8"
             ],
             [
              0.3333333333333333,
              "#9c179e"
             ],
             [
              0.4444444444444444,
              "#bd3786"
             ],
             [
              0.5555555555555556,
              "#d8576b"
             ],
             [
              0.6666666666666666,
              "#ed7953"
             ],
             [
              0.7777777777777778,
              "#fb9f3a"
             ],
             [
              0.8888888888888888,
              "#fdca26"
             ],
             [
              1,
              "#f0f921"
             ]
            ],
            "type": "surface"
           }
          ],
          "table": [
           {
            "cells": {
             "fill": {
              "color": "#EBF0F8"
             },
             "line": {
              "color": "white"
             }
            },
            "header": {
             "fill": {
              "color": "#C8D4E3"
             },
             "line": {
              "color": "white"
             }
            },
            "type": "table"
           }
          ]
         },
         "layout": {
          "annotationdefaults": {
           "arrowcolor": "#2a3f5f",
           "arrowhead": 0,
           "arrowwidth": 1
          },
          "autotypenumbers": "strict",
          "coloraxis": {
           "colorbar": {
            "outlinewidth": 0,
            "ticks": ""
           }
          },
          "colorscale": {
           "diverging": [
            [
             0,
             "#8e0152"
            ],
            [
             0.1,
             "#c51b7d"
            ],
            [
             0.2,
             "#de77ae"
            ],
            [
             0.3,
             "#f1b6da"
            ],
            [
             0.4,
             "#fde0ef"
            ],
            [
             0.5,
             "#f7f7f7"
            ],
            [
             0.6,
             "#e6f5d0"
            ],
            [
             0.7,
             "#b8e186"
            ],
            [
             0.8,
             "#7fbc41"
            ],
            [
             0.9,
             "#4d9221"
            ],
            [
             1,
             "#276419"
            ]
           ],
           "sequential": [
            [
             0,
             "#0d0887"
            ],
            [
             0.1111111111111111,
             "#46039f"
            ],
            [
             0.2222222222222222,
             "#7201a8"
            ],
            [
             0.3333333333333333,
             "#9c179e"
            ],
            [
             0.4444444444444444,
             "#bd3786"
            ],
            [
             0.5555555555555556,
             "#d8576b"
            ],
            [
             0.6666666666666666,
             "#ed7953"
            ],
            [
             0.7777777777777778,
             "#fb9f3a"
            ],
            [
             0.8888888888888888,
             "#fdca26"
            ],
            [
             1,
             "#f0f921"
            ]
           ],
           "sequentialminus": [
            [
             0,
             "#0d0887"
            ],
            [
             0.1111111111111111,
             "#46039f"
            ],
            [
             0.2222222222222222,
             "#7201a8"
            ],
            [
             0.3333333333333333,
             "#9c179e"
            ],
            [
             0.4444444444444444,
             "#bd3786"
            ],
            [
             0.5555555555555556,
             "#d8576b"
            ],
            [
             0.6666666666666666,
             "#ed7953"
            ],
            [
             0.7777777777777778,
             "#fb9f3a"
            ],
            [
             0.8888888888888888,
             "#fdca26"
            ],
            [
             1,
             "#f0f921"
            ]
           ]
          },
          "colorway": [
           "#636efa",
           "#EF553B",
           "#00cc96",
           "#ab63fa",
           "#FFA15A",
           "#19d3f3",
           "#FF6692",
           "#B6E880",
           "#FF97FF",
           "#FECB52"
          ],
          "font": {
           "color": "#2a3f5f"
          },
          "geo": {
           "bgcolor": "white",
           "lakecolor": "white",
           "landcolor": "#E5ECF6",
           "showlakes": true,
           "showland": true,
           "subunitcolor": "white"
          },
          "hoverlabel": {
           "align": "left"
          },
          "hovermode": "closest",
          "mapbox": {
           "style": "light"
          },
          "paper_bgcolor": "white",
          "plot_bgcolor": "#E5ECF6",
          "polar": {
           "angularaxis": {
            "gridcolor": "white",
            "linecolor": "white",
            "ticks": ""
           },
           "bgcolor": "#E5ECF6",
           "radialaxis": {
            "gridcolor": "white",
            "linecolor": "white",
            "ticks": ""
           }
          },
          "scene": {
           "xaxis": {
            "backgroundcolor": "#E5ECF6",
            "gridcolor": "white",
            "gridwidth": 2,
            "linecolor": "white",
            "showbackground": true,
            "ticks": "",
            "zerolinecolor": "white"
           },
           "yaxis": {
            "backgroundcolor": "#E5ECF6",
            "gridcolor": "white",
            "gridwidth": 2,
            "linecolor": "white",
            "showbackground": true,
            "ticks": "",
            "zerolinecolor": "white"
           },
           "zaxis": {
            "backgroundcolor": "#E5ECF6",
            "gridcolor": "white",
            "gridwidth": 2,
            "linecolor": "white",
            "showbackground": true,
            "ticks": "",
            "zerolinecolor": "white"
           }
          },
          "shapedefaults": {
           "line": {
            "color": "#2a3f5f"
           }
          },
          "ternary": {
           "aaxis": {
            "gridcolor": "white",
            "linecolor": "white",
            "ticks": ""
           },
           "baxis": {
            "gridcolor": "white",
            "linecolor": "white",
            "ticks": ""
           },
           "bgcolor": "#E5ECF6",
           "caxis": {
            "gridcolor": "white",
            "linecolor": "white",
            "ticks": ""
           }
          },
          "title": {
           "x": 0.05
          },
          "xaxis": {
           "automargin": true,
           "gridcolor": "white",
           "linecolor": "white",
           "ticks": "",
           "title": {
            "standoff": 15
           },
           "zerolinecolor": "white",
           "zerolinewidth": 2
          },
          "yaxis": {
           "automargin": true,
           "gridcolor": "white",
           "linecolor": "white",
           "ticks": "",
           "title": {
            "standoff": 15
           },
           "zerolinecolor": "white",
           "zerolinewidth": 2
          }
         }
        }
       }
      },
      "text/html": [
       "<div>                            <div id=\"637476a5-6ebb-4dad-901d-2d60cc038a1c\" class=\"plotly-graph-div\" style=\"height:525px; width:100%;\"></div>            <script type=\"text/javascript\">                require([\"plotly\"], function(Plotly) {                    window.PLOTLYENV=window.PLOTLYENV || {};                                    if (document.getElementById(\"637476a5-6ebb-4dad-901d-2d60cc038a1c\")) {                    Plotly.newPlot(                        \"637476a5-6ebb-4dad-901d-2d60cc038a1c\",                        [{\"branchvalues\":\"total\",\"customdata\":[[\"Policy design char.\"],[\"Policy design char.\"],[\"Policy design char.\"],[\"Policy design char.\"],[\"Instrument types\"],[\"Instrument types\"],[\"Policy design char.\"],[\"Policy design char.\"],[\"Tech. and app. specificity\"],[\"Tech. and app. specificity\"],[\"Policy design char.\"],[\"Policy design char.\"],[\"Policy design char.\"],[\"Policy design char.\"],[\"Instrument types\"],[\"Policy design char.\"],[\"Policy design char.\"],[\"Instrument types\"],[\"Policy design char.\"],[\"Instrument types\"],[\"Policy design char.\"],[\"Policy design char.\"],[\"Policy design char.\"],[\"Policy design char.\"],[\"Tech. and app. specificity\"],[\"Tech. and app. specificity\"],[\"Policy design char.\"],[\"Policy design char.\"],[\"Policy design char.\"],[\"Policy design char.\"],[\"Policy design char.\"],[\"Policy design char.\"],[\"Policy design char.\"],[\"Tech. and app. specificity\"],[\"Tech. and app. specificity\"],[\"Policy design char.\"],[\"Instrument types\"],[\"Policy design char.\"],[\"Instrument types\"],[\"Instrument types\"],[\"Instrument types\"],[\"Instrument types\"],[\"Policy design char.\"],[\"Tech. and app. specificity\"],[\"Policy design char.\"],[\"Tech. and app. specificity\"],[\"Instrument types\"],[\"Policy design char.\"],[\"Policy design char.\"],[\"Policy design char.\"],[\"Policy design char.\"],[\"Tech. and app. specificity\"],[\"Policy design char.\"],[\"Instrument types\"],[\"Policy design char.\"],[\"Tech. and app. specificity\"]],\"domain\":{\"x\":[0.0,1.0],\"y\":[0.0,1.0]},\"hovertemplate\":\"labels=%{label}<br>Weight=%{value}<br>parent=%{parent}<br>id=%{id}<br>Layers=%{customdata[0]}<extra></extra>\",\"ids\":[\"Policy design char./Links to other policies/Amendment of policy\",\"Policy design char./Time/Compliance time\",\"Policy design char./Actor/Default addressee\",\"Policy design char./Actor/Default authority\",\"Instrument types/Instrument types/Education and outreach\",\"Instrument types/Instrument types/Framework policy\",\"Policy design char./Time/In-effect time\",\"Policy design char./Actor/Legislative authority\",\"Tech. and app. specificity/Application specificity/Low-carbon application\",\"Tech. and app. specificity/Energy specificity/Low-carbon energy\",\"Policy design char./Objective/Qualitative intention\",\"Policy design char./Objective/Qualitative intention not mitigation\",\"Policy design char./Objective/Quantitative target\",\"Policy design char./Objective/Quantitative target no mitigation\",\"Instrument types/Instrument types/RD&D\",\"Policy design char./Time/Resources time\",\"Policy design char./Links to other policies/Reference to strategy or agreement\",\"Instrument types/Instrument types/Regulatory instrument\",\"Policy design char./Actor/Resources addressee\",\"Instrument types/Instrument types/Public Investment\",\"Policy design char./Compliance/Sanctioning form\",\"Policy design char./Links to other policies/Reference to other policy\",\"Policy design char./Reversibility/Provision for reversibility\",\"Policy design char./Resource/Other resource type\",\"Tech. and app. specificity/Technology specificity/Other tech\",\"Tech. and app. specificity/Technology specificity/Low-carbon tech\",\"Policy design char./Resource/Monetary revenues\",\"Policy design char./Resource/Monetary spending\",\"Policy design char./Time/Policy duration time\",\"Policy design char./Actor/Monitoring authority\",\"Policy design char./Actor/Monitored addressee\",\"Policy design char./Time/Monitoring time\",\"Policy design char./Actor/Newly established authority\",\"Tech. and app. specificity/Application specificity/Other application\",\"Tech. and app. specificity/Energy specificity/Other energy\",\"Policy design char./Compliance/Monitoring form\",\"Instrument types/Instrument types/Unspecified\",\"Policy design char./Actor/Sector addressee\",\"Instrument types/Instrument types/Subsidies and direct incentives\",\"Instrument types/Instrument types/Tax incentives\",\"Instrument types/Instrument types/Tradable permit\",\"Instrument types/Instrument types/Voluntary agreement\",\"Policy design char./Actor\",\"Tech. and app. specificity/Application specificity\",\"Policy design char./Compliance\",\"Tech. and app. specificity/Energy specificity\",\"Instrument types/Instrument types\",\"Policy design char./Links to other policies\",\"Policy design char./Objective\",\"Policy design char./Resource\",\"Policy design char./Reversibility\",\"Tech. and app. specificity/Technology specificity\",\"Policy design char./Time\",\"Instrument types\",\"Policy design char.\",\"Tech. and app. specificity\"],\"labels\":[\"Amendment of policy\",\"Compliance time\",\"Default addressee\",\"Default authority\",\"Education and outreach\",\"Framework policy\",\"In-effect time\",\"Legislative authority\",\"Low-carbon application\",\"Low-carbon energy\",\"Qualitative intention\",\"Qualitative intention not mitigation\",\"Quantitative target\",\"Quantitative target no mitigation\",\"RD&D\",\"Resources time\",\"Reference to strategy or agreement\",\"Regulatory instrument\",\"Resources addressee\",\"Public Investment\",\"Sanctioning form\",\"Reference to other policy\",\"Provision for reversibility\",\"Other resource type\",\"Other tech\",\"Low-carbon tech\",\"Monetary revenues\",\"Monetary spending\",\"Policy duration time\",\"Monitoring authority\",\"Monitored addressee\",\"Monitoring time\",\"Newly established authority\",\"Other application\",\"Other energy\",\"Monitoring form\",\"Unspecified\",\"Sector addressee\",\"Subsidies and direct incentives\",\"Tax incentives\",\"Tradable permit\",\"Voluntary agreement\",\"Actor\",\"Application specificity\",\"Compliance\",\"Energy specificity\",\"Instrument types\",\"Links to other policies\",\"Objective\",\"Resource\",\"Reversibility\",\"Technology specificity\",\"Time\",\"Instrument types\",\"Policy design char.\",\"Tech. and app. specificity\"],\"marker\":{\"colors\":[\"#636efa\",\"#636efa\",\"#636efa\",\"#636efa\",\"#EF553B\",\"#EF553B\",\"#636efa\",\"#636efa\",\"#00cc96\",\"#00cc96\",\"#636efa\",\"#636efa\",\"#636efa\",\"#636efa\",\"#EF553B\",\"#636efa\",\"#636efa\",\"#EF553B\",\"#636efa\",\"#EF553B\",\"#636efa\",\"#636efa\",\"#636efa\",\"#636efa\",\"#00cc96\",\"#00cc96\",\"#636efa\",\"#636efa\",\"#636efa\",\"#636efa\",\"#636efa\",\"#636efa\",\"#636efa\",\"#00cc96\",\"#00cc96\",\"#636efa\",\"#EF553B\",\"#636efa\",\"#EF553B\",\"#EF553B\",\"#EF553B\",\"#EF553B\",\"#636efa\",\"#00cc96\",\"#636efa\",\"#00cc96\",\"#EF553B\",\"#636efa\",\"#636efa\",\"#636efa\",\"#636efa\",\"#00cc96\",\"#636efa\",\"#EF553B\",\"#636efa\",\"#00cc96\"]},\"name\":\"\",\"parents\":[\"Policy design char./Links to other policies\",\"Policy design char./Time\",\"Policy design char./Actor\",\"Policy design char./Actor\",\"Instrument types/Instrument types\",\"Instrument types/Instrument types\",\"Policy design char./Time\",\"Policy design char./Actor\",\"Tech. and app. specificity/Application specificity\",\"Tech. and app. specificity/Energy specificity\",\"Policy design char./Objective\",\"Policy design char./Objective\",\"Policy design char./Objective\",\"Policy design char./Objective\",\"Instrument types/Instrument types\",\"Policy design char./Time\",\"Policy design char./Links to other policies\",\"Instrument types/Instrument types\",\"Policy design char./Actor\",\"Instrument types/Instrument types\",\"Policy design char./Compliance\",\"Policy design char./Links to other policies\",\"Policy design char./Reversibility\",\"Policy design char./Resource\",\"Tech. and app. specificity/Technology specificity\",\"Tech. and app. specificity/Technology specificity\",\"Policy design char./Resource\",\"Policy design char./Resource\",\"Policy design char./Time\",\"Policy design char./Actor\",\"Policy design char./Actor\",\"Policy design char./Time\",\"Policy design char./Actor\",\"Tech. and app. specificity/Application specificity\",\"Tech. and app. specificity/Energy specificity\",\"Policy design char./Compliance\",\"Instrument types/Instrument types\",\"Policy design char./Actor\",\"Instrument types/Instrument types\",\"Instrument types/Instrument types\",\"Instrument types/Instrument types\",\"Instrument types/Instrument types\",\"Policy design char.\",\"Tech. and app. specificity\",\"Policy design char.\",\"Tech. and app. specificity\",\"Instrument types\",\"Policy design char.\",\"Policy design char.\",\"Policy design char.\",\"Policy design char.\",\"Tech. and app. specificity\",\"Policy design char.\",\"\",\"\",\"\"],\"values\":[125,310,2081,939,329,318,109,330,764,1358,556,266,162,8,12,14,319,1231,142,98,48,737,14,0,1058,1468,36,113,42,659,483,323,31,786,550,1781,1100,1356,102,78,146,72,6021,1550,1829,1908,3486,1181,992,149,14,2526,798,3486,10984,5984],\"type\":\"sunburst\"}],                        {\"template\":{\"data\":{\"bar\":[{\"error_x\":{\"color\":\"#2a3f5f\"},\"error_y\":{\"color\":\"#2a3f5f\"},\"marker\":{\"line\":{\"color\":\"#E5ECF6\",\"width\":0.5},\"pattern\":{\"fillmode\":\"overlay\",\"size\":10,\"solidity\":0.2}},\"type\":\"bar\"}],\"barpolar\":[{\"marker\":{\"line\":{\"color\":\"#E5ECF6\",\"width\":0.5},\"pattern\":{\"fillmode\":\"overlay\",\"size\":10,\"solidity\":0.2}},\"type\":\"barpolar\"}],\"carpet\":[{\"aaxis\":{\"endlinecolor\":\"#2a3f5f\",\"gridcolor\":\"white\",\"linecolor\":\"white\",\"minorgridcolor\":\"white\",\"startlinecolor\":\"#2a3f5f\"},\"baxis\":{\"endlinecolor\":\"#2a3f5f\",\"gridcolor\":\"white\",\"linecolor\":\"white\",\"minorgridcolor\":\"white\",\"startlinecolor\":\"#2a3f5f\"},\"type\":\"carpet\"}],\"choropleth\":[{\"colorbar\":{\"outlinewidth\":0,\"ticks\":\"\"},\"type\":\"choropleth\"}],\"contour\":[{\"colorbar\":{\"outlinewidth\":0,\"ticks\":\"\"},\"colorscale\":[[0.0,\"#0d0887\"],[0.1111111111111111,\"#46039f\"],[0.2222222222222222,\"#7201a8\"],[0.3333333333333333,\"#9c179e\"],[0.4444444444444444,\"#bd3786\"],[0.5555555555555556,\"#d8576b\"],[0.6666666666666666,\"#ed7953\"],[0.7777777777777778,\"#fb9f3a\"],[0.8888888888888888,\"#fdca26\"],[1.0,\"#f0f921\"]],\"type\":\"contour\"}],\"contourcarpet\":[{\"colorbar\":{\"outlinewidth\":0,\"ticks\":\"\"},\"type\":\"contourcarpet\"}],\"heatmap\":[{\"colorbar\":{\"outlinewidth\":0,\"ticks\":\"\"},\"colorscale\":[[0.0,\"#0d0887\"],[0.1111111111111111,\"#46039f\"],[0.2222222222222222,\"#7201a8\"],[0.3333333333333333,\"#9c179e\"],[0.4444444444444444,\"#bd3786\"],[0.5555555555555556,\"#d8576b\"],[0.6666666666666666,\"#ed7953\"],[0.7777777777777778,\"#fb9f3a\"],[0.8888888888888888,\"#fdca26\"],[1.0,\"#f0f921\"]],\"type\":\"heatmap\"}],\"heatmapgl\":[{\"colorbar\":{\"outlinewidth\":0,\"ticks\":\"\"},\"colorscale\":[[0.0,\"#0d0887\"],[0.1111111111111111,\"#46039f\"],[0.2222222222222222,\"#7201a8\"],[0.3333333333333333,\"#9c179e\"],[0.4444444444444444,\"#bd3786\"],[0.5555555555555556,\"#d8576b\"],[0.6666666666666666,\"#ed7953\"],[0.7777777777777778,\"#fb9f3a\"],[0.8888888888888888,\"#fdca26\"],[1.0,\"#f0f921\"]],\"type\":\"heatmapgl\"}],\"histogram\":[{\"marker\":{\"pattern\":{\"fillmode\":\"overlay\",\"size\":10,\"solidity\":0.2}},\"type\":\"histogram\"}],\"histogram2d\":[{\"colorbar\":{\"outlinewidth\":0,\"ticks\":\"\"},\"colorscale\":[[0.0,\"#0d0887\"],[0.1111111111111111,\"#46039f\"],[0.2222222222222222,\"#7201a8\"],[0.3333333333333333,\"#9c179e\"],[0.4444444444444444,\"#bd3786\"],[0.5555555555555556,\"#d8576b\"],[0.6666666666666666,\"#ed7953\"],[0.7777777777777778,\"#fb9f3a\"],[0.8888888888888888,\"#fdca26\"],[1.0,\"#f0f921\"]],\"type\":\"histogram2d\"}],\"histogram2dcontour\":[{\"colorbar\":{\"outlinewidth\":0,\"ticks\":\"\"},\"colorscale\":[[0.0,\"#0d0887\"],[0.1111111111111111,\"#46039f\"],[0.2222222222222222,\"#7201a8\"],[0.3333333333333333,\"#9c179e\"],[0.4444444444444444,\"#bd3786\"],[0.5555555555555556,\"#d8576b\"],[0.6666666666666666,\"#ed7953\"],[0.7777777777777778,\"#fb9f3a\"],[0.8888888888888888,\"#fdca26\"],[1.0,\"#f0f921\"]],\"type\":\"histogram2dcontour\"}],\"mesh3d\":[{\"colorbar\":{\"outlinewidth\":0,\"ticks\":\"\"},\"type\":\"mesh3d\"}],\"parcoords\":[{\"line\":{\"colorbar\":{\"outlinewidth\":0,\"ticks\":\"\"}},\"type\":\"parcoords\"}],\"pie\":[{\"automargin\":true,\"type\":\"pie\"}],\"scatter\":[{\"marker\":{\"colorbar\":{\"outlinewidth\":0,\"ticks\":\"\"}},\"type\":\"scatter\"}],\"scatter3d\":[{\"line\":{\"colorbar\":{\"outlinewidth\":0,\"ticks\":\"\"}},\"marker\":{\"colorbar\":{\"outlinewidth\":0,\"ticks\":\"\"}},\"type\":\"scatter3d\"}],\"scattercarpet\":[{\"marker\":{\"colorbar\":{\"outlinewidth\":0,\"ticks\":\"\"}},\"type\":\"scattercarpet\"}],\"scattergeo\":[{\"marker\":{\"colorbar\":{\"outlinewidth\":0,\"ticks\":\"\"}},\"type\":\"scattergeo\"}],\"scattergl\":[{\"marker\":{\"colorbar\":{\"outlinewidth\":0,\"ticks\":\"\"}},\"type\":\"scattergl\"}],\"scattermapbox\":[{\"marker\":{\"colorbar\":{\"outlinewidth\":0,\"ticks\":\"\"}},\"type\":\"scattermapbox\"}],\"scatterpolar\":[{\"marker\":{\"colorbar\":{\"outlinewidth\":0,\"ticks\":\"\"}},\"type\":\"scatterpolar\"}],\"scatterpolargl\":[{\"marker\":{\"colorbar\":{\"outlinewidth\":0,\"ticks\":\"\"}},\"type\":\"scatterpolargl\"}],\"scatterternary\":[{\"marker\":{\"colorbar\":{\"outlinewidth\":0,\"ticks\":\"\"}},\"type\":\"scatterternary\"}],\"surface\":[{\"colorbar\":{\"outlinewidth\":0,\"ticks\":\"\"},\"colorscale\":[[0.0,\"#0d0887\"],[0.1111111111111111,\"#46039f\"],[0.2222222222222222,\"#7201a8\"],[0.3333333333333333,\"#9c179e\"],[0.4444444444444444,\"#bd3786\"],[0.5555555555555556,\"#d8576b\"],[0.6666666666666666,\"#ed7953\"],[0.7777777777777778,\"#fb9f3a\"],[0.8888888888888888,\"#fdca26\"],[1.0,\"#f0f921\"]],\"type\":\"surface\"}],\"table\":[{\"cells\":{\"fill\":{\"color\":\"#EBF0F8\"},\"line\":{\"color\":\"white\"}},\"header\":{\"fill\":{\"color\":\"#C8D4E3\"},\"line\":{\"color\":\"white\"}},\"type\":\"table\"}]},\"layout\":{\"annotationdefaults\":{\"arrowcolor\":\"#2a3f5f\",\"arrowhead\":0,\"arrowwidth\":1},\"autotypenumbers\":\"strict\",\"coloraxis\":{\"colorbar\":{\"outlinewidth\":0,\"ticks\":\"\"}},\"colorscale\":{\"diverging\":[[0,\"#8e0152\"],[0.1,\"#c51b7d\"],[0.2,\"#de77ae\"],[0.3,\"#f1b6da\"],[0.4,\"#fde0ef\"],[0.5,\"#f7f7f7\"],[0.6,\"#e6f5d0\"],[0.7,\"#b8e186\"],[0.8,\"#7fbc41\"],[0.9,\"#4d9221\"],[1,\"#276419\"]],\"sequential\":[[0.0,\"#0d0887\"],[0.1111111111111111,\"#46039f\"],[0.2222222222222222,\"#7201a8\"],[0.3333333333333333,\"#9c179e\"],[0.4444444444444444,\"#bd3786\"],[0.5555555555555556,\"#d8576b\"],[0.6666666666666666,\"#ed7953\"],[0.7777777777777778,\"#fb9f3a\"],[0.8888888888888888,\"#fdca26\"],[1.0,\"#f0f921\"]],\"sequentialminus\":[[0.0,\"#0d0887\"],[0.1111111111111111,\"#46039f\"],[0.2222222222222222,\"#7201a8\"],[0.3333333333333333,\"#9c179e\"],[0.4444444444444444,\"#bd3786\"],[0.5555555555555556,\"#d8576b\"],[0.6666666666666666,\"#ed7953\"],[0.7777777777777778,\"#fb9f3a\"],[0.8888888888888888,\"#fdca26\"],[1.0,\"#f0f921\"]]},\"colorway\":[\"#636efa\",\"#EF553B\",\"#00cc96\",\"#ab63fa\",\"#FFA15A\",\"#19d3f3\",\"#FF6692\",\"#B6E880\",\"#FF97FF\",\"#FECB52\"],\"font\":{\"color\":\"#2a3f5f\"},\"geo\":{\"bgcolor\":\"white\",\"lakecolor\":\"white\",\"landcolor\":\"#E5ECF6\",\"showlakes\":true,\"showland\":true,\"subunitcolor\":\"white\"},\"hoverlabel\":{\"align\":\"left\"},\"hovermode\":\"closest\",\"mapbox\":{\"style\":\"light\"},\"paper_bgcolor\":\"white\",\"plot_bgcolor\":\"#E5ECF6\",\"polar\":{\"angularaxis\":{\"gridcolor\":\"white\",\"linecolor\":\"white\",\"ticks\":\"\"},\"bgcolor\":\"#E5ECF6\",\"radialaxis\":{\"gridcolor\":\"white\",\"linecolor\":\"white\",\"ticks\":\"\"}},\"scene\":{\"xaxis\":{\"backgroundcolor\":\"#E5ECF6\",\"gridcolor\":\"white\",\"gridwidth\":2,\"linecolor\":\"white\",\"showbackground\":true,\"ticks\":\"\",\"zerolinecolor\":\"white\"},\"yaxis\":{\"backgroundcolor\":\"#E5ECF6\",\"gridcolor\":\"white\",\"gridwidth\":2,\"linecolor\":\"white\",\"showbackground\":true,\"ticks\":\"\",\"zerolinecolor\":\"white\"},\"zaxis\":{\"backgroundcolor\":\"#E5ECF6\",\"gridcolor\":\"white\",\"gridwidth\":2,\"linecolor\":\"white\",\"showbackground\":true,\"ticks\":\"\",\"zerolinecolor\":\"white\"}},\"shapedefaults\":{\"line\":{\"color\":\"#2a3f5f\"}},\"ternary\":{\"aaxis\":{\"gridcolor\":\"white\",\"linecolor\":\"white\",\"ticks\":\"\"},\"baxis\":{\"gridcolor\":\"white\",\"linecolor\":\"white\",\"ticks\":\"\"},\"bgcolor\":\"#E5ECF6\",\"caxis\":{\"gridcolor\":\"white\",\"linecolor\":\"white\",\"ticks\":\"\"}},\"title\":{\"x\":0.05},\"xaxis\":{\"automargin\":true,\"gridcolor\":\"white\",\"linecolor\":\"white\",\"ticks\":\"\",\"title\":{\"standoff\":15},\"zerolinecolor\":\"white\",\"zerolinewidth\":2},\"yaxis\":{\"automargin\":true,\"gridcolor\":\"white\",\"linecolor\":\"white\",\"ticks\":\"\",\"title\":{\"standoff\":15},\"zerolinecolor\":\"white\",\"zerolinewidth\":2}}},\"legend\":{\"tracegroupgap\":0},\"margin\":{\"t\":60}},                        {\"responsive\": true}                    ).then(function(){\n",
       "                            \n",
       "var gd = document.getElementById('637476a5-6ebb-4dad-901d-2d60cc038a1c');\n",
       "var x = new MutationObserver(function (mutations, observer) {{\n",
       "        var display = window.getComputedStyle(gd).display;\n",
       "        if (!display || display === 'none') {{\n",
       "            console.log([gd, 'removed!']);\n",
       "            Plotly.purge(gd);\n",
       "            observer.disconnect();\n",
       "        }}\n",
       "}});\n",
       "\n",
       "// Listen for the removal of the full notebook cells\n",
       "var notebookContainer = gd.closest('#notebook-container');\n",
       "if (notebookContainer) {{\n",
       "    x.observe(notebookContainer, {childList: true});\n",
       "}}\n",
       "\n",
       "// Listen for the clearing of the current output cell\n",
       "var outputEl = gd.closest('.output');\n",
       "if (outputEl) {{\n",
       "    x.observe(outputEl, {childList: true});\n",
       "}}\n",
       "\n",
       "                        })                };                });            </script>        </div>"
      ]
     },
     "metadata": {},
     "output_type": "display_data"
    }
   ],
   "source": [
    "fig = px.sunburst(df, path=['Layers', 'Features', 'Tags'], values='Weight', color='Layers')\n",
    "fig.write_image('ann_distribution_sunburst.pdf', engine = \"orca\")\n",
    "fig.show()"
   ]
  },
  {
   "cell_type": "code",
   "execution_count": null,
   "metadata": {},
   "outputs": [],
   "source": []
  }
 ],
 "metadata": {
  "interpreter": {
   "hash": "f1357e5d6940800ae93a3fd23162ea93a77a6c89f02c68504dcfa719d1ffeee2"
  },
  "kernelspec": {
   "display_name": "Python 3 (ipykernel)",
   "language": "python",
   "name": "python3"
  },
  "language_info": {
   "codemirror_mode": {
    "name": "ipython",
    "version": 3
   },
   "file_extension": ".py",
   "mimetype": "text/x-python",
   "name": "python",
   "nbconvert_exporter": "python",
   "pygments_lexer": "ipython3",
   "version": "3.9.7"
  }
 },
 "nbformat": 4,
 "nbformat_minor": 4
}
